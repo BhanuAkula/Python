{
 "cells": [
  {
   "cell_type": "code",
   "execution_count": 53,
   "metadata": {},
   "outputs": [],
   "source": [
    "import gzip\n",
    "import csv\n",
    "import json\n",
    "import pandas as pd"
   ]
  },
  {
   "cell_type": "code",
   "execution_count": 54,
   "metadata": {},
   "outputs": [],
   "source": [
    "import numpy as np"
   ]
  },
  {
   "cell_type": "code",
   "execution_count": 6,
   "metadata": {},
   "outputs": [],
   "source": [
    "#1. Download digits dataset, which can be accessed from the following link:"
   ]
  },
  {
   "cell_type": "code",
   "execution_count": 82,
   "metadata": {
    "scrolled": true
   },
   "outputs": [
    {
     "name": "stdout",
     "output_type": "stream",
     "text": [
      "      0  0.1   5  13   9   1  0.2  0.3  0.4  0.5  ...  0.23  0.24  0.25  6  \\\n",
      "0     0    0   0  12  13   5    0    0    0    0  ...     0     0     0  0   \n",
      "1     0    0   0   4  15  12    0    0    0    0  ...     0     0     0  0   \n",
      "2     0    0   7  15  13   1    0    0    0    8  ...     0     0     0  7   \n",
      "3     0    0   0   1  11   0    0    0    0    0  ...     0     0     0  0   \n",
      "4     0    0  12  10   0   0    0    0    0    0  ...     0     0     0  9   \n",
      "...  ..  ...  ..  ..  ..  ..  ...  ...  ...  ...  ...   ...   ...   ... ..   \n",
      "1791  0    0   4  10  13   6    0    0    0    1  ...     0     0     0  2   \n",
      "1792  0    0   6  16  13  11    1    0    0    0  ...     0     0     0  6   \n",
      "1793  0    0   1  11  15   1    0    0    0    0  ...     0     0     0  2   \n",
      "1794  0    0   2  10   7   0    0    0    0    0  ...     0     0     0  5   \n",
      "1795  0    0  10  14   8   1    0    0    0    2  ...     0     0     1  8   \n",
      "\n",
      "      13.2  10.2  0.26  0.27  0.28  0.29  \n",
      "0       11    16    10     0     0     1  \n",
      "1        3    11    16     9     0     2  \n",
      "2       13    13     9     0     0     3  \n",
      "3        2    16     4     0     0     4  \n",
      "4       16    16    10     0     0     5  \n",
      "...    ...   ...   ...   ...   ...   ...  \n",
      "1791    14    15     9     0     0     9  \n",
      "1792    16    14     6     0     0     0  \n",
      "1793     9    13     6     0     0     8  \n",
      "1794    12    16    12     0     0     9  \n",
      "1795    12    14    12     1     0     8  \n",
      "\n",
      "[1796 rows x 65 columns]\n"
     ]
    }
   ],
   "source": [
    "data1 = pd.read_csv(r\"C:\\Users\\admin\\anaconda3\\Lib\\site-packages\\PIL\\Grp15\\digits.csv.gz\", nrows=5000, compression='gzip',\n",
    "                   error_bad_lines=False)\n",
    "\n",
    "#from numpy import loadtxt\n",
    "#data=loadtxt(r\"C:\\Users\\admin\\anaconda3\\Lib\\site-packages\\PIL\\digits.csv.gz\",delimiter=',')\n",
    "for i in range (1):\n",
    "    print(data1)\n"
   ]
  },
  {
   "cell_type": "code",
   "execution_count": 56,
   "metadata": {},
   "outputs": [
    {
     "name": "stdout",
     "output_type": "stream",
     "text": [
      "(1796, 65)\n"
     ]
    }
   ],
   "source": [
    "print(data1.shape)"
   ]
  },
  {
   "cell_type": "code",
   "execution_count": 57,
   "metadata": {},
   "outputs": [
    {
     "data": {
      "text/html": [
       "<div>\n",
       "<style scoped>\n",
       "    .dataframe tbody tr th:only-of-type {\n",
       "        vertical-align: middle;\n",
       "    }\n",
       "\n",
       "    .dataframe tbody tr th {\n",
       "        vertical-align: top;\n",
       "    }\n",
       "\n",
       "    .dataframe thead th {\n",
       "        text-align: right;\n",
       "    }\n",
       "</style>\n",
       "<table border=\"1\" class=\"dataframe\">\n",
       "  <thead>\n",
       "    <tr style=\"text-align: right;\">\n",
       "      <th></th>\n",
       "      <th>0</th>\n",
       "      <th>0.1</th>\n",
       "      <th>5</th>\n",
       "      <th>13</th>\n",
       "      <th>9</th>\n",
       "      <th>1</th>\n",
       "      <th>0.2</th>\n",
       "      <th>0.3</th>\n",
       "      <th>0.4</th>\n",
       "      <th>0.5</th>\n",
       "      <th>...</th>\n",
       "      <th>0.23</th>\n",
       "      <th>0.24</th>\n",
       "      <th>0.25</th>\n",
       "      <th>6</th>\n",
       "      <th>13.2</th>\n",
       "      <th>10.2</th>\n",
       "      <th>0.26</th>\n",
       "      <th>0.27</th>\n",
       "      <th>0.28</th>\n",
       "      <th>0.29</th>\n",
       "    </tr>\n",
       "  </thead>\n",
       "  <tbody>\n",
       "    <tr>\n",
       "      <th>0</th>\n",
       "      <td>0</td>\n",
       "      <td>0</td>\n",
       "      <td>0</td>\n",
       "      <td>12</td>\n",
       "      <td>13</td>\n",
       "      <td>5</td>\n",
       "      <td>0</td>\n",
       "      <td>0</td>\n",
       "      <td>0</td>\n",
       "      <td>0</td>\n",
       "      <td>...</td>\n",
       "      <td>0</td>\n",
       "      <td>0</td>\n",
       "      <td>0</td>\n",
       "      <td>0</td>\n",
       "      <td>11</td>\n",
       "      <td>16</td>\n",
       "      <td>10</td>\n",
       "      <td>0</td>\n",
       "      <td>0</td>\n",
       "      <td>1</td>\n",
       "    </tr>\n",
       "    <tr>\n",
       "      <th>1</th>\n",
       "      <td>0</td>\n",
       "      <td>0</td>\n",
       "      <td>0</td>\n",
       "      <td>4</td>\n",
       "      <td>15</td>\n",
       "      <td>12</td>\n",
       "      <td>0</td>\n",
       "      <td>0</td>\n",
       "      <td>0</td>\n",
       "      <td>0</td>\n",
       "      <td>...</td>\n",
       "      <td>0</td>\n",
       "      <td>0</td>\n",
       "      <td>0</td>\n",
       "      <td>0</td>\n",
       "      <td>3</td>\n",
       "      <td>11</td>\n",
       "      <td>16</td>\n",
       "      <td>9</td>\n",
       "      <td>0</td>\n",
       "      <td>2</td>\n",
       "    </tr>\n",
       "    <tr>\n",
       "      <th>2</th>\n",
       "      <td>0</td>\n",
       "      <td>0</td>\n",
       "      <td>7</td>\n",
       "      <td>15</td>\n",
       "      <td>13</td>\n",
       "      <td>1</td>\n",
       "      <td>0</td>\n",
       "      <td>0</td>\n",
       "      <td>0</td>\n",
       "      <td>8</td>\n",
       "      <td>...</td>\n",
       "      <td>0</td>\n",
       "      <td>0</td>\n",
       "      <td>0</td>\n",
       "      <td>7</td>\n",
       "      <td>13</td>\n",
       "      <td>13</td>\n",
       "      <td>9</td>\n",
       "      <td>0</td>\n",
       "      <td>0</td>\n",
       "      <td>3</td>\n",
       "    </tr>\n",
       "    <tr>\n",
       "      <th>3</th>\n",
       "      <td>0</td>\n",
       "      <td>0</td>\n",
       "      <td>0</td>\n",
       "      <td>1</td>\n",
       "      <td>11</td>\n",
       "      <td>0</td>\n",
       "      <td>0</td>\n",
       "      <td>0</td>\n",
       "      <td>0</td>\n",
       "      <td>0</td>\n",
       "      <td>...</td>\n",
       "      <td>0</td>\n",
       "      <td>0</td>\n",
       "      <td>0</td>\n",
       "      <td>0</td>\n",
       "      <td>2</td>\n",
       "      <td>16</td>\n",
       "      <td>4</td>\n",
       "      <td>0</td>\n",
       "      <td>0</td>\n",
       "      <td>4</td>\n",
       "    </tr>\n",
       "    <tr>\n",
       "      <th>4</th>\n",
       "      <td>0</td>\n",
       "      <td>0</td>\n",
       "      <td>12</td>\n",
       "      <td>10</td>\n",
       "      <td>0</td>\n",
       "      <td>0</td>\n",
       "      <td>0</td>\n",
       "      <td>0</td>\n",
       "      <td>0</td>\n",
       "      <td>0</td>\n",
       "      <td>...</td>\n",
       "      <td>0</td>\n",
       "      <td>0</td>\n",
       "      <td>0</td>\n",
       "      <td>9</td>\n",
       "      <td>16</td>\n",
       "      <td>16</td>\n",
       "      <td>10</td>\n",
       "      <td>0</td>\n",
       "      <td>0</td>\n",
       "      <td>5</td>\n",
       "    </tr>\n",
       "  </tbody>\n",
       "</table>\n",
       "<p>5 rows × 65 columns</p>\n",
       "</div>"
      ],
      "text/plain": [
       "   0  0.1   5  13   9   1  0.2  0.3  0.4  0.5  ...  0.23  0.24  0.25  6  13.2  \\\n",
       "0  0    0   0  12  13   5    0    0    0    0  ...     0     0     0  0    11   \n",
       "1  0    0   0   4  15  12    0    0    0    0  ...     0     0     0  0     3   \n",
       "2  0    0   7  15  13   1    0    0    0    8  ...     0     0     0  7    13   \n",
       "3  0    0   0   1  11   0    0    0    0    0  ...     0     0     0  0     2   \n",
       "4  0    0  12  10   0   0    0    0    0    0  ...     0     0     0  9    16   \n",
       "\n",
       "   10.2  0.26  0.27  0.28  0.29  \n",
       "0    16    10     0     0     1  \n",
       "1    11    16     9     0     2  \n",
       "2    13     9     0     0     3  \n",
       "3    16     4     0     0     4  \n",
       "4    16    10     0     0     5  \n",
       "\n",
       "[5 rows x 65 columns]"
      ]
     },
     "execution_count": 57,
     "metadata": {},
     "output_type": "execute_result"
    }
   ],
   "source": [
    "data1.head()"
   ]
  },
  {
   "cell_type": "code",
   "execution_count": 43,
   "metadata": {},
   "outputs": [
    {
     "data": {
      "text/plain": [
       "(1796, 65)"
      ]
     },
     "execution_count": 43,
     "metadata": {},
     "output_type": "execute_result"
    }
   ],
   "source": [
    "data1.shape"
   ]
  },
  {
   "cell_type": "code",
   "execution_count": 52,
   "metadata": {},
   "outputs": [
    {
     "data": {
      "text/plain": [
       "1796"
      ]
     },
     "execution_count": 52,
     "metadata": {},
     "output_type": "execute_result"
    }
   ],
   "source": [
    "len(data)"
   ]
  },
  {
   "cell_type": "code",
   "execution_count": 25,
   "metadata": {},
   "outputs": [],
   "source": [
    "import pandas as pd\n",
    "import numpy as np\n",
    "import matplotlib.pyplot as plt\n",
    "df = pd.read_csv(r\"C:\\Users\\admin\\anaconda3\\Lib\\site-packages\\PIL\\Grp15\\digits.csv.gz\")\n",
    "data = df.to_numpy()"
   ]
  },
  {
   "cell_type": "code",
   "execution_count": 26,
   "metadata": {},
   "outputs": [
    {
     "name": "stderr",
     "output_type": "stream",
     "text": [
      "<ipython-input-26-7d3b8802807e>:9: FutureWarning: The behavior of rgb2gray will change in scikit-image 0.19. Currently, rgb2gray allows 2D grayscale image to be passed as inputs and leaves them unmodified as outputs. Starting from version 0.19, 2D arrays will be treated as 1D images with 3 channels.\n",
      "  img1 = rgb2gray(img_as_float(img_lst[a]))\n"
     ]
    },
    {
     "data": {
      "image/png": "[encoded data removed]",
      "text/plain": [
       "<Figure size 1296x1296 with 10 Axes>"
      ]
     },
     "metadata": {
      "needs_background": "light"
     },
     "output_type": "display_data"
    }
   ],
   "source": [
    "from skimage.color import rgb2gray\n",
    "from skimage import img_as_float\n",
    "from matplotlib import pyplot\n",
    "img_lst=[]\n",
    "for i in range(10):\n",
    "    img_lst.append(data[i,:64].reshape(8,8))\n",
    "fig,axes = plt.subplots(1,10,figsize=(18,18))\n",
    "for a in range(10):\n",
    "    img1 = rgb2gray(img_as_float(img_lst[a]))\n",
    "    axes[a].imshow(img1,cmap='gray')\n",
    "    axes[a].set_title(f\"image:{a+1}\")\n",
    "    axes[a].axis('off')\n",
    "fig.tight_layout()\n",
    "plt.show()"
   ]
  },
  {
   "cell_type": "code",
   "execution_count": 28,
   "metadata": {},
   "outputs": [],
   "source": [
    "from sklearn.decomposition import PCA\n",
    "from sklearn.datasets import make_classification"
   ]
  },
  {
   "cell_type": "code",
   "execution_count": 29,
   "metadata": {},
   "outputs": [],
   "source": [
    "X, y = make_classification(n_samples=1797)\n",
    "n_samples = X.shape[0]"
   ]
  },
  {
   "cell_type": "code",
   "execution_count": 35,
   "metadata": {},
   "outputs": [
    {
     "name": "stdout",
     "output_type": "stream",
     "text": [
      "[1.79149739e+02 1.63647008e+02 1.42087349e+02 1.01083071e+02\n",
      " 6.97237235e+01 6.04855544e+01 5.30738717e+01 4.41309176e+01\n",
      " 4.04636805e+01 3.72146219e+01 2.87541016e+01 2.74069149e+01\n",
      " 2.20204222e+01 2.13771974e+01 1.76368525e+01 1.70066882e+01\n",
      " 1.60813733e+01 1.51376273e+01 1.23269955e+01 1.08895217e+01\n",
      " 1.07313823e+01 9.82855790e+00 9.33664868e+00 8.77479608e+00\n",
      " 8.50078109e+00 7.16732572e+00 6.92561564e+00 6.33050047e+00\n",
      " 5.88794267e+00 5.24371426e+00 4.49935266e+00 4.32722464e+00\n",
      " 4.10171917e+00 3.98304234e+00 3.72133927e+00 3.57505896e+00\n",
      " 3.08765783e+00 2.90960461e+00 2.69914002e+00 2.59635402e+00\n",
      " 2.48203162e+00 2.22365794e+00 1.88640258e+00 1.80819949e+00\n",
      " 1.68149949e+00 1.38458608e+00 1.29222255e+00 1.15717213e+00\n",
      " 9.27157097e-01 6.70064945e-01 4.85357846e-01 2.52374946e-01\n",
      " 9.91430315e-02 6.31519951e-02 6.05220083e-02 3.96280346e-02\n",
      " 1.49586546e-02 8.46318002e-03 3.61703040e-03 1.27457063e-03\n",
      " 6.61613182e-04 4.12289411e-04 1.00815410e-30 1.00815410e-30\n",
      " 9.83718168e-31]\n"
     ]
    }
   ],
   "source": [
    "pca = PCA()\n",
    "pca.fit(df)\n",
    "\n",
    "#print(pca.components_)\n",
    "print(pca.explained_variance_)"
   ]
  },
  {
   "cell_type": "code",
   "execution_count": null,
   "metadata": {},
   "outputs": [],
   "source": []
  }
 ],
 "metadata": {
  "kernelspec": {
   "display_name": "Python 3",
   "language": "python",
   "name": "python3"
  },
  "language_info": {
   "codemirror_mode": {
    "name": "ipython",
    "version": 3
   },
   "file_extension": ".py",
   "mimetype": "text/x-python",
   "name": "python",
   "nbconvert_exporter": "python",
   "pygments_lexer": "ipython3",
   "version": "3.8.5"
  }
 },
 "nbformat": 4,
 "nbformat_minor": 4
}
