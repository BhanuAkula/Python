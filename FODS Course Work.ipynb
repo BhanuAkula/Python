{
 "cells": [
  {
   "cell_type": "code",
   "execution_count": 2,
   "metadata": {},
   "outputs": [],
   "source": [
    "#############    TASK 1"
   ]
  },
  {
   "cell_type": "code",
   "execution_count": 3,
   "metadata": {},
   "outputs": [
    {
     "data": {
      "text/html": [
       "<div>\n",
       "<style scoped>\n",
       "    .dataframe tbody tr th:only-of-type {\n",
       "        vertical-align: middle;\n",
       "    }\n",
       "\n",
       "    .dataframe tbody tr th {\n",
       "        vertical-align: top;\n",
       "    }\n",
       "\n",
       "    .dataframe thead th {\n",
       "        text-align: right;\n",
       "    }\n",
       "</style>\n",
       "<table border=\"1\" class=\"dataframe\">\n",
       "  <thead>\n",
       "    <tr style=\"text-align: right;\">\n",
       "      <th></th>\n",
       "      <th>F1</th>\n",
       "      <th>F2</th>\n",
       "      <th>F3</th>\n",
       "      <th>F4</th>\n",
       "      <th>F5</th>\n",
       "      <th>F6</th>\n",
       "      <th>F7</th>\n",
       "      <th>F8</th>\n",
       "      <th>F9</th>\n",
       "      <th>F10</th>\n",
       "      <th>F11</th>\n",
       "      <th>F12</th>\n",
       "      <th>L</th>\n",
       "    </tr>\n",
       "  </thead>\n",
       "  <tbody>\n",
       "    <tr>\n",
       "      <th>0</th>\n",
       "      <td>0.3315</td>\n",
       "      <td>0.2156</td>\n",
       "      <td>0.6802</td>\n",
       "      <td>0.1434</td>\n",
       "      <td>0.6825</td>\n",
       "      <td>0.2720</td>\n",
       "      <td>0.6223</td>\n",
       "      <td>0.2092</td>\n",
       "      <td>0.7961</td>\n",
       "      <td>0.1530</td>\n",
       "      <td>0.5856</td>\n",
       "      <td>0.2573</td>\n",
       "      <td>1</td>\n",
       "    </tr>\n",
       "    <tr>\n",
       "      <th>1</th>\n",
       "      <td>0.0939</td>\n",
       "      <td>1.0089</td>\n",
       "      <td>0.0365</td>\n",
       "      <td>0.6944</td>\n",
       "      <td>0.0908</td>\n",
       "      <td>0.4961</td>\n",
       "      <td>0.0722</td>\n",
       "      <td>0.6521</td>\n",
       "      <td>-0.0130</td>\n",
       "      <td>0.6085</td>\n",
       "      <td>0.0631</td>\n",
       "      <td>0.6597</td>\n",
       "      <td>2</td>\n",
       "    </tr>\n",
       "    <tr>\n",
       "      <th>2</th>\n",
       "      <td>0.5184</td>\n",
       "      <td>0.2283</td>\n",
       "      <td>0.5300</td>\n",
       "      <td>0.6884</td>\n",
       "      <td>0.7456</td>\n",
       "      <td>0.6171</td>\n",
       "      <td>0.6136</td>\n",
       "      <td>0.5928</td>\n",
       "      <td>0.7678</td>\n",
       "      <td>0.6130</td>\n",
       "      <td>0.6705</td>\n",
       "      <td>0.5202</td>\n",
       "      <td>1</td>\n",
       "    </tr>\n",
       "    <tr>\n",
       "      <th>3</th>\n",
       "      <td>0.4208</td>\n",
       "      <td>0.6740</td>\n",
       "      <td>0.1651</td>\n",
       "      <td>0.7592</td>\n",
       "      <td>0.1810</td>\n",
       "      <td>0.5448</td>\n",
       "      <td>0.1707</td>\n",
       "      <td>0.7554</td>\n",
       "      <td>0.1635</td>\n",
       "      <td>0.5492</td>\n",
       "      <td>0.2598</td>\n",
       "      <td>0.6455</td>\n",
       "      <td>2</td>\n",
       "    </tr>\n",
       "    <tr>\n",
       "      <th>4</th>\n",
       "      <td>0.3130</td>\n",
       "      <td>0.6465</td>\n",
       "      <td>0.5908</td>\n",
       "      <td>0.6924</td>\n",
       "      <td>0.7664</td>\n",
       "      <td>0.6262</td>\n",
       "      <td>1.7177</td>\n",
       "      <td>0.0150</td>\n",
       "      <td>0.0851</td>\n",
       "      <td>1.9046</td>\n",
       "      <td>-0.0165</td>\n",
       "      <td>0.0221</td>\n",
       "      <td>3</td>\n",
       "    </tr>\n",
       "  </tbody>\n",
       "</table>\n",
       "</div>"
      ],
      "text/plain": [
       "       F1      F2      F3      F4      F5      F6      F7      F8      F9  \\\n",
       "0  0.3315  0.2156  0.6802  0.1434  0.6825  0.2720  0.6223  0.2092  0.7961   \n",
       "1  0.0939  1.0089  0.0365  0.6944  0.0908  0.4961  0.0722  0.6521 -0.0130   \n",
       "2  0.5184  0.2283  0.5300  0.6884  0.7456  0.6171  0.6136  0.5928  0.7678   \n",
       "3  0.4208  0.6740  0.1651  0.7592  0.1810  0.5448  0.1707  0.7554  0.1635   \n",
       "4  0.3130  0.6465  0.5908  0.6924  0.7664  0.6262  1.7177  0.0150  0.0851   \n",
       "\n",
       "      F10     F11     F12  L  \n",
       "0  0.1530  0.5856  0.2573  1  \n",
       "1  0.6085  0.0631  0.6597  2  \n",
       "2  0.6130  0.6705  0.5202  1  \n",
       "3  0.5492  0.2598  0.6455  2  \n",
       "4  1.9046 -0.0165  0.0221  3  "
      ]
     },
     "execution_count": 3,
     "metadata": {},
     "output_type": "execute_result"
    }
   ],
   "source": [
    "# Coursework – Data Analysis.....A.B.\n",
    "# 3-phase oil dataset.....\n",
    "import pandas as pd\n",
    "\n",
    "Trndata = pd.read_csv(r\"C:\\Users\\admin\\anaconda3\\Lib\\site-packages\\PIL\\trndata.csv\")\n",
    "\n",
    "Trndata.head()"
   ]
  },
  {
   "cell_type": "code",
   "execution_count": 4,
   "metadata": {},
   "outputs": [
    {
     "data": {
      "text/plain": [
       "pandas.core.frame.DataFrame"
      ]
     },
     "execution_count": 4,
     "metadata": {},
     "output_type": "execute_result"
    }
   ],
   "source": [
    "type(Trndata)"
   ]
  },
  {
   "cell_type": "code",
   "execution_count": 5,
   "metadata": {},
   "outputs": [
    {
     "data": {
      "text/plain": [
       "1000"
      ]
     },
     "execution_count": 5,
     "metadata": {},
     "output_type": "execute_result"
    }
   ],
   "source": [
    "len(Trndata)"
   ]
  },
  {
   "cell_type": "code",
   "execution_count": 6,
   "metadata": {},
   "outputs": [
    {
     "data": {
      "text/plain": [
       "(1000, 13)"
      ]
     },
     "execution_count": 6,
     "metadata": {},
     "output_type": "execute_result"
    }
   ],
   "source": [
    "Trndata.shape"
   ]
  },
  {
   "cell_type": "code",
   "execution_count": null,
   "metadata": {},
   "outputs": [],
   "source": []
  },
  {
   "cell_type": "code",
   "execution_count": 7,
   "metadata": {},
   "outputs": [],
   "source": [
    "sm = Trndata.head()"
   ]
  },
  {
   "cell_type": "code",
   "execution_count": 8,
   "metadata": {},
   "outputs": [
    {
     "name": "stdout",
     "output_type": "stream",
     "text": [
      "Total Number of features in Training set: 12\n"
     ]
    }
   ],
   "source": [
    "print(\"Total Number of features in Training set: \"+ str(len(Trndata.iloc[:, :-1].axes[1])))"
   ]
  },
  {
   "cell_type": "code",
   "execution_count": 9,
   "metadata": {},
   "outputs": [
    {
     "data": {
      "text/html": [
       "<div>\n",
       "<style scoped>\n",
       "    .dataframe tbody tr th:only-of-type {\n",
       "        vertical-align: middle;\n",
       "    }\n",
       "\n",
       "    .dataframe tbody tr th {\n",
       "        vertical-align: top;\n",
       "    }\n",
       "\n",
       "    .dataframe thead th {\n",
       "        text-align: right;\n",
       "    }\n",
       "</style>\n",
       "<table border=\"1\" class=\"dataframe\">\n",
       "  <thead>\n",
       "    <tr style=\"text-align: right;\">\n",
       "      <th></th>\n",
       "      <th>F1</th>\n",
       "      <th>F2</th>\n",
       "      <th>F3</th>\n",
       "      <th>F4</th>\n",
       "      <th>F5</th>\n",
       "      <th>F6</th>\n",
       "      <th>F7</th>\n",
       "      <th>F8</th>\n",
       "      <th>F9</th>\n",
       "      <th>F10</th>\n",
       "      <th>F11</th>\n",
       "      <th>F12</th>\n",
       "      <th>L</th>\n",
       "    </tr>\n",
       "  </thead>\n",
       "  <tbody>\n",
       "    <tr>\n",
       "      <th>0</th>\n",
       "      <td>0.5803</td>\n",
       "      <td>0.4980</td>\n",
       "      <td>0.8809</td>\n",
       "      <td>0.8215</td>\n",
       "      <td>1.0133</td>\n",
       "      <td>0.9187</td>\n",
       "      <td>0.8508</td>\n",
       "      <td>0.8496</td>\n",
       "      <td>0.9996</td>\n",
       "      <td>0.9670</td>\n",
       "      <td>0.9111</td>\n",
       "      <td>0.7814</td>\n",
       "      <td>1</td>\n",
       "    </tr>\n",
       "    <tr>\n",
       "      <th>1</th>\n",
       "      <td>0.0026</td>\n",
       "      <td>0.6084</td>\n",
       "      <td>0.2808</td>\n",
       "      <td>0.6282</td>\n",
       "      <td>0.2995</td>\n",
       "      <td>0.7513</td>\n",
       "      <td>-0.0107</td>\n",
       "      <td>1.7503</td>\n",
       "      <td>-0.0622</td>\n",
       "      <td>2.0704</td>\n",
       "      <td>-0.0999</td>\n",
       "      <td>0.1214</td>\n",
       "      <td>3</td>\n",
       "    </tr>\n",
       "    <tr>\n",
       "      <th>2</th>\n",
       "      <td>-0.0115</td>\n",
       "      <td>1.1193</td>\n",
       "      <td>0.2201</td>\n",
       "      <td>1.3189</td>\n",
       "      <td>0.2656</td>\n",
       "      <td>1.4039</td>\n",
       "      <td>-0.0067</td>\n",
       "      <td>1.7438</td>\n",
       "      <td>0.0013</td>\n",
       "      <td>2.0020</td>\n",
       "      <td>-0.0401</td>\n",
       "      <td>1.7797</td>\n",
       "      <td>3</td>\n",
       "    </tr>\n",
       "    <tr>\n",
       "      <th>3</th>\n",
       "      <td>-0.0536</td>\n",
       "      <td>1.0370</td>\n",
       "      <td>0.0558</td>\n",
       "      <td>1.2483</td>\n",
       "      <td>0.2640</td>\n",
       "      <td>1.1456</td>\n",
       "      <td>0.0140</td>\n",
       "      <td>1.7156</td>\n",
       "      <td>0.0125</td>\n",
       "      <td>1.9889</td>\n",
       "      <td>-0.0598</td>\n",
       "      <td>0.0709</td>\n",
       "      <td>3</td>\n",
       "    </tr>\n",
       "    <tr>\n",
       "      <th>4</th>\n",
       "      <td>0.5021</td>\n",
       "      <td>0.4270</td>\n",
       "      <td>0.6450</td>\n",
       "      <td>0.8325</td>\n",
       "      <td>0.7560</td>\n",
       "      <td>0.9235</td>\n",
       "      <td>0.7289</td>\n",
       "      <td>0.7352</td>\n",
       "      <td>0.7735</td>\n",
       "      <td>0.9298</td>\n",
       "      <td>0.6013</td>\n",
       "      <td>0.8842</td>\n",
       "      <td>1</td>\n",
       "    </tr>\n",
       "  </tbody>\n",
       "</table>\n",
       "</div>"
      ],
      "text/plain": [
       "       F1      F2      F3      F4      F5      F6      F7      F8      F9  \\\n",
       "0  0.5803  0.4980  0.8809  0.8215  1.0133  0.9187  0.8508  0.8496  0.9996   \n",
       "1  0.0026  0.6084  0.2808  0.6282  0.2995  0.7513 -0.0107  1.7503 -0.0622   \n",
       "2 -0.0115  1.1193  0.2201  1.3189  0.2656  1.4039 -0.0067  1.7438  0.0013   \n",
       "3 -0.0536  1.0370  0.0558  1.2483  0.2640  1.1456  0.0140  1.7156  0.0125   \n",
       "4  0.5021  0.4270  0.6450  0.8325  0.7560  0.9235  0.7289  0.7352  0.7735   \n",
       "\n",
       "      F10     F11     F12  L  \n",
       "0  0.9670  0.9111  0.7814  1  \n",
       "1  2.0704 -0.0999  0.1214  3  \n",
       "2  2.0020 -0.0401  1.7797  3  \n",
       "3  1.9889 -0.0598  0.0709  3  \n",
       "4  0.9298  0.6013  0.8842  1  "
      ]
     },
     "execution_count": 9,
     "metadata": {},
     "output_type": "execute_result"
    }
   ],
   "source": [
    "Tstdata = pd.read_csv(r\"C:\\Users\\admin\\anaconda3\\Lib\\site-packages\\PIL\\tstdata.csv\")\n",
    "\n",
    "Tstdata.head()"
   ]
  },
  {
   "cell_type": "code",
   "execution_count": 10,
   "metadata": {},
   "outputs": [
    {
     "data": {
      "text/plain": [
       "pandas.core.frame.DataFrame"
      ]
     },
     "execution_count": 10,
     "metadata": {},
     "output_type": "execute_result"
    }
   ],
   "source": [
    "type(Tstdata)"
   ]
  },
  {
   "cell_type": "code",
   "execution_count": 11,
   "metadata": {},
   "outputs": [
    {
     "data": {
      "text/plain": [
       "300"
      ]
     },
     "execution_count": 11,
     "metadata": {},
     "output_type": "execute_result"
    }
   ],
   "source": [
    "len(Tstdata)"
   ]
  },
  {
   "cell_type": "code",
   "execution_count": 12,
   "metadata": {},
   "outputs": [
    {
     "data": {
      "text/plain": [
       "(300, 13)"
      ]
     },
     "execution_count": 12,
     "metadata": {},
     "output_type": "execute_result"
    }
   ],
   "source": [
    "Tstdata.shape"
   ]
  },
  {
   "cell_type": "code",
   "execution_count": 13,
   "metadata": {},
   "outputs": [],
   "source": [
    "sm = Tstdata.head()"
   ]
  },
  {
   "cell_type": "code",
   "execution_count": 14,
   "metadata": {},
   "outputs": [
    {
     "name": "stdout",
     "output_type": "stream",
     "text": [
      "Total Number of features in Training set: 12\n"
     ]
    }
   ],
   "source": [
    "print(\"Total Number of features in Training set: \"+ str(len(Tstdata.iloc[:, :-1].axes[1])))"
   ]
  },
  {
   "cell_type": "code",
   "execution_count": 15,
   "metadata": {},
   "outputs": [
    {
     "data": {
      "text/html": [
       "<div>\n",
       "<style scoped>\n",
       "    .dataframe tbody tr th:only-of-type {\n",
       "        vertical-align: middle;\n",
       "    }\n",
       "\n",
       "    .dataframe tbody tr th {\n",
       "        vertical-align: top;\n",
       "    }\n",
       "\n",
       "    .dataframe thead th {\n",
       "        text-align: right;\n",
       "    }\n",
       "</style>\n",
       "<table border=\"1\" class=\"dataframe\">\n",
       "  <thead>\n",
       "    <tr style=\"text-align: right;\">\n",
       "      <th></th>\n",
       "      <th>F1</th>\n",
       "      <th>F2</th>\n",
       "      <th>F3</th>\n",
       "      <th>F4</th>\n",
       "      <th>F5</th>\n",
       "      <th>F6</th>\n",
       "      <th>F7</th>\n",
       "      <th>F8</th>\n",
       "      <th>F9</th>\n",
       "      <th>F10</th>\n",
       "      <th>F11</th>\n",
       "      <th>F12</th>\n",
       "      <th>L</th>\n",
       "    </tr>\n",
       "  </thead>\n",
       "  <tbody>\n",
       "    <tr>\n",
       "      <th>0</th>\n",
       "      <td>0.5803</td>\n",
       "      <td>0.4980</td>\n",
       "      <td>0.8809</td>\n",
       "      <td>0.8215</td>\n",
       "      <td>1.0133</td>\n",
       "      <td>0.9187</td>\n",
       "      <td>0.8508</td>\n",
       "      <td>0.8496</td>\n",
       "      <td>0.9996</td>\n",
       "      <td>0.9670</td>\n",
       "      <td>0.9111</td>\n",
       "      <td>0.7814</td>\n",
       "      <td>1</td>\n",
       "    </tr>\n",
       "    <tr>\n",
       "      <th>1</th>\n",
       "      <td>0.0026</td>\n",
       "      <td>0.6084</td>\n",
       "      <td>0.2808</td>\n",
       "      <td>0.6282</td>\n",
       "      <td>0.2995</td>\n",
       "      <td>0.7513</td>\n",
       "      <td>-0.0107</td>\n",
       "      <td>1.7503</td>\n",
       "      <td>-0.0622</td>\n",
       "      <td>2.0704</td>\n",
       "      <td>-0.0999</td>\n",
       "      <td>0.1214</td>\n",
       "      <td>3</td>\n",
       "    </tr>\n",
       "    <tr>\n",
       "      <th>2</th>\n",
       "      <td>-0.0115</td>\n",
       "      <td>1.1193</td>\n",
       "      <td>0.2201</td>\n",
       "      <td>1.3189</td>\n",
       "      <td>0.2656</td>\n",
       "      <td>1.4039</td>\n",
       "      <td>-0.0067</td>\n",
       "      <td>1.7438</td>\n",
       "      <td>0.0013</td>\n",
       "      <td>2.0020</td>\n",
       "      <td>-0.0401</td>\n",
       "      <td>1.7797</td>\n",
       "      <td>3</td>\n",
       "    </tr>\n",
       "    <tr>\n",
       "      <th>3</th>\n",
       "      <td>-0.0536</td>\n",
       "      <td>1.0370</td>\n",
       "      <td>0.0558</td>\n",
       "      <td>1.2483</td>\n",
       "      <td>0.2640</td>\n",
       "      <td>1.1456</td>\n",
       "      <td>0.0140</td>\n",
       "      <td>1.7156</td>\n",
       "      <td>0.0125</td>\n",
       "      <td>1.9889</td>\n",
       "      <td>-0.0598</td>\n",
       "      <td>0.0709</td>\n",
       "      <td>3</td>\n",
       "    </tr>\n",
       "    <tr>\n",
       "      <th>4</th>\n",
       "      <td>0.5021</td>\n",
       "      <td>0.4270</td>\n",
       "      <td>0.6450</td>\n",
       "      <td>0.8325</td>\n",
       "      <td>0.7560</td>\n",
       "      <td>0.9235</td>\n",
       "      <td>0.7289</td>\n",
       "      <td>0.7352</td>\n",
       "      <td>0.7735</td>\n",
       "      <td>0.9298</td>\n",
       "      <td>0.6013</td>\n",
       "      <td>0.8842</td>\n",
       "      <td>1</td>\n",
       "    </tr>\n",
       "  </tbody>\n",
       "</table>\n",
       "</div>"
      ],
      "text/plain": [
       "       F1      F2      F3      F4      F5      F6      F7      F8      F9  \\\n",
       "0  0.5803  0.4980  0.8809  0.8215  1.0133  0.9187  0.8508  0.8496  0.9996   \n",
       "1  0.0026  0.6084  0.2808  0.6282  0.2995  0.7513 -0.0107  1.7503 -0.0622   \n",
       "2 -0.0115  1.1193  0.2201  1.3189  0.2656  1.4039 -0.0067  1.7438  0.0013   \n",
       "3 -0.0536  1.0370  0.0558  1.2483  0.2640  1.1456  0.0140  1.7156  0.0125   \n",
       "4  0.5021  0.4270  0.6450  0.8325  0.7560  0.9235  0.7289  0.7352  0.7735   \n",
       "\n",
       "      F10     F11     F12  L  \n",
       "0  0.9670  0.9111  0.7814  1  \n",
       "1  2.0704 -0.0999  0.1214  3  \n",
       "2  2.0020 -0.0401  1.7797  3  \n",
       "3  1.9889 -0.0598  0.0709  3  \n",
       "4  0.9298  0.6013  0.8842  1  "
      ]
     },
     "execution_count": 15,
     "metadata": {},
     "output_type": "execute_result"
    }
   ],
   "source": [
    "Tstdata = pd.read_csv(r\"C:\\Users\\admin\\anaconda3\\Lib\\site-packages\\PIL\\tstdata.csv\")\n",
    "\n",
    "Tstdata.head()"
   ]
  },
  {
   "cell_type": "code",
   "execution_count": 17,
   "metadata": {},
   "outputs": [
    {
     "data": {
      "text/plain": [
       "1    343\n",
       "3    341\n",
       "2    316\n",
       "Name: L, dtype: int64"
      ]
     },
     "execution_count": 17,
     "metadata": {},
     "output_type": "execute_result"
    }
   ],
   "source": [
    "Trndata[\"L\"].value_counts()"
   ]
  },
  {
   "cell_type": "code",
   "execution_count": null,
   "metadata": {},
   "outputs": [],
   "source": []
  },
  {
   "cell_type": "code",
   "execution_count": 14,
   "metadata": {},
   "outputs": [],
   "source": [
    "import numpy as np"
   ]
  },
  {
   "cell_type": "code",
   "execution_count": 15,
   "metadata": {},
   "outputs": [],
   "source": [
    "from sklearn.utils import shuffle"
   ]
  },
  {
   "cell_type": "code",
   "execution_count": 16,
   "metadata": {},
   "outputs": [],
   "source": [
    "from sklearn import datasets"
   ]
  },
  {
   "cell_type": "code",
   "execution_count": 17,
   "metadata": {},
   "outputs": [],
   "source": [
    "from scipy.sparse import coo_matrix\n",
    "Trndata_sparse = coo_matrix(Trndata)"
   ]
  },
  {
   "cell_type": "code",
   "execution_count": 18,
   "metadata": {},
   "outputs": [
    {
     "ename": "ValueError",
     "evalue": "not enough values to unpack (expected 3, got 2)",
     "output_type": "error",
     "traceback": [
      "\u001b[1;31m---------------------------------------------------------------------------\u001b[0m",
      "\u001b[1;31mValueError\u001b[0m                                Traceback (most recent call last)",
      "\u001b[1;32m<ipython-input-18-639f47ebb50c>\u001b[0m in \u001b[0;36m<module>\u001b[1;34m\u001b[0m\n\u001b[1;32m----> 1\u001b[1;33m \u001b[0mTrndata\u001b[0m\u001b[1;33m,\u001b[0m \u001b[0mTrndata_sparse\u001b[0m\u001b[1;33m,\u001b[0m \u001b[0mTstdata\u001b[0m \u001b[1;33m=\u001b[0m \u001b[0mshuffle\u001b[0m\u001b[1;33m(\u001b[0m\u001b[0mTrndata\u001b[0m\u001b[1;33m,\u001b[0m \u001b[0mTrndata_sparse\u001b[0m\u001b[1;33m,\u001b[0m \u001b[0mrandom_state\u001b[0m\u001b[1;33m=\u001b[0m\u001b[1;36m0\u001b[0m\u001b[1;33m)\u001b[0m\u001b[1;33m\u001b[0m\u001b[1;33m\u001b[0m\u001b[0m\n\u001b[0m",
      "\u001b[1;31mValueError\u001b[0m: not enough values to unpack (expected 3, got 2)"
     ]
    }
   ],
   "source": [
    "Trndata, Trndata_sparse, Tstdata = shuffle(Trndata, Trndata_sparse, random_state=0)"
   ]
  },
  {
   "cell_type": "code",
   "execution_count": null,
   "metadata": {},
   "outputs": [],
   "source": [
    "Trndata.head()"
   ]
  },
  {
   "cell_type": "code",
   "execution_count": null,
   "metadata": {},
   "outputs": [],
   "source": [
    "Trndata_sparse.toarray()"
   ]
  },
  {
   "cell_type": "code",
   "execution_count": null,
   "metadata": {},
   "outputs": [],
   "source": [
    "Tstdata.head()"
   ]
  },
  {
   "cell_type": "code",
   "execution_count": null,
   "metadata": {},
   "outputs": [],
   "source": [
    "shuffle(Tstdata, n_samples=4, random_state=0)"
   ]
  },
  {
   "cell_type": "code",
   "execution_count": null,
   "metadata": {},
   "outputs": [],
   "source": [
    "Training_set_I = shuffle(Trndata, n_samples=555, random_state=2)"
   ]
  },
  {
   "cell_type": "code",
   "execution_count": null,
   "metadata": {},
   "outputs": [],
   "source": [
    "k = len(Training_set_I)"
   ]
  },
  {
   "cell_type": "code",
   "execution_count": null,
   "metadata": {},
   "outputs": [],
   "source": [
    "k"
   ]
  },
  {
   "cell_type": "code",
   "execution_count": 18,
   "metadata": {},
   "outputs": [
    {
     "data": {
      "image/png": "[encoded data removed]",
      "text/plain": [
       "<Figure size 432x288 with 1 Axes>"
      ]
     },
     "metadata": {},
     "output_type": "display_data"
    }
   ],
   "source": [
    "import matplotlib.pyplot as plt\n",
    "plt.style.use('fivethirtyeight')\n",
    "import numpy as np\n",
    "\n",
    "c = np.random.choice(range(2), 1000)\n",
    "\n",
    "#plt.scatter(trndata['F1'],trndata['F5'],c = None)\n",
    "\n",
    "mycolors = np.array([ 'g', 'm', 'c' ])\n",
    "plt.scatter(Trndata['F1'],Trndata['F5'],c=mycolors[c])\n",
    "\n",
    "#ax.scatter(x, y, c=mycolors[c], lw=0)\n",
    "\n",
    "#plt.scatter(trndata['F1'],trndata['F5'],c = trndata['L'])\n",
    "\n",
    "plt.xlabel(\"F1\")\n",
    "plt.ylabel(\"F5\")\n",
    "\n",
    "plt.show()"
   ]
  },
  {
   "cell_type": "code",
   "execution_count": 19,
   "metadata": {},
   "outputs": [
    {
     "data": {
      "image/png": "[encoded data removed]",
      "text/plain": [
       "<Figure size 432x288 with 1 Axes>"
      ]
     },
     "metadata": {},
     "output_type": "display_data"
    }
   ],
   "source": [
    "import matplotlib.pyplot as plt\n",
    "Trndata.plot(x=\"F1\", y=\"F2\", kind='scatter')\n",
    "plt.show()"
   ]
  },
  {
   "cell_type": "code",
   "execution_count": 20,
   "metadata": {
    "scrolled": true
   },
   "outputs": [
    {
     "data": {
      "image/png": "[encoded data removed]",
      "text/plain": [
       "<Figure size 432x288 with 1 Axes>"
      ]
     },
     "metadata": {},
     "output_type": "display_data"
    }
   ],
   "source": [
    "Tstdata.plot(x=\"F9\", y=\"F12\", kind='scatter')\n",
    "plt.show()"
   ]
  },
  {
   "cell_type": "code",
   "execution_count": 21,
   "metadata": {},
   "outputs": [
    {
     "ename": "NameError",
     "evalue": "name 'Training_set_I' is not defined",
     "output_type": "error",
     "traceback": [
      "\u001b[1;31m---------------------------------------------------------------------------\u001b[0m",
      "\u001b[1;31mNameError\u001b[0m                                 Traceback (most recent call last)",
      "\u001b[1;32m<ipython-input-21-f4578fe3d7a7>\u001b[0m in \u001b[0;36m<module>\u001b[1;34m\u001b[0m\n\u001b[1;32m----> 1\u001b[1;33m \u001b[0mTraining_set_I\u001b[0m\u001b[1;33m.\u001b[0m\u001b[0mplot\u001b[0m\u001b[1;33m(\u001b[0m\u001b[0mx\u001b[0m\u001b[1;33m=\u001b[0m\u001b[1;34m\"L\"\u001b[0m\u001b[1;33m,\u001b[0m \u001b[0my\u001b[0m\u001b[1;33m=\u001b[0m\u001b[1;33m[\u001b[0m\u001b[1;34m\"F5\"\u001b[0m\u001b[1;33m,\u001b[0m \u001b[1;34m\"F7\"\u001b[0m\u001b[1;33m]\u001b[0m\u001b[1;33m)\u001b[0m\u001b[1;33m\u001b[0m\u001b[1;33m\u001b[0m\u001b[0m\n\u001b[0m\u001b[0;32m      2\u001b[0m \u001b[0mplt\u001b[0m\u001b[1;33m.\u001b[0m\u001b[0mshow\u001b[0m\u001b[1;33m(\u001b[0m\u001b[1;33m)\u001b[0m\u001b[1;33m\u001b[0m\u001b[1;33m\u001b[0m\u001b[0m\n",
      "\u001b[1;31mNameError\u001b[0m: name 'Training_set_I' is not defined"
     ]
    }
   ],
   "source": [
    "*Training_set_I.plot(x=\"L\", y=[\"F5\", \"F7\"])\n",
    "*plt.show()"
   ]
  },
  {
   "cell_type": "code",
   "execution_count": 32,
   "metadata": {},
   "outputs": [],
   "source": [
    "#########             TASK 2"
   ]
  },
  {
   "cell_type": "code",
   "execution_count": 34,
   "metadata": {},
   "outputs": [],
   "source": [
    "Validation_set = Training_set_I.tail(300)"
   ]
  },
  {
   "cell_type": "code",
   "execution_count": 35,
   "metadata": {},
   "outputs": [
    {
     "data": {
      "text/html": [
       "<div>\n",
       "<style scoped>\n",
       "    .dataframe tbody tr th:only-of-type {\n",
       "        vertical-align: middle;\n",
       "    }\n",
       "\n",
       "    .dataframe tbody tr th {\n",
       "        vertical-align: top;\n",
       "    }\n",
       "\n",
       "    .dataframe thead th {\n",
       "        text-align: right;\n",
       "    }\n",
       "</style>\n",
       "<table border=\"1\" class=\"dataframe\">\n",
       "  <thead>\n",
       "    <tr style=\"text-align: right;\">\n",
       "      <th></th>\n",
       "      <th>F1</th>\n",
       "      <th>F2</th>\n",
       "      <th>F3</th>\n",
       "      <th>F4</th>\n",
       "      <th>F5</th>\n",
       "      <th>F6</th>\n",
       "      <th>F7</th>\n",
       "      <th>F8</th>\n",
       "      <th>F9</th>\n",
       "      <th>F10</th>\n",
       "      <th>F11</th>\n",
       "      <th>F12</th>\n",
       "      <th>L</th>\n",
       "    </tr>\n",
       "  </thead>\n",
       "  <tbody>\n",
       "    <tr>\n",
       "      <th>717</th>\n",
       "      <td>0.2125</td>\n",
       "      <td>0.6560</td>\n",
       "      <td>0.4932</td>\n",
       "      <td>0.6953</td>\n",
       "      <td>0.6084</td>\n",
       "      <td>0.6982</td>\n",
       "      <td>1.7019</td>\n",
       "      <td>0.0380</td>\n",
       "      <td>-0.0510</td>\n",
       "      <td>2.0600</td>\n",
       "      <td>-0.0043</td>\n",
       "      <td>0.0023</td>\n",
       "      <td>3</td>\n",
       "    </tr>\n",
       "    <tr>\n",
       "      <th>436</th>\n",
       "      <td>0.4128</td>\n",
       "      <td>0.6886</td>\n",
       "      <td>0.7720</td>\n",
       "      <td>0.6333</td>\n",
       "      <td>0.8191</td>\n",
       "      <td>0.7276</td>\n",
       "      <td>1.6969</td>\n",
       "      <td>0.0417</td>\n",
       "      <td>-0.0014</td>\n",
       "      <td>1.9991</td>\n",
       "      <td>-0.0277</td>\n",
       "      <td>1.7638</td>\n",
       "      <td>3</td>\n",
       "    </tr>\n",
       "    <tr>\n",
       "      <th>343</th>\n",
       "      <td>1.1514</td>\n",
       "      <td>-0.0538</td>\n",
       "      <td>0.5146</td>\n",
       "      <td>1.2122</td>\n",
       "      <td>0.4147</td>\n",
       "      <td>0.8332</td>\n",
       "      <td>0.5307</td>\n",
       "      <td>1.1946</td>\n",
       "      <td>0.3870</td>\n",
       "      <td>0.8223</td>\n",
       "      <td>0.5730</td>\n",
       "      <td>1.1448</td>\n",
       "      <td>2</td>\n",
       "    </tr>\n",
       "    <tr>\n",
       "      <th>473</th>\n",
       "      <td>0.4122</td>\n",
       "      <td>0.0894</td>\n",
       "      <td>0.5834</td>\n",
       "      <td>0.2571</td>\n",
       "      <td>0.6954</td>\n",
       "      <td>0.2638</td>\n",
       "      <td>1.6774</td>\n",
       "      <td>0.0648</td>\n",
       "      <td>-0.0027</td>\n",
       "      <td>0.0020</td>\n",
       "      <td>0.0187</td>\n",
       "      <td>-0.0202</td>\n",
       "      <td>3</td>\n",
       "    </tr>\n",
       "    <tr>\n",
       "      <th>80</th>\n",
       "      <td>0.8934</td>\n",
       "      <td>0.2195</td>\n",
       "      <td>0.4395</td>\n",
       "      <td>0.9475</td>\n",
       "      <td>0.3611</td>\n",
       "      <td>0.6075</td>\n",
       "      <td>0.3924</td>\n",
       "      <td>1.0032</td>\n",
       "      <td>0.3487</td>\n",
       "      <td>0.5886</td>\n",
       "      <td>0.4447</td>\n",
       "      <td>0.9433</td>\n",
       "      <td>2</td>\n",
       "    </tr>\n",
       "    <tr>\n",
       "      <th>...</th>\n",
       "      <td>...</td>\n",
       "      <td>...</td>\n",
       "      <td>...</td>\n",
       "      <td>...</td>\n",
       "      <td>...</td>\n",
       "      <td>...</td>\n",
       "      <td>...</td>\n",
       "      <td>...</td>\n",
       "      <td>...</td>\n",
       "      <td>...</td>\n",
       "      <td>...</td>\n",
       "      <td>...</td>\n",
       "      <td>...</td>\n",
       "    </tr>\n",
       "    <tr>\n",
       "      <th>25</th>\n",
       "      <td>0.8813</td>\n",
       "      <td>0.2321</td>\n",
       "      <td>0.4637</td>\n",
       "      <td>0.1117</td>\n",
       "      <td>0.2749</td>\n",
       "      <td>0.2270</td>\n",
       "      <td>0.4328</td>\n",
       "      <td>0.1497</td>\n",
       "      <td>0.3223</td>\n",
       "      <td>0.1589</td>\n",
       "      <td>0.4639</td>\n",
       "      <td>0.1134</td>\n",
       "      <td>2</td>\n",
       "    </tr>\n",
       "    <tr>\n",
       "      <th>755</th>\n",
       "      <td>-0.0715</td>\n",
       "      <td>1.1941</td>\n",
       "      <td>0.1877</td>\n",
       "      <td>1.4411</td>\n",
       "      <td>0.3201</td>\n",
       "      <td>1.4312</td>\n",
       "      <td>0.0479</td>\n",
       "      <td>1.6732</td>\n",
       "      <td>-0.0574</td>\n",
       "      <td>2.0741</td>\n",
       "      <td>0.0134</td>\n",
       "      <td>1.7148</td>\n",
       "      <td>3</td>\n",
       "    </tr>\n",
       "    <tr>\n",
       "      <th>636</th>\n",
       "      <td>0.0503</td>\n",
       "      <td>0.4674</td>\n",
       "      <td>0.0734</td>\n",
       "      <td>0.7643</td>\n",
       "      <td>0.2045</td>\n",
       "      <td>0.7558</td>\n",
       "      <td>-0.0046</td>\n",
       "      <td>1.7365</td>\n",
       "      <td>-0.0646</td>\n",
       "      <td>0.0755</td>\n",
       "      <td>-0.0148</td>\n",
       "      <td>0.0193</td>\n",
       "      <td>3</td>\n",
       "    </tr>\n",
       "    <tr>\n",
       "      <th>489</th>\n",
       "      <td>0.5909</td>\n",
       "      <td>0.4002</td>\n",
       "      <td>0.8241</td>\n",
       "      <td>0.7434</td>\n",
       "      <td>1.1374</td>\n",
       "      <td>0.6116</td>\n",
       "      <td>0.9519</td>\n",
       "      <td>0.5897</td>\n",
       "      <td>1.0614</td>\n",
       "      <td>0.7307</td>\n",
       "      <td>0.8974</td>\n",
       "      <td>0.6602</td>\n",
       "      <td>1</td>\n",
       "    </tr>\n",
       "    <tr>\n",
       "      <th>865</th>\n",
       "      <td>1.1477</td>\n",
       "      <td>-0.0504</td>\n",
       "      <td>1.1583</td>\n",
       "      <td>0.1214</td>\n",
       "      <td>0.9293</td>\n",
       "      <td>-0.0120</td>\n",
       "      <td>1.3401</td>\n",
       "      <td>-0.0931</td>\n",
       "      <td>0.8479</td>\n",
       "      <td>0.0572</td>\n",
       "      <td>1.2205</td>\n",
       "      <td>0.0515</td>\n",
       "      <td>2</td>\n",
       "    </tr>\n",
       "  </tbody>\n",
       "</table>\n",
       "<p>300 rows × 13 columns</p>\n",
       "</div>"
      ],
      "text/plain": [
       "         F1      F2      F3      F4      F5      F6      F7      F8      F9  \\\n",
       "717  0.2125  0.6560  0.4932  0.6953  0.6084  0.6982  1.7019  0.0380 -0.0510   \n",
       "436  0.4128  0.6886  0.7720  0.6333  0.8191  0.7276  1.6969  0.0417 -0.0014   \n",
       "343  1.1514 -0.0538  0.5146  1.2122  0.4147  0.8332  0.5307  1.1946  0.3870   \n",
       "473  0.4122  0.0894  0.5834  0.2571  0.6954  0.2638  1.6774  0.0648 -0.0027   \n",
       "80   0.8934  0.2195  0.4395  0.9475  0.3611  0.6075  0.3924  1.0032  0.3487   \n",
       "..      ...     ...     ...     ...     ...     ...     ...     ...     ...   \n",
       "25   0.8813  0.2321  0.4637  0.1117  0.2749  0.2270  0.4328  0.1497  0.3223   \n",
       "755 -0.0715  1.1941  0.1877  1.4411  0.3201  1.4312  0.0479  1.6732 -0.0574   \n",
       "636  0.0503  0.4674  0.0734  0.7643  0.2045  0.7558 -0.0046  1.7365 -0.0646   \n",
       "489  0.5909  0.4002  0.8241  0.7434  1.1374  0.6116  0.9519  0.5897  1.0614   \n",
       "865  1.1477 -0.0504  1.1583  0.1214  0.9293 -0.0120  1.3401 -0.0931  0.8479   \n",
       "\n",
       "        F10     F11     F12  L  \n",
       "717  2.0600 -0.0043  0.0023  3  \n",
       "436  1.9991 -0.0277  1.7638  3  \n",
       "343  0.8223  0.5730  1.1448  2  \n",
       "473  0.0020  0.0187 -0.0202  3  \n",
       "80   0.5886  0.4447  0.9433  2  \n",
       "..      ...     ...     ... ..  \n",
       "25   0.1589  0.4639  0.1134  2  \n",
       "755  2.0741  0.0134  1.7148  3  \n",
       "636  0.0755 -0.0148  0.0193  3  \n",
       "489  0.7307  0.8974  0.6602  1  \n",
       "865  0.0572  1.2205  0.0515  2  \n",
       "\n",
       "[300 rows x 13 columns]"
      ]
     },
     "execution_count": 35,
     "metadata": {},
     "output_type": "execute_result"
    }
   ],
   "source": [
    "Validation_set"
   ]
  },
  {
   "cell_type": "code",
   "execution_count": 36,
   "metadata": {},
   "outputs": [],
   "source": [
    "Training_setII = Training_set_I.head(k-300)"
   ]
  },
  {
   "cell_type": "code",
   "execution_count": 37,
   "metadata": {
    "scrolled": true
   },
   "outputs": [
    {
     "data": {
      "text/html": [
       "<div>\n",
       "<style scoped>\n",
       "    .dataframe tbody tr th:only-of-type {\n",
       "        vertical-align: middle;\n",
       "    }\n",
       "\n",
       "    .dataframe tbody tr th {\n",
       "        vertical-align: top;\n",
       "    }\n",
       "\n",
       "    .dataframe thead th {\n",
       "        text-align: right;\n",
       "    }\n",
       "</style>\n",
       "<table border=\"1\" class=\"dataframe\">\n",
       "  <thead>\n",
       "    <tr style=\"text-align: right;\">\n",
       "      <th></th>\n",
       "      <th>F1</th>\n",
       "      <th>F2</th>\n",
       "      <th>F3</th>\n",
       "      <th>F4</th>\n",
       "      <th>F5</th>\n",
       "      <th>F6</th>\n",
       "      <th>F7</th>\n",
       "      <th>F8</th>\n",
       "      <th>F9</th>\n",
       "      <th>F10</th>\n",
       "      <th>F11</th>\n",
       "      <th>F12</th>\n",
       "      <th>L</th>\n",
       "    </tr>\n",
       "  </thead>\n",
       "  <tbody>\n",
       "    <tr>\n",
       "      <th>37</th>\n",
       "      <td>0.3522</td>\n",
       "      <td>0.3868</td>\n",
       "      <td>0.5201</td>\n",
       "      <td>0.6377</td>\n",
       "      <td>0.5522</td>\n",
       "      <td>0.7776</td>\n",
       "      <td>0.5076</td>\n",
       "      <td>0.6553</td>\n",
       "      <td>0.6258</td>\n",
       "      <td>0.7105</td>\n",
       "      <td>0.4515</td>\n",
       "      <td>0.7196</td>\n",
       "      <td>1</td>\n",
       "    </tr>\n",
       "    <tr>\n",
       "      <th>726</th>\n",
       "      <td>0.0209</td>\n",
       "      <td>0.7060</td>\n",
       "      <td>0.2470</td>\n",
       "      <td>0.8011</td>\n",
       "      <td>0.3740</td>\n",
       "      <td>0.7966</td>\n",
       "      <td>-0.0369</td>\n",
       "      <td>1.7773</td>\n",
       "      <td>0.0461</td>\n",
       "      <td>1.9462</td>\n",
       "      <td>-0.0246</td>\n",
       "      <td>0.0291</td>\n",
       "      <td>3</td>\n",
       "    </tr>\n",
       "    <tr>\n",
       "      <th>846</th>\n",
       "      <td>0.3310</td>\n",
       "      <td>0.6894</td>\n",
       "      <td>0.7105</td>\n",
       "      <td>0.6104</td>\n",
       "      <td>0.8226</td>\n",
       "      <td>0.6172</td>\n",
       "      <td>1.7250</td>\n",
       "      <td>0.0094</td>\n",
       "      <td>0.1055</td>\n",
       "      <td>1.8752</td>\n",
       "      <td>0.0032</td>\n",
       "      <td>-0.0030</td>\n",
       "      <td>3</td>\n",
       "    </tr>\n",
       "    <tr>\n",
       "      <th>295</th>\n",
       "      <td>0.4576</td>\n",
       "      <td>0.6481</td>\n",
       "      <td>0.8842</td>\n",
       "      <td>0.6654</td>\n",
       "      <td>0.8400</td>\n",
       "      <td>0.8585</td>\n",
       "      <td>1.7768</td>\n",
       "      <td>-0.0500</td>\n",
       "      <td>-0.0260</td>\n",
       "      <td>2.0274</td>\n",
       "      <td>-0.0377</td>\n",
       "      <td>1.7766</td>\n",
       "      <td>3</td>\n",
       "    </tr>\n",
       "    <tr>\n",
       "      <th>924</th>\n",
       "      <td>0.2704</td>\n",
       "      <td>0.8443</td>\n",
       "      <td>0.6167</td>\n",
       "      <td>0.8324</td>\n",
       "      <td>0.7813</td>\n",
       "      <td>0.7781</td>\n",
       "      <td>1.6338</td>\n",
       "      <td>0.1169</td>\n",
       "      <td>-0.0219</td>\n",
       "      <td>2.0260</td>\n",
       "      <td>-0.0887</td>\n",
       "      <td>1.8358</td>\n",
       "      <td>3</td>\n",
       "    </tr>\n",
       "    <tr>\n",
       "      <th>...</th>\n",
       "      <td>...</td>\n",
       "      <td>...</td>\n",
       "      <td>...</td>\n",
       "      <td>...</td>\n",
       "      <td>...</td>\n",
       "      <td>...</td>\n",
       "      <td>...</td>\n",
       "      <td>...</td>\n",
       "      <td>...</td>\n",
       "      <td>...</td>\n",
       "      <td>...</td>\n",
       "      <td>...</td>\n",
       "      <td>...</td>\n",
       "    </tr>\n",
       "    <tr>\n",
       "      <th>673</th>\n",
       "      <td>0.0694</td>\n",
       "      <td>0.4496</td>\n",
       "      <td>0.3861</td>\n",
       "      <td>0.4431</td>\n",
       "      <td>0.5083</td>\n",
       "      <td>0.4420</td>\n",
       "      <td>1.7225</td>\n",
       "      <td>0.0080</td>\n",
       "      <td>-0.0218</td>\n",
       "      <td>0.0258</td>\n",
       "      <td>-0.0126</td>\n",
       "      <td>0.0153</td>\n",
       "      <td>3</td>\n",
       "    </tr>\n",
       "    <tr>\n",
       "      <th>107</th>\n",
       "      <td>1.1033</td>\n",
       "      <td>0.0039</td>\n",
       "      <td>0.8285</td>\n",
       "      <td>0.3832</td>\n",
       "      <td>0.6649</td>\n",
       "      <td>0.2246</td>\n",
       "      <td>0.6963</td>\n",
       "      <td>0.5402</td>\n",
       "      <td>0.5935</td>\n",
       "      <td>0.2886</td>\n",
       "      <td>0.7667</td>\n",
       "      <td>0.4494</td>\n",
       "      <td>2</td>\n",
       "    </tr>\n",
       "    <tr>\n",
       "      <th>898</th>\n",
       "      <td>1.0321</td>\n",
       "      <td>0.0892</td>\n",
       "      <td>0.7001</td>\n",
       "      <td>1.0208</td>\n",
       "      <td>0.4296</td>\n",
       "      <td>1.2493</td>\n",
       "      <td>0.5637</td>\n",
       "      <td>1.1755</td>\n",
       "      <td>0.5356</td>\n",
       "      <td>1.0066</td>\n",
       "      <td>0.5957</td>\n",
       "      <td>1.1412</td>\n",
       "      <td>2</td>\n",
       "    </tr>\n",
       "    <tr>\n",
       "      <th>441</th>\n",
       "      <td>0.0695</td>\n",
       "      <td>0.4076</td>\n",
       "      <td>0.1708</td>\n",
       "      <td>0.5636</td>\n",
       "      <td>0.1306</td>\n",
       "      <td>0.7205</td>\n",
       "      <td>-0.0129</td>\n",
       "      <td>0.7861</td>\n",
       "      <td>0.1415</td>\n",
       "      <td>0.7203</td>\n",
       "      <td>0.0685</td>\n",
       "      <td>0.6867</td>\n",
       "      <td>1</td>\n",
       "    </tr>\n",
       "    <tr>\n",
       "      <th>439</th>\n",
       "      <td>0.4039</td>\n",
       "      <td>0.3573</td>\n",
       "      <td>0.6585</td>\n",
       "      <td>0.5334</td>\n",
       "      <td>0.6388</td>\n",
       "      <td>0.7320</td>\n",
       "      <td>0.6293</td>\n",
       "      <td>0.5603</td>\n",
       "      <td>0.6803</td>\n",
       "      <td>0.7047</td>\n",
       "      <td>0.5667</td>\n",
       "      <td>0.6358</td>\n",
       "      <td>1</td>\n",
       "    </tr>\n",
       "  </tbody>\n",
       "</table>\n",
       "<p>255 rows × 13 columns</p>\n",
       "</div>"
      ],
      "text/plain": [
       "         F1      F2      F3      F4      F5      F6      F7      F8      F9  \\\n",
       "37   0.3522  0.3868  0.5201  0.6377  0.5522  0.7776  0.5076  0.6553  0.6258   \n",
       "726  0.0209  0.7060  0.2470  0.8011  0.3740  0.7966 -0.0369  1.7773  0.0461   \n",
       "846  0.3310  0.6894  0.7105  0.6104  0.8226  0.6172  1.7250  0.0094  0.1055   \n",
       "295  0.4576  0.6481  0.8842  0.6654  0.8400  0.8585  1.7768 -0.0500 -0.0260   \n",
       "924  0.2704  0.8443  0.6167  0.8324  0.7813  0.7781  1.6338  0.1169 -0.0219   \n",
       "..      ...     ...     ...     ...     ...     ...     ...     ...     ...   \n",
       "673  0.0694  0.4496  0.3861  0.4431  0.5083  0.4420  1.7225  0.0080 -0.0218   \n",
       "107  1.1033  0.0039  0.8285  0.3832  0.6649  0.2246  0.6963  0.5402  0.5935   \n",
       "898  1.0321  0.0892  0.7001  1.0208  0.4296  1.2493  0.5637  1.1755  0.5356   \n",
       "441  0.0695  0.4076  0.1708  0.5636  0.1306  0.7205 -0.0129  0.7861  0.1415   \n",
       "439  0.4039  0.3573  0.6585  0.5334  0.6388  0.7320  0.6293  0.5603  0.6803   \n",
       "\n",
       "        F10     F11     F12  L  \n",
       "37   0.7105  0.4515  0.7196  1  \n",
       "726  1.9462 -0.0246  0.0291  3  \n",
       "846  1.8752  0.0032 -0.0030  3  \n",
       "295  2.0274 -0.0377  1.7766  3  \n",
       "924  2.0260 -0.0887  1.8358  3  \n",
       "..      ...     ...     ... ..  \n",
       "673  0.0258 -0.0126  0.0153  3  \n",
       "107  0.2886  0.7667  0.4494  2  \n",
       "898  1.0066  0.5957  1.1412  2  \n",
       "441  0.7203  0.0685  0.6867  1  \n",
       "439  0.7047  0.5667  0.6358  1  \n",
       "\n",
       "[255 rows x 13 columns]"
      ]
     },
     "execution_count": 37,
     "metadata": {},
     "output_type": "execute_result"
    }
   ],
   "source": [
    "Training_setII"
   ]
  },
  {
   "cell_type": "code",
   "execution_count": null,
   "metadata": {},
   "outputs": [],
   "source": []
  },
  {
   "cell_type": "code",
   "execution_count": 27,
   "metadata": {},
   "outputs": [
    {
     "ename": "NameError",
     "evalue": "name 'Training_set_i' is not defined",
     "output_type": "error",
     "traceback": [
      "\u001b[1;31m---------------------------------------------------------------------------\u001b[0m",
      "\u001b[1;31mNameError\u001b[0m                                 Traceback (most recent call last)",
      "\u001b[1;32m<ipython-input-27-400552d2b656>\u001b[0m in \u001b[0;36m<module>\u001b[1;34m\u001b[0m\n\u001b[0;32m      2\u001b[0m \u001b[1;32mfrom\u001b[0m \u001b[0msklearn\u001b[0m\u001b[1;33m.\u001b[0m\u001b[0mpreprocessing\u001b[0m \u001b[1;32mimport\u001b[0m \u001b[0mStandardScaler\u001b[0m\u001b[1;33m\u001b[0m\u001b[1;33m\u001b[0m\u001b[0m\n\u001b[0;32m      3\u001b[0m \u001b[1;33m\u001b[0m\u001b[0m\n\u001b[1;32m----> 4\u001b[1;33m \u001b[0mdata\u001b[0m \u001b[1;33m=\u001b[0m \u001b[0mTraining_set_i\u001b[0m\u001b[1;33m.\u001b[0m\u001b[0miloc\u001b[0m\u001b[1;33m[\u001b[0m\u001b[1;33m:\u001b[0m\u001b[1;33m,\u001b[0m\u001b[1;33m:\u001b[0m\u001b[1;33m-\u001b[0m\u001b[1;36m1\u001b[0m\u001b[1;33m]\u001b[0m\u001b[1;33m\u001b[0m\u001b[1;33m\u001b[0m\u001b[0m\n\u001b[0m\u001b[0;32m      5\u001b[0m \u001b[0mcs\u001b[0m \u001b[1;33m=\u001b[0m \u001b[0mStandardScaler\u001b[0m\u001b[1;33m(\u001b[0m\u001b[1;33m)\u001b[0m\u001b[1;33m.\u001b[0m\u001b[0mfit\u001b[0m\u001b[1;33m(\u001b[0m\u001b[0mdata\u001b[0m\u001b[1;33m)\u001b[0m\u001b[1;33m\u001b[0m\u001b[1;33m\u001b[0m\u001b[0m\n\u001b[0;32m      6\u001b[0m \u001b[0mscaled_data\u001b[0m \u001b[1;33m=\u001b[0m \u001b[0mcs\u001b[0m\u001b[1;33m.\u001b[0m\u001b[0mtransform\u001b[0m\u001b[1;33m(\u001b[0m\u001b[0mdata\u001b[0m\u001b[1;33m)\u001b[0m\u001b[1;33m\u001b[0m\u001b[1;33m\u001b[0m\u001b[0m\n",
      "\u001b[1;31mNameError\u001b[0m: name 'Training_set_i' is not defined"
     ]
    }
   ],
   "source": [
    "from sklearn.decomposition import PCA\n",
    "from sklearn.preprocessing import StandardScaler\n",
    "\n",
    "data = Training_set_i.iloc[:,:-1]\n",
    "cs = StandardScaler().fit(data)\n",
    "scaled_data = cs.transform(data)\n",
    "pca = PCA()\n",
    "pca_data = pca.fit_transform(scaled_data)\n",
    "columns = ['PCA_1','PCA_2','PCA_3','PCA_4','PCA_5','PCA_6','PCA_7','PCA_8','PCA_9','PCA_10','PCA_11','PCA_12']"
   ]
  },
  {
   "cell_type": "code",
   "execution_count": 25,
   "metadata": {},
   "outputs": [
    {
     "ename": "NameError",
     "evalue": "name 'cs' is not defined",
     "output_type": "error",
     "traceback": [
      "\u001b[1;31m---------------------------------------------------------------------------\u001b[0m",
      "\u001b[1;31mNameError\u001b[0m                                 Traceback (most recent call last)",
      "\u001b[1;32m<ipython-input-25-3197c5dad61c>\u001b[0m in \u001b[0;36m<module>\u001b[1;34m\u001b[0m\n\u001b[0;32m      1\u001b[0m \u001b[0mest_data\u001b[0m \u001b[1;33m=\u001b[0m \u001b[0mTstdata\u001b[0m\u001b[1;33m.\u001b[0m\u001b[0miloc\u001b[0m\u001b[1;33m[\u001b[0m\u001b[1;33m:\u001b[0m\u001b[1;33m,\u001b[0m\u001b[1;33m:\u001b[0m\u001b[1;33m-\u001b[0m\u001b[1;36m1\u001b[0m\u001b[1;33m]\u001b[0m\u001b[1;33m\u001b[0m\u001b[1;33m\u001b[0m\u001b[0m\n\u001b[1;32m----> 2\u001b[1;33m \u001b[0mscaled_test\u001b[0m \u001b[1;33m=\u001b[0m \u001b[0mcs\u001b[0m\u001b[1;33m.\u001b[0m\u001b[0mtransform\u001b[0m\u001b[1;33m(\u001b[0m\u001b[0mtest_data\u001b[0m\u001b[1;33m)\u001b[0m\u001b[1;33m\u001b[0m\u001b[1;33m\u001b[0m\u001b[0m\n\u001b[0m\u001b[0;32m      3\u001b[0m \u001b[0mpca_test\u001b[0m \u001b[1;33m=\u001b[0m \u001b[0mpca\u001b[0m\u001b[1;33m.\u001b[0m\u001b[0mtransform\u001b[0m\u001b[1;33m(\u001b[0m\u001b[0mscaled_test\u001b[0m\u001b[1;33m)\u001b[0m\u001b[1;33m\u001b[0m\u001b[1;33m\u001b[0m\u001b[0m\n",
      "\u001b[1;31mNameError\u001b[0m: name 'cs' is not defined"
     ]
    }
   ],
   "source": [
    "est_data = Tstdata.iloc[:,:-1]\n",
    "scaled_test = cs.transform(test_data)\n",
    "pca_test = pca.transform(scaled_test)"
   ]
  },
  {
   "cell_type": "code",
   "execution_count": null,
   "metadata": {},
   "outputs": [],
   "source": []
  },
  {
   "cell_type": "code",
   "execution_count": null,
   "metadata": {},
   "outputs": [],
   "source": []
  },
  {
   "cell_type": "code",
   "execution_count": null,
   "metadata": {},
   "outputs": [],
   "source": []
  },
  {
   "cell_type": "code",
   "execution_count": null,
   "metadata": {},
   "outputs": [],
   "source": []
  },
  {
   "cell_type": "code",
   "execution_count": 69,
   "metadata": {},
   "outputs": [
    {
     "name": "stdout",
     "output_type": "stream",
     "text": [
      "0.4193818773279504 \n",
      " [0.4193818773279504]\n",
      "0.6295438875599858 \n",
      " [0.4193818773279504, 0.2101620102320354]\n",
      "0.7696608733480632 \n",
      " [0.4193818773279504, 0.2101620102320354, 0.14011698578807746]\n",
      "0.845804146872336 \n",
      " [0.4193818773279504, 0.2101620102320354, 0.14011698578807746, 0.07614327352427275]\n",
      "0.9003501847831672 \n",
      " [0.4193818773279504, 0.2101620102320354, 0.14011698578807746, 0.07614327352427275, 0.054546037910831215]\n",
      "0.9452394964628861 \n",
      " [0.4193818773279504, 0.2101620102320354, 0.14011698578807746, 0.07614327352427275, 0.054546037910831215, 0.04488931167971885]\n",
      "0.9627848113957096 \n",
      " [0.4193818773279504, 0.2101620102320354, 0.14011698578807746, 0.07614327352427275, 0.054546037910831215, 0.04488931167971885, 0.017545314932823568]\n",
      "0.9635857713875244 \n",
      " [0.4193818773279504, 0.2101620102320354, 0.14011698578807746, 0.07614327352427275, 0.054546037910831215, 0.04488931167971885, 0.017545314932823568, 0.0008009599918146854]\n",
      "0.9667502435256311 \n",
      " [0.4193818773279504, 0.2101620102320354, 0.14011698578807746, 0.07614327352427275, 0.054546037910831215, 0.04488931167971885, 0.017545314932823568, 0.0008009599918146854, 0.0031644721381066435]\n",
      "0.9688018139258774 \n",
      " [0.4193818773279504, 0.2101620102320354, 0.14011698578807746, 0.07614327352427275, 0.054546037910831215, 0.04488931167971885, 0.017545314932823568, 0.0008009599918146854, 0.0031644721381066435, 0.0020515704002462896]\n",
      "0.9819309871780432 \n",
      " [0.4193818773279504, 0.2101620102320354, 0.14011698578807746, 0.07614327352427275, 0.054546037910831215, 0.04488931167971885, 0.017545314932823568, 0.0008009599918146854, 0.0031644721381066435, 0.0020515704002462896, 0.01312917325216576]\n",
      "0.9913830910268612 \n",
      " [0.4193818773279504, 0.2101620102320354, 0.14011698578807746, 0.07614327352427275, 0.054546037910831215, 0.04488931167971885, 0.017545314932823568, 0.0008009599918146854, 0.0031644721381066435, 0.0020515704002462896, 0.01312917325216576, 0.009452103848818033]\n",
      "1.0000000000000002 \n",
      " [0.4193818773279504, 0.2101620102320354, 0.14011698578807746, 0.07614327352427275, 0.054546037910831215, 0.04488931167971885, 0.017545314932823568, 0.0008009599918146854, 0.0031644721381066435, 0.0020515704002462896, 0.01312917325216576, 0.009452103848818033, 0.008616908973139001]\n"
     ]
    }
   ],
   "source": [
    "explained_variances = []\n",
    "for i in range(len(values)):\n",
    "    explained_variances.append(values[i] / np.sum(values))\n",
    " \n",
    "    print(np.sum(explained_variances), \"\\n\", explained_variances)"
   ]
  },
  {
   "cell_type": "code",
   "execution_count": 82,
   "metadata": {},
   "outputs": [
    {
     "ename": "KeyError",
     "evalue": "'Y'",
     "output_type": "error",
     "traceback": [
      "\u001b[1;31m---------------------------------------------------------------------------\u001b[0m",
      "\u001b[1;31mKeyError\u001b[0m                                  Traceback (most recent call last)",
      "\u001b[1;32m~\\anaconda3\\lib\\site-packages\\pandas\\core\\indexes\\base.py\u001b[0m in \u001b[0;36mget_loc\u001b[1;34m(self, key, method, tolerance)\u001b[0m\n\u001b[0;32m   2894\u001b[0m             \u001b[1;32mtry\u001b[0m\u001b[1;33m:\u001b[0m\u001b[1;33m\u001b[0m\u001b[1;33m\u001b[0m\u001b[0m\n\u001b[1;32m-> 2895\u001b[1;33m                 \u001b[1;32mreturn\u001b[0m \u001b[0mself\u001b[0m\u001b[1;33m.\u001b[0m\u001b[0m_engine\u001b[0m\u001b[1;33m.\u001b[0m\u001b[0mget_loc\u001b[0m\u001b[1;33m(\u001b[0m\u001b[0mcasted_key\u001b[0m\u001b[1;33m)\u001b[0m\u001b[1;33m\u001b[0m\u001b[1;33m\u001b[0m\u001b[0m\n\u001b[0m\u001b[0;32m   2896\u001b[0m             \u001b[1;32mexcept\u001b[0m \u001b[0mKeyError\u001b[0m \u001b[1;32mas\u001b[0m \u001b[0merr\u001b[0m\u001b[1;33m:\u001b[0m\u001b[1;33m\u001b[0m\u001b[1;33m\u001b[0m\u001b[0m\n",
      "\u001b[1;32mpandas\\_libs\\index.pyx\u001b[0m in \u001b[0;36mpandas._libs.index.IndexEngine.get_loc\u001b[1;34m()\u001b[0m\n",
      "\u001b[1;32mpandas\\_libs\\index.pyx\u001b[0m in \u001b[0;36mpandas._libs.index.IndexEngine.get_loc\u001b[1;34m()\u001b[0m\n",
      "\u001b[1;32mpandas\\_libs\\hashtable_class_helper.pxi\u001b[0m in \u001b[0;36mpandas._libs.hashtable.PyObjectHashTable.get_item\u001b[1;34m()\u001b[0m\n",
      "\u001b[1;32mpandas\\_libs\\hashtable_class_helper.pxi\u001b[0m in \u001b[0;36mpandas._libs.hashtable.PyObjectHashTable.get_item\u001b[1;34m()\u001b[0m\n",
      "\u001b[1;31mKeyError\u001b[0m: 'Y'",
      "\nThe above exception was the direct cause of the following exception:\n",
      "\u001b[1;31mKeyError\u001b[0m                                  Traceback (most recent call last)",
      "\u001b[1;32m<ipython-input-82-26444ec86ada>\u001b[0m in \u001b[0;36m<module>\u001b[1;34m\u001b[0m\n\u001b[0;32m      3\u001b[0m \u001b[0mres\u001b[0m \u001b[1;33m=\u001b[0m \u001b[0mpd\u001b[0m\u001b[1;33m.\u001b[0m\u001b[0mDataFrame\u001b[0m\u001b[1;33m(\u001b[0m\u001b[0mprojected_1\u001b[0m\u001b[1;33m,\u001b[0m \u001b[0mcolumns\u001b[0m\u001b[1;33m=\u001b[0m\u001b[1;33m[\u001b[0m\u001b[1;34m\"PC1\"\u001b[0m\u001b[1;33m]\u001b[0m\u001b[1;33m)\u001b[0m\u001b[1;33m\u001b[0m\u001b[1;33m\u001b[0m\u001b[0m\n\u001b[0;32m      4\u001b[0m \u001b[0mres\u001b[0m\u001b[1;33m[\u001b[0m\u001b[1;34m\"PC2\"\u001b[0m\u001b[1;33m]\u001b[0m \u001b[1;33m=\u001b[0m \u001b[0mprojected_2\u001b[0m\u001b[1;33m\u001b[0m\u001b[1;33m\u001b[0m\u001b[0m\n\u001b[1;32m----> 5\u001b[1;33m \u001b[0my\u001b[0m \u001b[1;33m=\u001b[0m \u001b[0mres\u001b[0m\u001b[1;33m[\u001b[0m\u001b[1;34m\"Y\"\u001b[0m\u001b[1;33m]\u001b[0m\u001b[1;33m\u001b[0m\u001b[1;33m\u001b[0m\u001b[0m\n\u001b[0m\u001b[0;32m      6\u001b[0m \u001b[0mres\u001b[0m\u001b[1;33m.\u001b[0m\u001b[0mhead\u001b[0m\u001b[1;33m(\u001b[0m\u001b[1;33m)\u001b[0m\u001b[1;33m\u001b[0m\u001b[1;33m\u001b[0m\u001b[0m\n",
      "\u001b[1;32m~\\anaconda3\\lib\\site-packages\\pandas\\core\\frame.py\u001b[0m in \u001b[0;36m__getitem__\u001b[1;34m(self, key)\u001b[0m\n\u001b[0;32m   2900\u001b[0m             \u001b[1;32mif\u001b[0m \u001b[0mself\u001b[0m\u001b[1;33m.\u001b[0m\u001b[0mcolumns\u001b[0m\u001b[1;33m.\u001b[0m\u001b[0mnlevels\u001b[0m \u001b[1;33m>\u001b[0m \u001b[1;36m1\u001b[0m\u001b[1;33m:\u001b[0m\u001b[1;33m\u001b[0m\u001b[1;33m\u001b[0m\u001b[0m\n\u001b[0;32m   2901\u001b[0m                 \u001b[1;32mreturn\u001b[0m \u001b[0mself\u001b[0m\u001b[1;33m.\u001b[0m\u001b[0m_getitem_multilevel\u001b[0m\u001b[1;33m(\u001b[0m\u001b[0mkey\u001b[0m\u001b[1;33m)\u001b[0m\u001b[1;33m\u001b[0m\u001b[1;33m\u001b[0m\u001b[0m\n\u001b[1;32m-> 2902\u001b[1;33m             \u001b[0mindexer\u001b[0m \u001b[1;33m=\u001b[0m \u001b[0mself\u001b[0m\u001b[1;33m.\u001b[0m\u001b[0mcolumns\u001b[0m\u001b[1;33m.\u001b[0m\u001b[0mget_loc\u001b[0m\u001b[1;33m(\u001b[0m\u001b[0mkey\u001b[0m\u001b[1;33m)\u001b[0m\u001b[1;33m\u001b[0m\u001b[1;33m\u001b[0m\u001b[0m\n\u001b[0m\u001b[0;32m   2903\u001b[0m             \u001b[1;32mif\u001b[0m \u001b[0mis_integer\u001b[0m\u001b[1;33m(\u001b[0m\u001b[0mindexer\u001b[0m\u001b[1;33m)\u001b[0m\u001b[1;33m:\u001b[0m\u001b[1;33m\u001b[0m\u001b[1;33m\u001b[0m\u001b[0m\n\u001b[0;32m   2904\u001b[0m                 \u001b[0mindexer\u001b[0m \u001b[1;33m=\u001b[0m \u001b[1;33m[\u001b[0m\u001b[0mindexer\u001b[0m\u001b[1;33m]\u001b[0m\u001b[1;33m\u001b[0m\u001b[1;33m\u001b[0m\u001b[0m\n",
      "\u001b[1;32m~\\anaconda3\\lib\\site-packages\\pandas\\core\\indexes\\base.py\u001b[0m in \u001b[0;36mget_loc\u001b[1;34m(self, key, method, tolerance)\u001b[0m\n\u001b[0;32m   2895\u001b[0m                 \u001b[1;32mreturn\u001b[0m \u001b[0mself\u001b[0m\u001b[1;33m.\u001b[0m\u001b[0m_engine\u001b[0m\u001b[1;33m.\u001b[0m\u001b[0mget_loc\u001b[0m\u001b[1;33m(\u001b[0m\u001b[0mcasted_key\u001b[0m\u001b[1;33m)\u001b[0m\u001b[1;33m\u001b[0m\u001b[1;33m\u001b[0m\u001b[0m\n\u001b[0;32m   2896\u001b[0m             \u001b[1;32mexcept\u001b[0m \u001b[0mKeyError\u001b[0m \u001b[1;32mas\u001b[0m \u001b[0merr\u001b[0m\u001b[1;33m:\u001b[0m\u001b[1;33m\u001b[0m\u001b[1;33m\u001b[0m\u001b[0m\n\u001b[1;32m-> 2897\u001b[1;33m                 \u001b[1;32mraise\u001b[0m \u001b[0mKeyError\u001b[0m\u001b[1;33m(\u001b[0m\u001b[0mkey\u001b[0m\u001b[1;33m)\u001b[0m \u001b[1;32mfrom\u001b[0m \u001b[0merr\u001b[0m\u001b[1;33m\u001b[0m\u001b[1;33m\u001b[0m\u001b[0m\n\u001b[0m\u001b[0;32m   2898\u001b[0m \u001b[1;33m\u001b[0m\u001b[0m\n\u001b[0;32m   2899\u001b[0m         \u001b[1;32mif\u001b[0m \u001b[0mtolerance\u001b[0m \u001b[1;32mis\u001b[0m \u001b[1;32mnot\u001b[0m \u001b[1;32mNone\u001b[0m\u001b[1;33m:\u001b[0m\u001b[1;33m\u001b[0m\u001b[1;33m\u001b[0m\u001b[0m\n",
      "\u001b[1;31mKeyError\u001b[0m: 'Y'"
     ]
    }
   ],
   "source": [
    "projected_1 = Training_set_I_scaled.dot(vectors.T[0])\n",
    "projected_2 = Training_set_I_scaled.dot(vectors.T[1])\n",
    "res = pd.DataFrame(projected_1, columns=[\"PC1\"])\n",
    "res[\"PC2\"] = projected_2\n",
    "res[\"Y\"] = y\n",
    "res.head()"
   ]
  },
  {
   "cell_type": "code",
   "execution_count": 79,
   "metadata": {},
   "outputs": [
    {
     "ename": "KeyError",
     "evalue": "'y'",
     "output_type": "error",
     "traceback": [
      "\u001b[1;31m---------------------------------------------------------------------------\u001b[0m",
      "\u001b[1;31mKeyError\u001b[0m                                  Traceback (most recent call last)",
      "\u001b[1;32m~\\anaconda3\\lib\\site-packages\\pandas\\core\\indexes\\base.py\u001b[0m in \u001b[0;36mget_loc\u001b[1;34m(self, key, method, tolerance)\u001b[0m\n\u001b[0;32m   2894\u001b[0m             \u001b[1;32mtry\u001b[0m\u001b[1;33m:\u001b[0m\u001b[1;33m\u001b[0m\u001b[1;33m\u001b[0m\u001b[0m\n\u001b[1;32m-> 2895\u001b[1;33m                 \u001b[1;32mreturn\u001b[0m \u001b[0mself\u001b[0m\u001b[1;33m.\u001b[0m\u001b[0m_engine\u001b[0m\u001b[1;33m.\u001b[0m\u001b[0mget_loc\u001b[0m\u001b[1;33m(\u001b[0m\u001b[0mcasted_key\u001b[0m\u001b[1;33m)\u001b[0m\u001b[1;33m\u001b[0m\u001b[1;33m\u001b[0m\u001b[0m\n\u001b[0m\u001b[0;32m   2896\u001b[0m             \u001b[1;32mexcept\u001b[0m \u001b[0mKeyError\u001b[0m \u001b[1;32mas\u001b[0m \u001b[0merr\u001b[0m\u001b[1;33m:\u001b[0m\u001b[1;33m\u001b[0m\u001b[1;33m\u001b[0m\u001b[0m\n",
      "\u001b[1;32mpandas\\_libs\\index.pyx\u001b[0m in \u001b[0;36mpandas._libs.index.IndexEngine.get_loc\u001b[1;34m()\u001b[0m\n",
      "\u001b[1;32mpandas\\_libs\\index.pyx\u001b[0m in \u001b[0;36mpandas._libs.index.IndexEngine.get_loc\u001b[1;34m()\u001b[0m\n",
      "\u001b[1;32mpandas\\_libs\\hashtable_class_helper.pxi\u001b[0m in \u001b[0;36mpandas._libs.hashtable.PyObjectHashTable.get_item\u001b[1;34m()\u001b[0m\n",
      "\u001b[1;32mpandas\\_libs\\hashtable_class_helper.pxi\u001b[0m in \u001b[0;36mpandas._libs.hashtable.PyObjectHashTable.get_item\u001b[1;34m()\u001b[0m\n",
      "\u001b[1;31mKeyError\u001b[0m: 'y'",
      "\nThe above exception was the direct cause of the following exception:\n",
      "\u001b[1;31mKeyError\u001b[0m                                  Traceback (most recent call last)",
      "\u001b[1;32m<ipython-input-79-0916dfb7e2e6>\u001b[0m in \u001b[0;36m<module>\u001b[1;34m\u001b[0m\n\u001b[0;32m      2\u001b[0m \u001b[1;32mimport\u001b[0m \u001b[0mseaborn\u001b[0m \u001b[1;32mas\u001b[0m \u001b[0msns\u001b[0m\u001b[1;33m\u001b[0m\u001b[1;33m\u001b[0m\u001b[0m\n\u001b[0;32m      3\u001b[0m \u001b[0mplt\u001b[0m\u001b[1;33m.\u001b[0m\u001b[0mfigure\u001b[0m\u001b[1;33m(\u001b[0m\u001b[0mfigsize\u001b[0m\u001b[1;33m=\u001b[0m\u001b[1;33m(\u001b[0m\u001b[1;36m20\u001b[0m\u001b[1;33m,\u001b[0m \u001b[1;36m10\u001b[0m\u001b[1;33m)\u001b[0m\u001b[1;33m)\u001b[0m\u001b[1;33m\u001b[0m\u001b[1;33m\u001b[0m\u001b[0m\n\u001b[1;32m----> 4\u001b[1;33m \u001b[0msns\u001b[0m\u001b[1;33m.\u001b[0m\u001b[0mscatterplot\u001b[0m\u001b[1;33m(\u001b[0m\u001b[0mres\u001b[0m\u001b[1;33m[\u001b[0m\u001b[1;34m\"PC1\"\u001b[0m\u001b[1;33m]\u001b[0m\u001b[1;33m,\u001b[0m \u001b[1;33m[\u001b[0m\u001b[1;36m0\u001b[0m\u001b[1;33m]\u001b[0m \u001b[1;33m*\u001b[0m \u001b[0mlen\u001b[0m\u001b[1;33m(\u001b[0m\u001b[0mres\u001b[0m\u001b[1;33m)\u001b[0m\u001b[1;33m,\u001b[0m \u001b[0mhue\u001b[0m\u001b[1;33m=\u001b[0m\u001b[0mres\u001b[0m\u001b[1;33m[\u001b[0m\u001b[1;34m\"y\"\u001b[0m\u001b[1;33m]\u001b[0m\u001b[1;33m,\u001b[0m \u001b[0ms\u001b[0m\u001b[1;33m=\u001b[0m\u001b[1;36m200\u001b[0m\u001b[1;33m)\u001b[0m\u001b[1;33m\u001b[0m\u001b[1;33m\u001b[0m\u001b[0m\n\u001b[0m",
      "\u001b[1;32m~\\anaconda3\\lib\\site-packages\\pandas\\core\\frame.py\u001b[0m in \u001b[0;36m__getitem__\u001b[1;34m(self, key)\u001b[0m\n\u001b[0;32m   2900\u001b[0m             \u001b[1;32mif\u001b[0m \u001b[0mself\u001b[0m\u001b[1;33m.\u001b[0m\u001b[0mcolumns\u001b[0m\u001b[1;33m.\u001b[0m\u001b[0mnlevels\u001b[0m \u001b[1;33m>\u001b[0m \u001b[1;36m1\u001b[0m\u001b[1;33m:\u001b[0m\u001b[1;33m\u001b[0m\u001b[1;33m\u001b[0m\u001b[0m\n\u001b[0;32m   2901\u001b[0m                 \u001b[1;32mreturn\u001b[0m \u001b[0mself\u001b[0m\u001b[1;33m.\u001b[0m\u001b[0m_getitem_multilevel\u001b[0m\u001b[1;33m(\u001b[0m\u001b[0mkey\u001b[0m\u001b[1;33m)\u001b[0m\u001b[1;33m\u001b[0m\u001b[1;33m\u001b[0m\u001b[0m\n\u001b[1;32m-> 2902\u001b[1;33m             \u001b[0mindexer\u001b[0m \u001b[1;33m=\u001b[0m \u001b[0mself\u001b[0m\u001b[1;33m.\u001b[0m\u001b[0mcolumns\u001b[0m\u001b[1;33m.\u001b[0m\u001b[0mget_loc\u001b[0m\u001b[1;33m(\u001b[0m\u001b[0mkey\u001b[0m\u001b[1;33m)\u001b[0m\u001b[1;33m\u001b[0m\u001b[1;33m\u001b[0m\u001b[0m\n\u001b[0m\u001b[0;32m   2903\u001b[0m             \u001b[1;32mif\u001b[0m \u001b[0mis_integer\u001b[0m\u001b[1;33m(\u001b[0m\u001b[0mindexer\u001b[0m\u001b[1;33m)\u001b[0m\u001b[1;33m:\u001b[0m\u001b[1;33m\u001b[0m\u001b[1;33m\u001b[0m\u001b[0m\n\u001b[0;32m   2904\u001b[0m                 \u001b[0mindexer\u001b[0m \u001b[1;33m=\u001b[0m \u001b[1;33m[\u001b[0m\u001b[0mindexer\u001b[0m\u001b[1;33m]\u001b[0m\u001b[1;33m\u001b[0m\u001b[1;33m\u001b[0m\u001b[0m\n",
      "\u001b[1;32m~\\anaconda3\\lib\\site-packages\\pandas\\core\\indexes\\base.py\u001b[0m in \u001b[0;36mget_loc\u001b[1;34m(self, key, method, tolerance)\u001b[0m\n\u001b[0;32m   2895\u001b[0m                 \u001b[1;32mreturn\u001b[0m \u001b[0mself\u001b[0m\u001b[1;33m.\u001b[0m\u001b[0m_engine\u001b[0m\u001b[1;33m.\u001b[0m\u001b[0mget_loc\u001b[0m\u001b[1;33m(\u001b[0m\u001b[0mcasted_key\u001b[0m\u001b[1;33m)\u001b[0m\u001b[1;33m\u001b[0m\u001b[1;33m\u001b[0m\u001b[0m\n\u001b[0;32m   2896\u001b[0m             \u001b[1;32mexcept\u001b[0m \u001b[0mKeyError\u001b[0m \u001b[1;32mas\u001b[0m \u001b[0merr\u001b[0m\u001b[1;33m:\u001b[0m\u001b[1;33m\u001b[0m\u001b[1;33m\u001b[0m\u001b[0m\n\u001b[1;32m-> 2897\u001b[1;33m                 \u001b[1;32mraise\u001b[0m \u001b[0mKeyError\u001b[0m\u001b[1;33m(\u001b[0m\u001b[0mkey\u001b[0m\u001b[1;33m)\u001b[0m \u001b[1;32mfrom\u001b[0m \u001b[0merr\u001b[0m\u001b[1;33m\u001b[0m\u001b[1;33m\u001b[0m\u001b[0m\n\u001b[0m\u001b[0;32m   2898\u001b[0m \u001b[1;33m\u001b[0m\u001b[0m\n\u001b[0;32m   2899\u001b[0m         \u001b[1;32mif\u001b[0m \u001b[0mtolerance\u001b[0m \u001b[1;32mis\u001b[0m \u001b[1;32mnot\u001b[0m \u001b[1;32mNone\u001b[0m\u001b[1;33m:\u001b[0m\u001b[1;33m\u001b[0m\u001b[1;33m\u001b[0m\u001b[0m\n",
      "\u001b[1;31mKeyError\u001b[0m: 'y'"
     ]
    },
    {
     "data": {
      "text/plain": [
       "<Figure size 1440x720 with 0 Axes>"
      ]
     },
     "metadata": {},
     "output_type": "display_data"
    }
   ],
   "source": [
    "import matplotlib.pyplot as plt\n",
    "import seaborn as sns\n",
    "plt.figure(figsize=(20, 10))\n",
    "sns.scatterplot(res[\"PC1\"], [0] * len(res), hue=res[\"y\"], s=200)"
   ]
  },
  {
   "cell_type": "code",
   "execution_count": null,
   "metadata": {},
   "outputs": [],
   "source": []
  }
 ],
 "metadata": {
  "kernelspec": {
   "display_name": "Python 3",
   "language": "python",
   "name": "python3"
  },
  "language_info": {
   "codemirror_mode": {
    "name": "ipython",
    "version": 3
   },
   "file_extension": ".py",
   "mimetype": "text/x-python",
   "name": "python",
   "nbconvert_exporter": "python",
   "pygments_lexer": "ipython3",
   "version": "3.8.5"
  }
 },
 "nbformat": 4,
 "nbformat_minor": 4
}
