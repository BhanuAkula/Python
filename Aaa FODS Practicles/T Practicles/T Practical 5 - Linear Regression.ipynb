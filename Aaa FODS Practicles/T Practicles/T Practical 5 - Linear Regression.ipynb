{
 "cells": [
  {
   "cell_type": "code",
   "execution_count": 3,
   "metadata": {},
   "outputs": [],
   "source": [
    "import numpy as np \n",
    "import matplotlib.pyplot as plt\n",
    "\n",
    "from sklearn import datasets"
   ]
  },
  {
   "cell_type": "code",
   "execution_count": 4,
   "metadata": {},
   "outputs": [],
   "source": [
    "#load wine dataset\n",
    "wine = datasets.load_wine()"
   ]
  },
  {
   "cell_type": "code",
   "execution_count": 6,
   "metadata": {},
   "outputs": [
    {
     "data": {
      "text/plain": [
       "(178, 13)"
      ]
     },
     "execution_count": 6,
     "metadata": {},
     "output_type": "execute_result"
    }
   ],
   "source": [
    "wine.data.shape"
   ]
  },
  {
   "cell_type": "code",
   "execution_count": 7,
   "metadata": {},
   "outputs": [
    {
     "data": {
      "text/plain": [
       "'.. _wine_dataset:\\n\\nWine recognition dataset\\n------------------------\\n\\n**Data Set Characteristics:**\\n\\n    :Number of Instances: 178 (50 in each of three classes)\\n    :Number of Attributes: 13 numeric, predictive attributes and the class\\n    :Attribute Information:\\n \\t\\t- Alcohol\\n \\t\\t- Malic acid\\n \\t\\t- Ash\\n\\t\\t- Alcalinity of ash  \\n \\t\\t- Magnesium\\n\\t\\t- Total phenols\\n \\t\\t- Flavanoids\\n \\t\\t- Nonflavanoid phenols\\n \\t\\t- Proanthocyanins\\n\\t\\t- Color intensity\\n \\t\\t- Hue\\n \\t\\t- OD280/OD315 of diluted wines\\n \\t\\t- Proline\\n\\n    - class:\\n            - class_0\\n            - class_1\\n            - class_2\\n\\t\\t\\n    :Summary Statistics:\\n    \\n    ============================= ==== ===== ======= =====\\n                                   Min   Max   Mean     SD\\n    ============================= ==== ===== ======= =====\\n    Alcohol:                      11.0  14.8    13.0   0.8\\n    Malic Acid:                   0.74  5.80    2.34  1.12\\n    Ash:                          1.36  3.23    2.36  0.27\\n    Alcalinity of Ash:            10.6  30.0    19.5   3.3\\n    Magnesium:                    70.0 162.0    99.7  14.3\\n    Total Phenols:                0.98  3.88    2.29  0.63\\n    Flavanoids:                   0.34  5.08    2.03  1.00\\n    Nonflavanoid Phenols:         0.13  0.66    0.36  0.12\\n    Proanthocyanins:              0.41  3.58    1.59  0.57\\n    Colour Intensity:              1.3  13.0     5.1   2.3\\n    Hue:                          0.48  1.71    0.96  0.23\\n    OD280/OD315 of diluted wines: 1.27  4.00    2.61  0.71\\n    Proline:                       278  1680     746   315\\n    ============================= ==== ===== ======= =====\\n\\n    :Missing Attribute Values: None\\n    :Class Distribution: class_0 (59), class_1 (71), class_2 (48)\\n    :Creator: R.A. Fisher\\n    :Donor: Michael Marshall (MARSHALL%PLU@io.arc.nasa.gov)\\n    :Date: July, 1988\\n\\nThis is a copy of UCI ML Wine recognition datasets.\\nhttps://archive.ics.uci.edu/ml/machine-learning-databases/wine/wine.data\\n\\nThe data is the results of a chemical analysis of wines grown in the same\\nregion in Italy by three different cultivators. There are thirteen different\\nmeasurements taken for different constituents found in the three types of\\nwine.\\n\\nOriginal Owners: \\n\\nForina, M. et al, PARVUS - \\nAn Extendible Package for Data Exploration, Classification and Correlation. \\nInstitute of Pharmaceutical and Food Analysis and Technologies,\\nVia Brigata Salerno, 16147 Genoa, Italy.\\n\\nCitation:\\n\\nLichman, M. (2013). UCI Machine Learning Repository\\n[https://archive.ics.uci.edu/ml]. Irvine, CA: University of California,\\nSchool of Information and Computer Science. \\n\\n.. topic:: References\\n\\n  (1) S. Aeberhard, D. Coomans and O. de Vel, \\n  Comparison of Classifiers in High Dimensional Settings, \\n  Tech. Rep. no. 92-02, (1992), Dept. of Computer Science and Dept. of  \\n  Mathematics and Statistics, James Cook University of North Queensland. \\n  (Also submitted to Technometrics). \\n\\n  The data was used with many others for comparing various \\n  classifiers. The classes are separable, though only RDA \\n  has achieved 100% correct classification. \\n  (RDA : 100%, QDA 99.4%, LDA 98.9%, 1NN 96.1% (z-transformed data)) \\n  (All results using the leave-one-out technique) \\n\\n  (2) S. Aeberhard, D. Coomans and O. de Vel, \\n  \"THE CLASSIFICATION PERFORMANCE OF RDA\" \\n  Tech. Rep. no. 92-01, (1992), Dept. of Computer Science and Dept. of \\n  Mathematics and Statistics, James Cook University of North Queensland. \\n  (Also submitted to Journal of Chemometrics).\\n'"
      ]
     },
     "execution_count": 7,
     "metadata": {},
     "output_type": "execute_result"
    }
   ],
   "source": [
    "wine.DESCR"
   ]
  },
  {
   "cell_type": "code",
   "execution_count": 9,
   "metadata": {},
   "outputs": [
    {
     "data": {
      "text/plain": [
       "array([[1.423e+01, 1.710e+00, 2.430e+00, ..., 1.040e+00, 3.920e+00,\n",
       "        1.065e+03],\n",
       "       [1.320e+01, 1.780e+00, 2.140e+00, ..., 1.050e+00, 3.400e+00,\n",
       "        1.050e+03],\n",
       "       [1.316e+01, 2.360e+00, 2.670e+00, ..., 1.030e+00, 3.170e+00,\n",
       "        1.185e+03],\n",
       "       ...,\n",
       "       [1.327e+01, 4.280e+00, 2.260e+00, ..., 5.900e-01, 1.560e+00,\n",
       "        8.350e+02],\n",
       "       [1.317e+01, 2.590e+00, 2.370e+00, ..., 6.000e-01, 1.620e+00,\n",
       "        8.400e+02],\n",
       "       [1.413e+01, 4.100e+00, 2.740e+00, ..., 6.100e-01, 1.600e+00,\n",
       "        5.600e+02]])"
      ]
     },
     "execution_count": 9,
     "metadata": {},
     "output_type": "execute_result"
    }
   ],
   "source": [
    "wine.data"
   ]
  },
  {
   "cell_type": "code",
   "execution_count": 10,
   "metadata": {},
   "outputs": [
    {
     "data": {
      "text/plain": [
       "array([0, 0, 0, 0, 0, 0, 0, 0, 0, 0, 0, 0, 0, 0, 0, 0, 0, 0, 0, 0, 0, 0,\n",
       "       0, 0, 0, 0, 0, 0, 0, 0, 0, 0, 0, 0, 0, 0, 0, 0, 0, 0, 0, 0, 0, 0,\n",
       "       0, 0, 0, 0, 0, 0, 0, 0, 0, 0, 0, 0, 0, 0, 0, 1, 1, 1, 1, 1, 1, 1,\n",
       "       1, 1, 1, 1, 1, 1, 1, 1, 1, 1, 1, 1, 1, 1, 1, 1, 1, 1, 1, 1, 1, 1,\n",
       "       1, 1, 1, 1, 1, 1, 1, 1, 1, 1, 1, 1, 1, 1, 1, 1, 1, 1, 1, 1, 1, 1,\n",
       "       1, 1, 1, 1, 1, 1, 1, 1, 1, 1, 1, 1, 1, 1, 1, 1, 1, 1, 1, 1, 2, 2,\n",
       "       2, 2, 2, 2, 2, 2, 2, 2, 2, 2, 2, 2, 2, 2, 2, 2, 2, 2, 2, 2, 2, 2,\n",
       "       2, 2, 2, 2, 2, 2, 2, 2, 2, 2, 2, 2, 2, 2, 2, 2, 2, 2, 2, 2, 2, 2,\n",
       "       2, 2])"
      ]
     },
     "execution_count": 10,
     "metadata": {},
     "output_type": "execute_result"
    }
   ],
   "source": [
    "wine.target"
   ]
  },
  {
   "cell_type": "code",
   "execution_count": 11,
   "metadata": {},
   "outputs": [
    {
     "data": {
      "text/plain": [
       "['alcohol',\n",
       " 'malic_acid',\n",
       " 'ash',\n",
       " 'alcalinity_of_ash',\n",
       " 'magnesium',\n",
       " 'total_phenols',\n",
       " 'flavanoids',\n",
       " 'nonflavanoid_phenols',\n",
       " 'proanthocyanins',\n",
       " 'color_intensity',\n",
       " 'hue',\n",
       " 'od280/od315_of_diluted_wines',\n",
       " 'proline']"
      ]
     },
     "execution_count": 11,
     "metadata": {},
     "output_type": "execute_result"
    }
   ],
   "source": [
    "wine.feature_names"
   ]
  },
  {
   "cell_type": "code",
   "execution_count": 12,
   "metadata": {},
   "outputs": [
    {
     "data": {
      "text/plain": [
       "array(['class_0', 'class_1', 'class_2'], dtype='<U7')"
      ]
     },
     "execution_count": 12,
     "metadata": {},
     "output_type": "execute_result"
    }
   ],
   "source": [
    "wine.target_names"
   ]
  },
  {
   "cell_type": "code",
   "execution_count": 15,
   "metadata": {},
   "outputs": [
    {
     "data": {
      "image/png": "[encoded data removed]",
      "text/plain": [
       "<Figure size 432x288 with 1 Axes>"
      ]
     },
     "metadata": {
      "needs_background": "light"
     },
     "output_type": "display_data"
    }
   ],
   "source": [
    "#Plot the boxplot for each of the feature\n",
    "fig = plt.figure()\n",
    "ax = plt.boxplot(wine.data)"
   ]
  },
  {
   "cell_type": "code",
   "execution_count": 19,
   "metadata": {},
   "outputs": [],
   "source": [
    "from sklearn.datasets import load_wine\n",
    "data, target = load_wine(return_X_y = True)\n",
    "\n",
    "from sklearn.preprocessing import StandardScaler\n",
    "x = StandardScaler().fit_transform(data)"
   ]
  },
  {
   "cell_type": "code",
   "execution_count": 22,
   "metadata": {},
   "outputs": [
    {
     "data": {
      "image/png": "[encoded data removed]",
      "text/plain": [
       "<Figure size 432x288 with 1 Axes>"
      ]
     },
     "metadata": {
      "needs_background": "light"
     },
     "output_type": "display_data"
    }
   ],
   "source": [
    "fig = plt.figure()\n",
    "ax = plt.boxplot(x)"
   ]
  },
  {
   "cell_type": "code",
   "execution_count": 28,
   "metadata": {},
   "outputs": [
    {
     "data": {
      "text/plain": [
       "array([0.36198848, 0.1920749 , 0.11123631, 0.0706903 , 0.06563294,\n",
       "       0.04935823, 0.04238679, 0.02680749, 0.02222153, 0.01930019,\n",
       "       0.01736836, 0.01298233, 0.00795215])"
      ]
     },
     "execution_count": 28,
     "metadata": {},
     "output_type": "execute_result"
    }
   ],
   "source": [
    "from sklearn.decomposition import PCA\n",
    "pca = PCA()\n",
    "proj_wine = pca.fit_transform(x)\n",
    "\n",
    "pca.explained_variance_ratio_"
   ]
  },
  {
   "cell_type": "code",
   "execution_count": 30,
   "metadata": {},
   "outputs": [
    {
     "data": {
      "image/png": "[encoded data removed]",
      "text/plain": [
       "<Figure size 432x288 with 1 Axes>"
      ]
     },
     "metadata": {
      "needs_background": "light"
     },
     "output_type": "display_data"
    }
   ],
   "source": [
    "fig  = plt.figure()\n",
    "ax = plt.gca()\n",
    "plt.plot(pca.explained_variance_ratio_, color = 'green', linestyle = 'dotted')\n",
    "ax.set_title('Scree Plot')\n",
    "ax.set_xlabel(\"Index of principle components\")\n",
    "ax.set_ylabel(\"Explained variance ratio\")\n",
    "plt.show()"
   ]
  },
  {
   "cell_type": "code",
   "execution_count": 33,
   "metadata": {},
   "outputs": [
    {
     "data": {
      "text/plain": [
       "<matplotlib.collections.PathCollection at 0x7f88dc274af0>"
      ]
     },
     "execution_count": 33,
     "metadata": {},
     "output_type": "execute_result"
    },
    {
     "data": {
      "image/png": "[encoded data removed]",
      "text/plain": [
       "<Figure size 432x288 with 1 Axes>"
      ]
     },
     "metadata": {
      "needs_background": "light"
     },
     "output_type": "display_data"
    }
   ],
   "source": [
    "plt.scatter(proj_wine[:,0], proj_wine[:,1], c=target, edgecolor = 'none')"
   ]
  },
  {
   "cell_type": "code",
   "execution_count": 34,
   "metadata": {},
   "outputs": [
    {
     "data": {
      "text/plain": [
       "5"
      ]
     },
     "execution_count": 34,
     "metadata": {},
     "output_type": "execute_result"
    }
   ],
   "source": [
    "pca = PCA(0.8).fit(x)\n",
    "pca.n_components_"
   ]
  },
  {
   "cell_type": "markdown",
   "metadata": {},
   "source": [
    "# Task 2"
   ]
  },
  {
   "cell_type": "code",
   "execution_count": 36,
   "metadata": {},
   "outputs": [
    {
     "name": "stdout",
     "output_type": "stream",
     "text": [
      "(506, 13)\n",
      "(506,)\n"
     ]
    }
   ],
   "source": [
    "from sklearn.datasets import load_boston\n",
    "boston = load_boston()\n",
    "\n",
    "inputs  = boston.data\n",
    "target = boston.target\n",
    "print(inputs.shape)\n",
    "print(target.shape)"
   ]
  },
  {
   "cell_type": "code",
   "execution_count": 37,
   "metadata": {},
   "outputs": [
    {
     "data": {
      "text/plain": [
       "array(['CRIM', 'ZN', 'INDUS', 'CHAS', 'NOX', 'RM', 'AGE', 'DIS', 'RAD',\n",
       "       'TAX', 'PTRATIO', 'B', 'LSTAT'], dtype='<U7')"
      ]
     },
     "execution_count": 37,
     "metadata": {},
     "output_type": "execute_result"
    }
   ],
   "source": [
    "boston['feature_names']"
   ]
  },
  {
   "cell_type": "code",
   "execution_count": 38,
   "metadata": {},
   "outputs": [
    {
     "data": {
      "text/plain": [
       "array([24. , 21.6, 34.7, 33.4, 36.2, 28.7, 22.9, 27.1, 16.5, 18.9, 15. ,\n",
       "       18.9, 21.7, 20.4, 18.2, 19.9, 23.1, 17.5, 20.2, 18.2, 13.6, 19.6,\n",
       "       15.2, 14.5, 15.6, 13.9, 16.6, 14.8, 18.4, 21. , 12.7, 14.5, 13.2,\n",
       "       13.1, 13.5, 18.9, 20. , 21. , 24.7, 30.8, 34.9, 26.6, 25.3, 24.7,\n",
       "       21.2, 19.3, 20. , 16.6, 14.4, 19.4, 19.7, 20.5, 25. , 23.4, 18.9,\n",
       "       35.4, 24.7, 31.6, 23.3, 19.6, 18.7, 16. , 22.2, 25. , 33. , 23.5,\n",
       "       19.4, 22. , 17.4, 20.9, 24.2, 21.7, 22.8, 23.4, 24.1, 21.4, 20. ,\n",
       "       20.8, 21.2, 20.3, 28. , 23.9, 24.8, 22.9, 23.9, 26.6, 22.5, 22.2,\n",
       "       23.6, 28.7, 22.6, 22. , 22.9, 25. , 20.6, 28.4, 21.4, 38.7, 43.8,\n",
       "       33.2, 27.5, 26.5, 18.6, 19.3, 20.1, 19.5, 19.5, 20.4, 19.8, 19.4,\n",
       "       21.7, 22.8, 18.8, 18.7, 18.5, 18.3, 21.2, 19.2, 20.4, 19.3, 22. ,\n",
       "       20.3, 20.5, 17.3, 18.8, 21.4, 15.7, 16.2, 18. , 14.3, 19.2, 19.6,\n",
       "       23. , 18.4, 15.6, 18.1, 17.4, 17.1, 13.3, 17.8, 14. , 14.4, 13.4,\n",
       "       15.6, 11.8, 13.8, 15.6, 14.6, 17.8, 15.4, 21.5, 19.6, 15.3, 19.4,\n",
       "       17. , 15.6, 13.1, 41.3, 24.3, 23.3, 27. , 50. , 50. , 50. , 22.7,\n",
       "       25. , 50. , 23.8, 23.8, 22.3, 17.4, 19.1, 23.1, 23.6, 22.6, 29.4,\n",
       "       23.2, 24.6, 29.9, 37.2, 39.8, 36.2, 37.9, 32.5, 26.4, 29.6, 50. ,\n",
       "       32. , 29.8, 34.9, 37. , 30.5, 36.4, 31.1, 29.1, 50. , 33.3, 30.3,\n",
       "       34.6, 34.9, 32.9, 24.1, 42.3, 48.5, 50. , 22.6, 24.4, 22.5, 24.4,\n",
       "       20. , 21.7, 19.3, 22.4, 28.1, 23.7, 25. , 23.3, 28.7, 21.5, 23. ,\n",
       "       26.7, 21.7, 27.5, 30.1, 44.8, 50. , 37.6, 31.6, 46.7, 31.5, 24.3,\n",
       "       31.7, 41.7, 48.3, 29. , 24. , 25.1, 31.5, 23.7, 23.3, 22. , 20.1,\n",
       "       22.2, 23.7, 17.6, 18.5, 24.3, 20.5, 24.5, 26.2, 24.4, 24.8, 29.6,\n",
       "       42.8, 21.9, 20.9, 44. , 50. , 36. , 30.1, 33.8, 43.1, 48.8, 31. ,\n",
       "       36.5, 22.8, 30.7, 50. , 43.5, 20.7, 21.1, 25.2, 24.4, 35.2, 32.4,\n",
       "       32. , 33.2, 33.1, 29.1, 35.1, 45.4, 35.4, 46. , 50. , 32.2, 22. ,\n",
       "       20.1, 23.2, 22.3, 24.8, 28.5, 37.3, 27.9, 23.9, 21.7, 28.6, 27.1,\n",
       "       20.3, 22.5, 29. , 24.8, 22. , 26.4, 33.1, 36.1, 28.4, 33.4, 28.2,\n",
       "       22.8, 20.3, 16.1, 22.1, 19.4, 21.6, 23.8, 16.2, 17.8, 19.8, 23.1,\n",
       "       21. , 23.8, 23.1, 20.4, 18.5, 25. , 24.6, 23. , 22.2, 19.3, 22.6,\n",
       "       19.8, 17.1, 19.4, 22.2, 20.7, 21.1, 19.5, 18.5, 20.6, 19. , 18.7,\n",
       "       32.7, 16.5, 23.9, 31.2, 17.5, 17.2, 23.1, 24.5, 26.6, 22.9, 24.1,\n",
       "       18.6, 30.1, 18.2, 20.6, 17.8, 21.7, 22.7, 22.6, 25. , 19.9, 20.8,\n",
       "       16.8, 21.9, 27.5, 21.9, 23.1, 50. , 50. , 50. , 50. , 50. , 13.8,\n",
       "       13.8, 15. , 13.9, 13.3, 13.1, 10.2, 10.4, 10.9, 11.3, 12.3,  8.8,\n",
       "        7.2, 10.5,  7.4, 10.2, 11.5, 15.1, 23.2,  9.7, 13.8, 12.7, 13.1,\n",
       "       12.5,  8.5,  5. ,  6.3,  5.6,  7.2, 12.1,  8.3,  8.5,  5. , 11.9,\n",
       "       27.9, 17.2, 27.5, 15. , 17.2, 17.9, 16.3,  7. ,  7.2,  7.5, 10.4,\n",
       "        8.8,  8.4, 16.7, 14.2, 20.8, 13.4, 11.7,  8.3, 10.2, 10.9, 11. ,\n",
       "        9.5, 14.5, 14.1, 16.1, 14.3, 11.7, 13.4,  9.6,  8.7,  8.4, 12.8,\n",
       "       10.5, 17.1, 18.4, 15.4, 10.8, 11.8, 14.9, 12.6, 14.1, 13. , 13.4,\n",
       "       15.2, 16.1, 17.8, 14.9, 14.1, 12.7, 13.5, 14.9, 20. , 16.4, 17.7,\n",
       "       19.5, 20.2, 21.4, 19.9, 19. , 19.1, 19.1, 20.1, 19.9, 19.6, 23.2,\n",
       "       29.8, 13.8, 13.3, 16.7, 12. , 14.6, 21.4, 23. , 23.7, 25. , 21.8,\n",
       "       20.6, 21.2, 19.1, 20.6, 15.2,  7. ,  8.1, 13.6, 20.1, 21.8, 24.5,\n",
       "       23.1, 19.7, 18.3, 21.2, 17.5, 16.8, 22.4, 20.6, 23.9, 22. , 11.9])"
      ]
     },
     "execution_count": 38,
     "metadata": {},
     "output_type": "execute_result"
    }
   ],
   "source": [
    "boston['target']"
   ]
  },
  {
   "cell_type": "code",
   "execution_count": 44,
   "metadata": {},
   "outputs": [],
   "source": [
    "from sklearn.model_selection import train_test_split\n",
    "\n",
    "x_train, x_test, y_train, y_test = train_test_split(inputs, target, test_size=0.2, random_state=421, shuffle=True)\n",
    "x_trn, x_val, y_trn, y_val = train_test_split(x_train, y_train, test_size = 0.25, random_state=421, shuffle=True)"
   ]
  },
  {
   "cell_type": "code",
   "execution_count": 46,
   "metadata": {},
   "outputs": [
    {
     "data": {
      "text/plain": [
       "<Figure size 14400x7200 with 0 Axes>"
      ]
     },
     "metadata": {},
     "output_type": "display_data"
    },
    {
     "data": {
      "image/png": "[encoded data removed]",
      "text/plain": [
       "<Figure size 432x288 with 15 Axes>"
      ]
     },
     "metadata": {
      "needs_background": "light"
     },
     "output_type": "display_data"
    }
   ],
   "source": [
    "# Task 2.3 #\n",
    "import matplotlib.pyplot as plt\n",
    "\n",
    "\"\"\"Create a plot figure\"\"\"\n",
    "plt.figure(figsize=(200,100))\n",
    "fig, axes = plt.subplots(nrows=3, ncols=5)\n",
    "#spacing with many subplots\n",
    "fig.tight_layout() # Or equivalently,  \"plt.tight_layout()\"\n",
    "\n",
    "\"\"\"Create the first of two panels and set current axis\"\"\"\n",
    "plt.subplot(3,5,1)\n",
    "plt.plot(x_train[:,0], y_train, 'ro')\n",
    "plt.xlabel('CRIM')\n",
    "plt.ylabel('Target')\n",
    "\n",
    "\"\"\"Create the second panel and set current axis\"\"\"\n",
    "plt.subplot(3,5,2)\n",
    "plt.plot(x_train[:,1], y_train, 'ro')\n",
    "plt.xlabel('ZN')\n",
    "plt.ylabel('Target')\n",
    "\n",
    "plt.subplot(3,5,3)\n",
    "plt.plot(x_train[:,2], y_train, 'ro')\n",
    "plt.xlabel('INDUS')\n",
    "plt.ylabel('Target')\n",
    "\n",
    "plt.subplot(3,5,4)\n",
    "plt.plot(x_train[:,3], y_train, 'ro')\n",
    "plt.xlabel('CHAS')\n",
    "plt.ylabel('Target')\n",
    "\n",
    "plt.subplot(3,5,5)\n",
    "plt.plot(x_train[:,4], y_train, 'ro')\n",
    "plt.xlabel('NOX')\n",
    "plt.ylabel('Target')\n",
    "\n",
    "\n",
    "plt.subplot(3,5,6)\n",
    "plt.plot(x_train[:,5], y_train, 'ro')\n",
    "plt.xlabel('RM')\n",
    "plt.ylabel('Target')\n",
    "\n",
    "plt.subplot(3,5,7)\n",
    "plt.plot(x_train[:,6], y_train, 'ro')\n",
    "plt.xlabel('AGE')\n",
    "plt.ylabel('Target')\n",
    "\n",
    "plt.subplot(3,5,8)\n",
    "plt.plot(x_train[:,7], y_train, 'ro')\n",
    "plt.xlabel('DIS')\n",
    "plt.ylabel('Target')\n",
    "\n",
    "plt.subplot(3,5,9)\n",
    "plt.plot(x_train[:,8], y_train, 'ro')\n",
    "plt.xlabel('RAD')\n",
    "plt.ylabel('Target')\n",
    "\n",
    "plt.subplot(3,5,10)\n",
    "plt.plot(x_train[:,9], y_train, 'ro')\n",
    "plt.xlabel('TAX')\n",
    "plt.ylabel('Target')\n",
    "\n",
    "plt.subplot(3,5,11)\n",
    "plt.plot(x_train[:,10], y_train, 'ro')\n",
    "plt.xlabel('PTRATIO')\n",
    "plt.ylabel('Target')\n",
    "\n",
    "plt.subplot(3,5,12)\n",
    "plt.plot(x_train[:,11], y_train, 'ro')\n",
    "plt.xlabel('B')\n",
    "plt.ylabel('Target')\n",
    "\n",
    "plt.subplot(3,5,13)\n",
    "plt.plot(x_train[:,12], y_train, 'ro')\n",
    "plt.xlabel('LATAT')\n",
    "plt.ylabel('Target')\n",
    "\n",
    "plt.show()"
   ]
  },
  {
   "cell_type": "markdown",
   "metadata": {},
   "source": [
    "# Task 3"
   ]
  },
  {
   "cell_type": "code",
   "execution_count": 57,
   "metadata": {},
   "outputs": [],
   "source": [
    "from sklearn import preprocessing\n",
    "\n",
    "#fitting on the training set \n",
    "scaler = preprocessing.StandardScaler().fit(x_trn)\n",
    "\n",
    "#applying the scaling on both the training and the validation set \n",
    "scaled_trnx = scaler.transform(x_trn)\n",
    "scaled_valx = scaler.transform(x_val)"
   ]
  },
  {
   "cell_type": "markdown",
   "metadata": {},
   "source": [
    "## Simple Linear regression"
   ]
  },
  {
   "cell_type": "code",
   "execution_count": 60,
   "metadata": {},
   "outputs": [
    {
     "name": "stdout",
     "output_type": "stream",
     "text": [
      "The intercept= 22.465346534653474\n",
      "The trained coefficients :  [-0.6852196   0.81612508  0.07829653  0.88414406 -1.9117719   2.44062695\n",
      " -0.04048479 -2.97848208  2.17050205 -1.76368092 -1.87306919  0.84330506\n",
      " -3.59222294]\n",
      "RMSE =  4.526588725603608\n"
     ]
    }
   ],
   "source": [
    "from sklearn.linear_model import LinearRegression\n",
    "from sklearn import metrics\n",
    "\n",
    "#instantiate and fit\n",
    "lml = LinearRegression()\n",
    "lml.fit(scaled_trnx, y_trn)\n",
    "\n",
    "#print the coefficients\n",
    "print('The intercept=', lml.intercept_)\n",
    "print('The trained coefficients : ', lml.coef_)\n",
    "\n",
    "#predict the validation set\n",
    "y_val_pred1 = lml.predict(scaled_valx)\n",
    "\n",
    "#RMSE\n",
    "print('RMSE = ', np.sqrt(metrics.mean_squared_error(y_val, y_val_pred1)))"
   ]
  },
  {
   "cell_type": "markdown",
   "metadata": {},
   "source": [
    "## Stochastic Gradient Descent"
   ]
  },
  {
   "cell_type": "code",
   "execution_count": 66,
   "metadata": {},
   "outputs": [
    {
     "name": "stdout",
     "output_type": "stream",
     "text": [
      "The intercept = [22.70143358]\n",
      "The trained coefficients are:  [-0.75839616  0.8710414  -0.11650651  1.32807468 -2.22523809  2.85802213\n",
      " -0.01570321 -2.78928133  1.77720123 -2.19925404 -2.09405062  1.12884402\n",
      " -3.36237932]\n",
      "RMSE =  4.578192335400225\n"
     ]
    }
   ],
   "source": [
    "from sklearn.linear_model import SGDRegressor\n",
    "\n",
    "#instantiate and fit\n",
    "lm2 = SGDRegressor(max_iter = 50, tol=1e-3, penalty=None, eta0=0.1)\n",
    "lm2.fit(scaled_trnx, y_trn)\n",
    "\n",
    "#print the coefficients \n",
    "print('The intercept =', lm2.intercept_)\n",
    "print('The trained coefficients are: ', lm2.coef_)\n",
    "\n",
    "#predict for the validation set \n",
    "y_val_pred2 = lm2.predict(scaled_valx)\n",
    "\n",
    "#RMSE\n",
    "print('RMSE = ', np.sqrt(metrics.mean_squared_error(y_val, y_val_pred2)))"
   ]
  },
  {
   "cell_type": "markdown",
   "metadata": {},
   "source": [
    "## Simple Linear Regression With Polynomial Features"
   ]
  },
  {
   "cell_type": "code",
   "execution_count": 70,
   "metadata": {},
   "outputs": [
    {
     "name": "stdout",
     "output_type": "stream",
     "text": [
      "The intercept =  1371235799234.789\n",
      "The trained coefficients are :  [ 6.55943214e-12  3.63752776e+01  2.99871289e+01 -8.69041791e+00\n",
      "  3.95526027e+12 -1.67345810e+00  3.41895864e+00 -2.80415986e+00\n",
      " -2.35847963e+00 -3.01291199e+01  3.99058838e+01  7.84729004e-01\n",
      "  2.79555511e+00 -2.77716064e+00  1.66015625e-01  7.79914856e+01\n",
      " -1.64575195e+01  8.15620422e+00 -2.01068115e+00  1.34924316e+00\n",
      " -2.14410400e+00 -3.08880615e+00 -6.16519775e+01  7.83492432e+01\n",
      "  8.18408203e+00  2.30102539e-01  6.93359375e-01  2.18200684e-02\n",
      " -1.81481934e+00 -1.07363892e+00 -1.77825928e-01 -2.26318359e-01\n",
      " -8.08044434e-01 -7.91625977e-02 -1.60858154e+00  2.34401703e+00\n",
      " -6.67510986e-01  1.99227905e+00 -8.73718262e-01  1.17803955e+00\n",
      " -1.60269165e+00  2.36955261e+00  1.60522461e+00  6.71672821e-01\n",
      "  1.66558838e+00 -4.56610107e+00  2.28967285e+00 -9.22363281e-01\n",
      "  2.96542358e+00 -5.47363281e-01 -1.37123580e+12 -7.99011230e-01\n",
      " -1.12677002e+00 -1.48925781e-02  1.98950195e+00 -2.08285522e+00\n",
      "  2.35064697e+00 -1.10900116e+00  1.05915833e+00 -6.43402100e-01\n",
      "  2.29721069e-01  8.47534180e-01 -3.14123535e+00  3.29474640e+00\n",
      " -2.19500732e+00  3.19636536e+00 -1.50356674e+00 -7.21740723e-01\n",
      "  1.58209229e+00  1.64306641e-01 -2.02124023e+00 -2.14843750e-02\n",
      " -7.26806641e-01 -2.32470703e+00 -5.92651367e-01  1.03271484e-01\n",
      " -1.41674805e+00  5.52795410e-01 -4.80804443e-02  5.25036621e+00\n",
      " -2.88000488e+00 -1.30584717e-01 -1.91981506e+00 -1.55877686e+00\n",
      "  1.83605957e+00 -1.96472168e+00 -9.93606567e-01 -6.42242432e-02\n",
      " -1.01463318e+00  9.27001953e-01 -9.44653320e+00  1.34807129e+01\n",
      " -1.72506714e+00  2.38377380e+00 -1.03063965e+00 -2.94406128e+00\n",
      "  1.76647949e+00 -4.88388062e+00 -2.00024414e+00  1.53137207e-01\n",
      "  1.13268280e+00 -2.69042969e-01 -1.63948059e-01 -8.65051270e-01\n",
      "  2.27050781e-01]\n",
      "RMSE =  3.777492566430246\n"
     ]
    }
   ],
   "source": [
    "from sklearn.preprocessing import PolynomialFeatures\n",
    "\n",
    "#transforms the existing features to higher degree features\n",
    "poly_reg = PolynomialFeatures(degree = 2)\n",
    "\n",
    "scaler = poly_reg.fit(scaled_trnx)\n",
    "\n",
    "scaled_trnx_poly = scaler.transform(scaled_trnx)\n",
    "scaled_valx_poly = scaler.transform(scaled_valx)\n",
    "\n",
    "#fit transformed features to Linear Regression\n",
    "lm3 = LinearRegression()\n",
    "lm3.fit(scaled_trnx_poly, y_trn)\n",
    "\n",
    "#print the coefficients\n",
    "print('The intercept = ', lm3.intercept_)\n",
    "print('The trained coefficients are : ', lm3.coef_)\n",
    "\n",
    "#predict for the validation_set\n",
    "y_val_pred3 = lm3.predict(scaled_valx_poly)\n",
    "\n",
    "print('RMSE = ', np.sqrt(metrics.mean_squared_error(y_val, y_val_pred3)))\n"
   ]
  },
  {
   "cell_type": "code",
   "execution_count": 71,
   "metadata": {},
   "outputs": [
    {
     "data": {
      "text/plain": [
       "['1',\n",
       " 'x0',\n",
       " 'x1',\n",
       " 'x2',\n",
       " 'x3',\n",
       " 'x4',\n",
       " 'x5',\n",
       " 'x6',\n",
       " 'x7',\n",
       " 'x8',\n",
       " 'x9',\n",
       " 'x10',\n",
       " 'x11',\n",
       " 'x12',\n",
       " 'x0^2',\n",
       " 'x0 x1',\n",
       " 'x0 x2',\n",
       " 'x0 x3',\n",
       " 'x0 x4',\n",
       " 'x0 x5',\n",
       " 'x0 x6',\n",
       " 'x0 x7',\n",
       " 'x0 x8',\n",
       " 'x0 x9',\n",
       " 'x0 x10',\n",
       " 'x0 x11',\n",
       " 'x0 x12',\n",
       " 'x1^2',\n",
       " 'x1 x2',\n",
       " 'x1 x3',\n",
       " 'x1 x4',\n",
       " 'x1 x5',\n",
       " 'x1 x6',\n",
       " 'x1 x7',\n",
       " 'x1 x8',\n",
       " 'x1 x9',\n",
       " 'x1 x10',\n",
       " 'x1 x11',\n",
       " 'x1 x12',\n",
       " 'x2^2',\n",
       " 'x2 x3',\n",
       " 'x2 x4',\n",
       " 'x2 x5',\n",
       " 'x2 x6',\n",
       " 'x2 x7',\n",
       " 'x2 x8',\n",
       " 'x2 x9',\n",
       " 'x2 x10',\n",
       " 'x2 x11',\n",
       " 'x2 x12',\n",
       " 'x3^2',\n",
       " 'x3 x4',\n",
       " 'x3 x5',\n",
       " 'x3 x6',\n",
       " 'x3 x7',\n",
       " 'x3 x8',\n",
       " 'x3 x9',\n",
       " 'x3 x10',\n",
       " 'x3 x11',\n",
       " 'x3 x12',\n",
       " 'x4^2',\n",
       " 'x4 x5',\n",
       " 'x4 x6',\n",
       " 'x4 x7',\n",
       " 'x4 x8',\n",
       " 'x4 x9',\n",
       " 'x4 x10',\n",
       " 'x4 x11',\n",
       " 'x4 x12',\n",
       " 'x5^2',\n",
       " 'x5 x6',\n",
       " 'x5 x7',\n",
       " 'x5 x8',\n",
       " 'x5 x9',\n",
       " 'x5 x10',\n",
       " 'x5 x11',\n",
       " 'x5 x12',\n",
       " 'x6^2',\n",
       " 'x6 x7',\n",
       " 'x6 x8',\n",
       " 'x6 x9',\n",
       " 'x6 x10',\n",
       " 'x6 x11',\n",
       " 'x6 x12',\n",
       " 'x7^2',\n",
       " 'x7 x8',\n",
       " 'x7 x9',\n",
       " 'x7 x10',\n",
       " 'x7 x11',\n",
       " 'x7 x12',\n",
       " 'x8^2',\n",
       " 'x8 x9',\n",
       " 'x8 x10',\n",
       " 'x8 x11',\n",
       " 'x8 x12',\n",
       " 'x9^2',\n",
       " 'x9 x10',\n",
       " 'x9 x11',\n",
       " 'x9 x12',\n",
       " 'x10^2',\n",
       " 'x10 x11',\n",
       " 'x10 x12',\n",
       " 'x11^2',\n",
       " 'x11 x12',\n",
       " 'x12^2']"
      ]
     },
     "execution_count": 71,
     "metadata": {},
     "output_type": "execute_result"
    }
   ],
   "source": [
    "scaler.get_feature_names()"
   ]
  },
  {
   "cell_type": "markdown",
   "metadata": {},
   "source": [
    "## Task 4"
   ]
  },
  {
   "cell_type": "code",
   "execution_count": 82,
   "metadata": {},
   "outputs": [
    {
     "name": "stdout",
     "output_type": "stream",
     "text": [
      "The intercept =  -1601641098718.7266\n",
      "The trained coefficients are:  [-9.71037461e-12  7.43548592e+00  6.71738381e+00  6.26768884e+00\n",
      " -4.61985270e+12 -1.38193065e+00  3.14177741e+00 -2.42676648e+00\n",
      " -3.11022354e+00  6.96777344e-01 -3.19262695e+00  4.47998047e-01\n",
      "  1.74426270e+00 -2.80554199e+00  2.13867188e-01  1.88803711e+01\n",
      "  1.07375870e+01  8.73852539e+00 -2.20060730e+00  1.14527893e+00\n",
      " -1.81057739e+00 -2.19338989e+00  3.86418915e+00 -1.21748199e+01\n",
      "  5.71496582e+00  5.06591797e-02  1.17613220e+00 -2.90039062e-01\n",
      " -1.40893555e+00 -1.06656647e+00 -1.38846588e+00  2.87750244e-01\n",
      " -2.85644531e-01 -6.67327881e-01 -3.94470215e-01  2.58250427e+00\n",
      " -3.65478516e-01  3.49731445e-01 -6.16455078e-01  1.68618774e+00\n",
      " -1.03369141e+00  1.52539062e+00  1.57348633e+00  4.69268799e-01\n",
      "  1.51992798e+00  1.01669312e+00  1.65056610e+00 -2.66009331e-01\n",
      "  1.52038574e+00 -5.85906982e-01  1.60164110e+12 -7.49023438e-01\n",
      " -8.52111816e-01 -4.21142578e-03  1.49157715e+00 -1.52375793e+00\n",
      "  9.20288086e-01 -5.54168701e-01  7.53417969e-01 -4.81224060e-01\n",
      " -7.19909668e-01 -1.10626221e-01 -2.23635101e+00  2.15487671e+00\n",
      "  5.87265015e-01  1.54754639e+00 -2.56533051e+00 -5.35797119e-01\n",
      "  7.79327393e-01  6.20727539e-02 -1.09514618e+00 -2.32620239e-01\n",
      " -1.51000977e-01 -2.47149658e+00 -6.47705078e-01 -3.23486328e-03\n",
      " -1.32997131e+00  5.31124115e-01 -1.63299561e-01  4.36431885e+00\n",
      " -2.53068542e+00 -3.46679688e-02 -1.78295898e+00 -1.11462402e+00\n",
      "  1.98152161e+00 -2.22351074e-01 -1.47409058e+00 -7.32421875e-01\n",
      "  8.91601562e-01  1.13626099e+00 -1.06100960e+01  1.05854645e+01\n",
      " -1.46774292e+00 -5.01342773e-01 -1.46838379e+00 -2.46784973e+00\n",
      "  1.41055298e+00 -1.97998047e-01 -8.35922241e-01 -9.27734375e-03\n",
      "  6.09130859e-02  1.32118225e-01 -3.72070312e-01 -1.64245605e-01\n",
      "  3.71490479e-01]\n",
      "RMSE =  4.378015219907903\n"
     ]
    }
   ],
   "source": [
    "from sklearn import preprocessing\n",
    "\n",
    "scaler = preprocessing.StandardScaler().fit(x_trn)\n",
    "\n",
    "scaled_train_x = scaler.transform(x_train)\n",
    "scaled_test_x = scaler.transform(x_test)\n",
    "\n",
    "#transform the existing features to higher degree features \n",
    "poly_reg = PolynomialFeatures(degree = 2)\n",
    "scaler = poly_reg.fit(scaled_train_x)\n",
    "scaled_trnx_poly = scaler.transform(scaled_train_x)\n",
    "scaled_tstx_poly = scaler.transform(scaled_test_x)\n",
    "\n",
    "\n",
    "#fit the transformed features to Linear Regression \n",
    "lm_final = LinearRegression()\n",
    "lm_final.fit(scaled_trnx_poly, y_train)\n",
    "\n",
    "#print the coefficients\n",
    "print('The intercept = ', lm_final.intercept_)\n",
    "print('The trained coefficients are: ', lm_final.coef_)\n",
    "\n",
    "#predict the validation_Set\n",
    "y_tst_predict = lm_final.predict(scaled_tstx_poly)\n",
    "\n",
    "#RMSE \n",
    "print('RMSE = ', np.sqrt(metrics.mean_squared_error(y_test, y_tst_predict)))"
   ]
  }
 ],
 "metadata": {
  "kernelspec": {
   "display_name": "Python 3",
   "language": "python",
   "name": "python3"
  },
  "language_info": {
   "codemirror_mode": {
    "name": "ipython",
    "version": 3
   },
   "file_extension": ".py",
   "mimetype": "text/x-python",
   "name": "python",
   "nbconvert_exporter": "python",
   "pygments_lexer": "ipython3",
   "version": "3.8.5"
  }
 },
 "nbformat": 4,
 "nbformat_minor": 4
}
