{
 "cells": [
  {
   "cell_type": "code",
   "execution_count": 1,
   "metadata": {},
   "outputs": [],
   "source": [
    "from sympy import Derivative, Symbol, sympify, SympifyError"
   ]
  },
  {
   "cell_type": "code",
   "execution_count": 2,
   "metadata": {},
   "outputs": [],
   "source": [
    "#define function for Gradient Ascent \n",
    "\n",
    "def grad_ascent(x0, f1x, x):\n",
    "    epsilon = 1e-6     # threshold ???\n",
    "    step_size = 1e-4   #learning rate \n",
    "    \n",
    "    x_old = x0\n",
    "    #x_new =  x_old + step_size * functions value (y) at x_old \n",
    "    x_new = x_old + step_size * f1x.subs({x:x_old}).evalf()\n",
    "    \n",
    "    #Ascent until the value is greater than threshold. ??\n",
    "    while abs(x_old - x_new) > epsilon:\n",
    "        x_old = x_new\n",
    "        x_new = x_old + step_size * f1x.subs({x:x_old}).evalf()\n",
    "    \n",
    "    return x_new"
   ]
  },
  {
   "cell_type": "code",
   "execution_count": null,
   "metadata": {},
   "outputs": [],
   "source": [
    "if __name__  == '__main__':\n",
    "    f = input('Enter a function in one variable: ')\n",
    "    var = input ('Enter the variable to differentiatie with respect to: ')\n",
    "    var0 = float(input('Enter the initial value of the variable: '))\n",
    "    \n",
    "    try:\n",
    "        f = sympify(f)\n",
    "    except SympifyError:\n",
    "        print('Innvalid function Entered!')\n",
    "    else:\n",
    "        var = Symbol(var)\n",
    "        d = Derivative(f, var).doit()\n",
    "        \n",
    "        var_max = grad_ascent(var0, d, var)  # var or x in the function is not actually required\n",
    "        print('{0}:{1}'.format(var.name, var_max))\n",
    "        print('Maximum value: {0}'.format(f.subs({var:var_max})))"
   ]
  },
  {
   "cell_type": "code",
   "execution_count": null,
   "metadata": {},
   "outputs": [],
   "source": []
  }
 ],
 "metadata": {
  "kernelspec": {
   "display_name": "Python 3",
   "language": "python",
   "name": "python3"
  },
  "language_info": {
   "codemirror_mode": {
    "name": "ipython",
    "version": 3
   },
   "file_extension": ".py",
   "mimetype": "text/x-python",
   "name": "python",
   "nbconvert_exporter": "python",
   "pygments_lexer": "ipython3",
   "version": "3.8.5"
  }
 },
 "nbformat": 4,
 "nbformat_minor": 4
}
