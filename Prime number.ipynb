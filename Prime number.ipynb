{
 "cells": [
  {
   "cell_type": "code",
   "execution_count": 1,
   "metadata": {},
   "outputs": [
    {
     "name": "stdout",
     "output_type": "stream",
     "text": [
      "Hello world\n"
     ]
    }
   ],
   "source": [
    "print (\"Hello world\")"
   ]
  },
  {
   "cell_type": "code",
   "execution_count": 1,
   "metadata": {},
   "outputs": [],
   "source": [
    "def main():\n",
    "    print('Enter a num')\n",
    "    n = eval(input())\n",
    "    \n",
    "    for i in range(2, n):\n",
    "        if n % i == 0:\n",
    "            print('Given number %d is not prime' %n)\n",
    "        else:\n",
    "            print('Given number %d is prime' % n)\n",
    "            \n",
    "    if __name__=='__main__':\n",
    "        main()"
   ]
  },
  {
   "cell_type": "code",
   "execution_count": 5,
   "metadata": {
    "scrolled": true
   },
   "outputs": [
    {
     "name": "stdout",
     "output_type": "stream",
     "text": [
      "0\n",
      "1\n",
      "2\n",
      "3\n",
      "4\n",
      "5\n",
      "6\n",
      "7\n",
      "8\n",
      "9\n"
     ]
    }
   ],
   "source": [
    "for i in range(10):\n",
    "    print(i)"
   ]
  },
  {
   "cell_type": "code",
   "execution_count": 9,
   "metadata": {},
   "outputs": [],
   "source": [
    "def main():\n",
    "    print('Enter a num')\n",
    "    n = eval(input())\n",
    "    \n",
    "    is_prime = True\n",
    "    for i in range(2, n):\n",
    "        if n % i == 0:\n",
    "            print('Given number %d is not prime' %n)\n",
    "            is_prime = False\n",
    "            break"
   ]
  },
  {
   "cell_type": "code",
   "execution_count": 10,
   "metadata": {},
   "outputs": [
    {
     "name": "stdout",
     "output_type": "stream",
     "text": [
      "Enter a num \n",
      "3\n",
      "given number 3 is prime\n"
     ]
    }
   ],
   "source": [
    "def main():\n",
    "    print('Enter a num ')\n",
    "    n = eval(input())\n",
    "    \n",
    "    is_prime = True\n",
    "    for i in range(2, n):\n",
    "        if n % i == 0:\n",
    "            print('Given number %d is not prime' % n)\n",
    "            is_prime = False\n",
    "            break\n",
    "            \n",
    "    if is_prime:\n",
    "        print('given number %d is prime' % n)\n",
    "        \n",
    "if __name__=='__main__':\n",
    "     main()"
   ]
  },
  {
   "cell_type": "code",
   "execution_count": 6,
   "metadata": {},
   "outputs": [
    {
     "data": {
      "text/plain": [
       "8669"
      ]
     },
     "execution_count": 6,
     "metadata": {},
     "output_type": "execute_result"
    }
   ],
   "source": [
    "8669"
   ]
  },
  {
   "cell_type": "code",
   "execution_count": 2,
   "metadata": {},
   "outputs": [
    {
     "data": {
      "text/plain": [
       "56"
      ]
     },
     "execution_count": 2,
     "metadata": {},
     "output_type": "execute_result"
    }
   ],
   "source": [
    "56"
   ]
  },
  {
   "cell_type": "code",
   "execution_count": 7,
   "metadata": {},
   "outputs": [
    {
     "ename": "SyntaxError",
     "evalue": "'break' outside loop (<ipython-input-7-cc6614617605>, line 7)",
     "output_type": "error",
     "traceback": [
      "\u001b[1;36m  File \u001b[1;32m\"<ipython-input-7-cc6614617605>\"\u001b[1;36m, line \u001b[1;32m7\u001b[0m\n\u001b[1;33m    break\u001b[0m\n\u001b[1;37m    ^\u001b[0m\n\u001b[1;31mSyntaxError\u001b[0m\u001b[1;31m:\u001b[0m 'break' outside loop\n"
     ]
    }
   ],
   "source": [
    "def main():\n",
    "    print('Enter a num ')\n",
    "    n = eval(input())\n",
    "    for i in range(2, n):\n",
    "        if n < 10:\n",
    "            print ('Fresher ')\n",
    "            \n",
    "            \n",
    "    tea break()\n",
    "    { first have bisuit; next mix tea}\n",
    "    break\n",
    "    \n",
    "    \n",
    "    if time =4:30 \n",
    "    if __name__=='__main__':\n",
    "     main()"
   ]
  },
  {
   "cell_type": "code",
   "execution_count": 9,
   "metadata": {},
   "outputs": [
    {
     "name": "stdout",
     "output_type": "stream",
     "text": [
      "Hello world\n"
     ]
    }
   ],
   "source": [
    "print (\"Hello world\")"
   ]
  },
  {
   "cell_type": "code",
   "execution_count": null,
   "metadata": {},
   "outputs": [],
   "source": [
    "def main():\n",
    "    print('Enter a num ')\n",
    "    a = eval(input())\n",
    "    \n",
    "    assalu_primeno_avuna_kada = True\n",
    "    for i in range(2, a):\n",
    "        if a % i == 0:\n",
    "            print('Given number %d is not prime' % a)\n",
    "            assalu_primeno_avuna_kada = False\n",
    "            break\n",
    "            \n",
    "    if assalu_primeno_avuna_kada:\n",
    "        print('given number %d is prime' % a)\n",
    "        \n",
    "if __name__=='__main__':\n",
    "     main()"
   ]
  },
  {
   "cell_type": "code",
   "execution_count": null,
   "metadata": {},
   "outputs": [],
   "source": []
  },
  {
   "cell_type": "code",
   "execution_count": 15,
   "metadata": {},
   "outputs": [
    {
     "name": "stdout",
     "output_type": "stream",
     "text": [
      "Enter a num \n",
      "11\n",
      "given number 11 is prime\n"
     ]
    }
   ],
   "source": [
    "def main():\n",
    "    print('Enter a num ')\n",
    "    a = eval(input())\n",
    "    \n",
    "    assalu_primeno_avuna_kada = True\n",
    "    for i in range(2, a):\n",
    "        if a % i == 0:\n",
    "            print('Given number %d is not prime' % a)\n",
    "            assalu_primeno_avuna_kada = False\n",
    "            break\n",
    "            \n",
    "    if assalu_primeno_avuna_kada:\n",
    "        print('given number %d is prime' % a)\n",
    "        \n",
    "if __name__=='__main__':\n",
    "     main()"
   ]
  },
  {
   "cell_type": "code",
   "execution_count": 13,
   "metadata": {},
   "outputs": [
    {
     "name": "stdout",
     "output_type": "stream",
     "text": [
      "Enter ur sal \n",
      "22\n",
      "manager\n"
     ]
    }
   ],
   "source": [
    "def main():\n",
    "    print('Enter ur sal ')\n",
    "    a = eval(input())\n",
    "    if a < 5:\n",
    "        print ('fresher')\n",
    "        \n",
    "    if a in range(5, 8):\n",
    "        print('lead')\n",
    "        \n",
    "    if a >  7:\n",
    "        print('manager')\n",
    "    \n",
    "if __name__=='__main__':\n",
    "     main()"
   ]
  },
  {
   "cell_type": "code",
   "execution_count": null,
   "metadata": {},
   "outputs": [],
   "source": []
  },
  {
   "cell_type": "code",
   "execution_count": null,
   "metadata": {},
   "outputs": [],
   "source": []
  }
 ],
 "metadata": {
  "kernelspec": {
   "display_name": "Python 3",
   "language": "python",
   "name": "python3"
  },
  "language_info": {
   "codemirror_mode": {
    "name": "ipython",
    "version": 3
   },
   "file_extension": ".py",
   "mimetype": "text/x-python",
   "name": "python",
   "nbconvert_exporter": "python",
   "pygments_lexer": "ipython3",
   "version": "3.8.5"
  }
 },
 "nbformat": 4,
 "nbformat_minor": 5
}
