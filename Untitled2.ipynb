{
 "cells": [
  {
   "cell_type": "code",
   "execution_count": 2,
   "id": "protective-colon",
   "metadata": {},
   "outputs": [
    {
     "name": "stdout",
     "output_type": "stream",
     "text": [
      "Hello world\n"
     ]
    }
   ],
   "source": [
    "print (\"Hello world\")"
   ]
  },
  {
   "cell_type": "code",
   "execution_count": 7,
   "id": "proprietary-sally",
   "metadata": {},
   "outputs": [],
   "source": [
    "def main():\n",
    "    print('Enter a num')\n",
    "    n = eval(input())\n",
    "    \n",
    "    for i in range(2, n):\n",
    "        if n % i == 0:\n",
    "            print('Given number %d is not prime' %n)\n",
    "        else:\n",
    "            print('Given number %d is prime' % n)\n",
    "            \n",
    "    if __name__=='__main__':\n",
    "        main()"
   ]
  },
  {
   "cell_type": "code",
   "execution_count": 5,
   "id": "seeing-floating",
   "metadata": {
    "scrolled": true
   },
   "outputs": [
    {
     "name": "stdout",
     "output_type": "stream",
     "text": [
      "0\n",
      "1\n",
      "2\n",
      "3\n",
      "4\n",
      "5\n",
      "6\n",
      "7\n",
      "8\n",
      "9\n"
     ]
    }
   ],
   "source": [
    "for i in range(10):\n",
    "    print(i)"
   ]
  },
  {
   "cell_type": "code",
   "execution_count": 10,
   "id": "macro-lawyer",
   "metadata": {},
   "outputs": [],
   "source": [
    "def main():\n",
    "    print('Enter a num')\n",
    "    n = eval(input())\n",
    "    \n",
    "    is_prime = True\n",
    "    for i in range(2, n):\n",
    "        if n % i == 0:\n",
    "            print('Given number %d is not prime' %n)\n",
    "            is_prime = False\n",
    "            break"
   ]
  },
  {
   "cell_type": "code",
   "execution_count": null,
   "id": "stunning-future",
   "metadata": {},
   "outputs": [],
   "source": []
  },
  {
   "cell_type": "code",
   "execution_count": null,
   "id": "given-pastor",
   "metadata": {},
   "outputs": [
    {
     "name": "stdout",
     "output_type": "stream",
     "text": [
      "Enter a num \n"
     ]
    }
   ],
   "source": [
    "def main():\n",
    "    print('Enter a num ')\n",
    "    n = eval(input())\n",
    "    \n",
    "    is_prime = True\n",
    "    for i in range(2, n):\n",
    "        if n % i == 0:\n",
    "            print('Given number %d is not prime' % n)\n",
    "            is_prime = False\n",
    "            break\n",
    "            \n",
    "    if is_prime:\n",
    "        print('given number %d is prime' % n)\n",
    "        \n",
    "if __name__=='__main__':\n",
    "     main()"
   ]
  },
  {
   "cell_type": "code",
   "execution_count": null,
   "id": "eight-crime",
   "metadata": {},
   "outputs": [],
   "source": []
  }
 ],
 "metadata": {
  "kernelspec": {
   "display_name": "Python 3",
   "language": "python",
   "name": "python3"
  },
  "language_info": {
   "codemirror_mode": {
    "name": "ipython",
    "version": 3
   },
   "file_extension": ".py",
   "mimetype": "text/x-python",
   "name": "python",
   "nbconvert_exporter": "python",
   "pygments_lexer": "ipython3",
   "version": "3.8.5"
  }
 },
 "nbformat": 4,
 "nbformat_minor": 5
}
