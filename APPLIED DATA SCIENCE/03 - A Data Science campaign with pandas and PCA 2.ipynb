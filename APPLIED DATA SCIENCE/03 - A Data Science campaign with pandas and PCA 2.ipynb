{
 "cells": [
  {
   "cell_type": "markdown",
   "metadata": {},
   "source": [
    "# Unit 3 - A Data Science campaign with pandas and PCA\n",
    "This unit covers:\n",
    "* Essential data wrangling with `pandas`;\n",
    "* Working with different data types;\n",
    "* Discerning categorical from numerical features;\n",
    "* Spotting and interpreting the PCA 'variance bug';\n",
    "* Working with a public data set.\n"
   ]
  },
  {
   "cell_type": "code",
   "execution_count": null,
   "metadata": {},
   "outputs": [],
   "source": [
    "import pandas as pd\n",
    "import matplotlib.pyplot as plt\n",
    "%matplotlib inline"
   ]
  },
  {
   "cell_type": "markdown",
   "metadata": {},
   "source": [
    "## Essential Python tools and concepts – `pandas`\n",
    "\n",
    "In this practical we will predominantly be working with the `pandas` library. \n"
   ]
  },
  {
   "cell_type": "code",
   "execution_count": null,
   "metadata": {},
   "outputs": [],
   "source": [
    "import numpy as np\n",
    "import pandas as pd"
   ]
  },
  {
   "cell_type": "markdown",
   "metadata": {},
   "source": [
    "### Pandas Series\n",
    "\n",
    "A Series is a one-dimensional list of values. \n",
    "\n",
    "Note the `NaN` value - it means \"Not a Number\". Originally this represents an undefined numerical, like the result of a division by zero. It is often used to denote missing values. "
   ]
  },
  {
   "cell_type": "code",
   "execution_count": null,
   "metadata": {},
   "outputs": [],
   "source": [
    "values =[1, 3, 5, np.nan, 6, 8] # a list of values\n",
    "pd.Series(values)"
   ]
  },
  {
   "cell_type": "markdown",
   "metadata": {},
   "source": [
    "It can have an index associated with each value. "
   ]
  },
  {
   "cell_type": "code",
   "execution_count": null,
   "metadata": {
    "scrolled": true
   },
   "outputs": [],
   "source": [
    "s = pd.Series(values, index=['a', 'b', 'c', 'd', 'e', 'f'])\n",
    "s"
   ]
  },
  {
   "cell_type": "markdown",
   "metadata": {},
   "source": [
    "**Task 1:** Create a series of values 10,12,14,..20 with the indicies from 0 to 5\n",
    "Save it in the variable called *mySeries*"
   ]
  },
  {
   "cell_type": "markdown",
   "metadata": {},
   "source": [
    "### Pandas Data Frames\n",
    "A **data frame** is like a two-dimensional series."
   ]
  },
  {
   "cell_type": "code",
   "execution_count": null,
   "metadata": {},
   "outputs": [],
   "source": [
    "df = pd.DataFrame(np.random.randn(6,4)) # note the size: 6 rows, 4 columns\n",
    "df"
   ]
  },
  {
   "cell_type": "markdown",
   "metadata": {},
   "source": [
    "You can pass it an index during construction:"
   ]
  },
  {
   "cell_type": "code",
   "execution_count": null,
   "metadata": {},
   "outputs": [],
   "source": [
    "df = pd.DataFrame(np.random.randn(6,4), \n",
    "                  index=[\"row {}\".format(i) for i in range(6)]) # note the size: 6 rows, 4 columns\n",
    "df"
   ]
  },
  {
   "cell_type": "markdown",
   "metadata": {},
   "source": [
    "Likewise, you can pass column names:"
   ]
  },
  {
   "cell_type": "code",
   "execution_count": null,
   "metadata": {},
   "outputs": [],
   "source": [
    "df = pd.DataFrame(np.random.randn(6,4), \n",
    "                  index=[\"row {}\".format(i) for i in range(6)],\n",
    "                  columns=['col {}'.format(i) for i in range(4)]) \n",
    "df"
   ]
  },
  {
   "cell_type": "markdown",
   "metadata": {},
   "source": [
    "You can also construct it from a dictionary:"
   ]
  },
  {
   "cell_type": "code",
   "execution_count": null,
   "metadata": {},
   "outputs": [],
   "source": [
    "columns = {'beep': np.random.randn(6),\n",
    "           'bop': np.random.randn(6),\n",
    "           'bup': np.random.randn(6),\n",
    "           'bap': np.random.randn(6)}\n",
    "df = pd.DataFrame(columns, index=[\"row {}\".format(i) for i in range(6)])\n",
    "df"
   ]
  },
  {
   "cell_type": "markdown",
   "metadata": {},
   "source": [
    "### Data frame addressing\n",
    "We can now address parts of the data by their row and column names. Columns are addressed like this:"
   ]
  },
  {
   "cell_type": "code",
   "execution_count": null,
   "metadata": {},
   "outputs": [],
   "source": [
    "df['bop']"
   ]
  },
  {
   "cell_type": "markdown",
   "metadata": {},
   "source": [
    "Note that the return value type is a Series, not like a Data Frame! This is because it's one-dimensional.\n",
    "\n",
    "Extract multiple columns at once by passing a list of column names. Does not need to be unique!"
   ]
  },
  {
   "cell_type": "code",
   "execution_count": null,
   "metadata": {},
   "outputs": [],
   "source": [
    "df[['bop', 'bap', 'bap']]"
   ]
  },
  {
   "cell_type": "markdown",
   "metadata": {},
   "source": [
    "Here, the return value is a DataFrame because it's two-dimensional."
   ]
  },
  {
   "cell_type": "markdown",
   "metadata": {},
   "source": [
    "Rows use the `.loc` attribute:"
   ]
  },
  {
   "cell_type": "code",
   "execution_count": null,
   "metadata": {},
   "outputs": [],
   "source": [
    "df.loc[['row 0', 'row 2']]"
   ]
  },
  {
   "cell_type": "markdown",
   "metadata": {},
   "source": [
    "The `.iloc` attribute will allow you to specify the number of the row, instead of its label:"
   ]
  },
  {
   "cell_type": "code",
   "execution_count": null,
   "metadata": {},
   "outputs": [],
   "source": [
    "df.iloc[0]"
   ]
  },
  {
   "cell_type": "markdown",
   "metadata": {},
   "source": [
    "It can also use numpy-style addressing for the value matrix:"
   ]
  },
  {
   "cell_type": "code",
   "execution_count": null,
   "metadata": {},
   "outputs": [],
   "source": [
    "df.iloc[2,1:4]"
   ]
  },
  {
   "cell_type": "code",
   "execution_count": null,
   "metadata": {},
   "outputs": [],
   "source": [
    "df.iloc[1:3,0:2]"
   ]
  },
  {
   "cell_type": "markdown",
   "metadata": {},
   "source": [
    "### Advanced data frames\n",
    "\n",
    "Pandas supports all kinds of data types. A data frame can hold all sorts of data types at the same time. This is the principal difference to a `numpy.array`, where all elements need to be of the same data type."
   ]
  },
  {
   "cell_type": "code",
   "execution_count": null,
   "metadata": {},
   "outputs": [],
   "source": [
    "df2 = pd.DataFrame({'A': 1.,\n",
    "                    'B': pd.Timestamp('20130102'),\n",
    "                    'C': pd.Series(1, index=list(range(4)), dtype='float32'),\n",
    "                    'D': np.array([3] * 4, dtype='int32'),\n",
    "                    'E': pd.Categorical([\"test\", \"train\", \"test\", \"train\"]),\n",
    "                    'F': 'foo'})\n",
    "df2"
   ]
  },
  {
   "cell_type": "markdown",
   "metadata": {},
   "source": [
    "The `info()` function gives you an overview of the data types:"
   ]
  },
  {
   "cell_type": "code",
   "execution_count": null,
   "metadata": {},
   "outputs": [],
   "source": [
    "df2.info()"
   ]
  },
  {
   "cell_type": "markdown",
   "metadata": {},
   "source": [
    "This is all the `pandas` you'll need in this practical. Feel free to make yourself familiar with what else `pandas` has to offer. A good starting point is [10 minutes to pandas](https://pandas.pydata.org/pandas-docs/version/1.3/user_guide/10min.html) in the official `pandas` documentation.\n",
    "\n",
    "# Data campaign: Cars \n",
    "You now know (almost) all you need to know to start your first data science campaign. We will analyse the \"cars\" data set. It contains data on historic car models. You will be guided through the first steps, then it's up to you to apply PCA to explore the data. \n",
    "\n",
    "Let's load the data from the internet and make a data frame:"
   ]
  },
  {
   "cell_type": "code",
   "execution_count": null,
   "metadata": {},
   "outputs": [],
   "source": [
    "# use read_csv to read data from url \n",
    "# use set_index to set index 'model\" \n",
    "# show dataframe.\n",
    "\n",
    "cars = pd.read_csv('https://gist.githubusercontent.com/seankross/a412dfbd88b3db70b74b/raw/5f23f993cd87c283ce766e7ac6b329ee7cc2e1d1/mtcars.csv')\n",
    "cars = cars.set_index('model')\n",
    "cars"
   ]
  },
  {
   "cell_type": "markdown",
   "metadata": {},
   "source": [
    "### Descriptive statistics\n"
   ]
  },
  {
   "cell_type": "markdown",
   "metadata": {},
   "source": [
    "Let's have a quick look at some descriptive statistics."
   ]
  },
  {
   "cell_type": "code",
   "execution_count": null,
   "metadata": {},
   "outputs": [],
   "source": [
    "cars.mean()"
   ]
  },
  {
   "cell_type": "code",
   "execution_count": null,
   "metadata": {},
   "outputs": [],
   "source": [
    "cars.var()"
   ]
  },
  {
   "cell_type": "markdown",
   "metadata": {},
   "source": [
    "#### Task\n",
    "What do you notice about the variance?"
   ]
  },
  {
   "cell_type": "markdown",
   "metadata": {},
   "source": [
    "There's also a command that gives you a few common statistical descriptors, all in one data frame. Up to you to decide which you like better!"
   ]
  },
  {
   "cell_type": "code",
   "execution_count": null,
   "metadata": {},
   "outputs": [],
   "source": [
    "cars.describe()"
   ]
  },
  {
   "cell_type": "markdown",
   "metadata": {},
   "source": [
    "## Numerical vs. categorical features\n",
    "**Numerical features** express a quantitative relationship between an instance and a feature. For example, 'height' is a numerical feature of a human. \n",
    "\n",
    "**Categorical features** express whether an instance belongs in a certain category. 'Male', 'female' are two categories that apply to humans (alongside others).\n",
    "\n",
    "Most interesting data sets contain numerical **and** categorical features.\n",
    "\n",
    "For PCA, only numerical features are useful (most of the time). \n",
    "\n",
    "These are the features of the cars dataset:\n",
    "* mpg: Miles per (US) gallon\n",
    "* cyl: Number of cylinders\n",
    "* disp: Displacement (cubic inches)\n",
    "* hp: Gross horsepower\n",
    "* drat: Rear axle ratio\n",
    "* wt: Weight (1000 lbs)\n",
    "* qsec: 1/4 mile time\n",
    "* vs: V-engine (0) or straight engine (1)\n",
    "* am: Transmission (0 = automatic, 1 = manual)\n",
    "* gear: Number of forward gears\n",
    "* carb: Number of carburators\n",
    "\n",
    "\n",
    "### **Task: remove categorical features** \n",
    "1. Decide which features are categorical, which are numerical. Search the internet if you don't know what a certain feature means.  \n",
    "2. Delete categorical features from the data frame. Use the `.drop()` function. Documentation is available [online](https://pandas.pydata.org/pandas-docs/stable/reference/api/pandas.DataFrame.drop.html) or with the built-in documentation accessed by typing `pd.DataFrame.drop?` in a cell and executing it. "
   ]
  },
  {
   "cell_type": "code",
   "execution_count": null,
   "metadata": {},
   "outputs": [],
   "source": [
    "# Please put your solution here, feel free to create more cells if needed"
   ]
  },
  {
   "cell_type": "markdown",
   "metadata": {},
   "source": [
    "### Task: Analyse the cleaned data set using PCA\n",
    "\n",
    "1. Do a pca on the raw data.\n",
    "2. Produce a scatter plot of the PCA'd data.\n",
    "2. Produce a scree plot and analyse how much variance is captured in the first 2 components.\n",
    "3. Plot the covariance matrix of the dataset. What stands out? \n",
    "3. Look at the components of the dataset. Which features are highly represented in the first two components?"
   ]
  },
  {
   "cell_type": "code",
   "execution_count": null,
   "metadata": {},
   "outputs": [],
   "source": [
    "# Please put your solution here, feel free to create more cells if needed"
   ]
  },
  {
   "cell_type": "markdown",
   "metadata": {},
   "source": [
    "### Task: Normalise and observe the effect (the *variance bug*)\n",
    "1. Normalise the data to zero mean and unit variance and repeat the steps above. \n",
    "5. How does the scatter plot of the first two PCs compare to the PCA on the raw data before normalisation? \n",
    "6. What's the difference in the scree plot?\n",
    "7. How is the covariance matrix different?\n",
    "7. How do components differ? \n",
    "8. *(Advanced)* Spot a cluster in the plotted data, find the corresponding data points, figure out what they have in common."
   ]
  },
  {
   "cell_type": "code",
   "execution_count": null,
   "metadata": {},
   "outputs": [],
   "source": [
    "# Please put your solution here, feel free to create more cells if needed"
   ]
  },
  {
   "cell_type": "markdown",
   "metadata": {},
   "source": [
    "# Coronavirus epidemic dynamics\n",
    "\n",
    "Here's a task for advanced students. As you all are aware, last spring we saw the outbreak of Covid-19, aka coronavirus. Here, we're going to analyse a dataset from the beginning of the outbreak, when it was just about to spread around the world. \n",
    "\n",
    "### Task: Explore data on kaggle.com\n",
    "1. Go to the website on the kaggle site: https://www.kaggle.com/sudalairajkumar/novel-corona-virus-2019-dataset \n",
    "2. Inspect the data on the website and the various ways the site lets you explore it. Registration on the website is not necessary.\n",
    "\n",
    "\n",
    "\n",
    "## Working with the Coronavirus outbreak data\n",
    "1. The coronavirus dataset is provided on canvas. Download and save it in the same folder as this notebook.\n",
    "2. Unzip the data.\n",
    "3. Verify that the folder in which this notebook resides should now contain a sub-folder named `novel-corona-virus-2019-dataset`\n",
    "\n",
    "First we load the main dataset into a DataFrame:"
   ]
  },
  {
   "cell_type": "code",
   "execution_count": null,
   "metadata": {},
   "outputs": [],
   "source": [
    "df = pd.read_csv('novel-corona-virus-2019-dataset/2019_nCoV_data.csv')\n",
    "df"
   ]
  },
  {
   "cell_type": "markdown",
   "metadata": {},
   "source": [
    "If this fails then please check again whether the dataset folder is unzipped and resides in the same folder as this notebook. Check that the filename in the command matches the filename of the data set on disk.\n",
    "\n",
    "The `Sno` column contains the serial number and is identical with the aut-generated index column. let's set the Index to track the `Sno` column:"
   ]
  },
  {
   "cell_type": "code",
   "execution_count": null,
   "metadata": {},
   "outputs": [],
   "source": [
    "df = df.set_index('Sno')\n",
    "df "
   ]
  },
  {
   "cell_type": "markdown",
   "metadata": {},
   "source": [
    "Let's explore the data types."
   ]
  },
  {
   "cell_type": "markdown",
   "metadata": {},
   "source": [
    "### Task: \n",
    "Which features are numeric? Which are continuous? Which are categorical?\n",
    "\n",
    "## Initial exploration\n",
    "Let's plot the number of number of confirmed cases for the whole data set."
   ]
  },
  {
   "cell_type": "code",
   "execution_count": null,
   "metadata": {
    "scrolled": false
   },
   "outputs": [],
   "source": [
    "a = df['Confirmed'].plot()"
   ]
  },
  {
   "cell_type": "markdown",
   "metadata": {},
   "source": [
    "### Task\n",
    "\n",
    "Is this the plot you expected? Why not? \n",
    "\n",
    "Solution: The above command naively plots the whole column, but ignores the structure of the data set, where each line applies to a different province/state, or even country.\n",
    "\n",
    "We need to filter by country! Let's look only at the Hubei province, the root of the outbreak:"
   ]
  },
  {
   "cell_type": "code",
   "execution_count": null,
   "metadata": {},
   "outputs": [],
   "source": [
    "df.loc[df['Province/State'] == 'Hubei']"
   ]
  },
  {
   "cell_type": "markdown",
   "metadata": {},
   "source": [
    "That looks better! Let's plot those values:"
   ]
  },
  {
   "cell_type": "code",
   "execution_count": null,
   "metadata": {},
   "outputs": [],
   "source": [
    "df.loc[df['Province/State'] == 'Hubei'].plot()"
   ]
  },
  {
   "cell_type": "markdown",
   "metadata": {},
   "source": [
    "Note how the `.plot()` function of the `DataFrame` object already gives us a plot of all numerical features, complete with a legend!\n",
    "\n",
    "The plot is still lackiong though; It needs for example:\n",
    "* Dates on the x-axis\n",
    "* proper labels on the y-axis\n",
    "\n",
    "### Task (advanced)\n",
    "* Read the documentation of the `DataFrame.plot` command to learn how to make it plot the date on the x-axis.\n",
    "* use the `ax = gca()` method the get an axis object, and call the `set_ylabel()` method to set an appropriate y-label.\n",
    "\n",
    "### Task (advanced)\n",
    "* Plot the data for all of China.\n",
    "* Aggregate the data for the rest of the world and plot it."
   ]
  },
  {
   "cell_type": "code",
   "execution_count": null,
   "metadata": {},
   "outputs": [],
   "source": []
  },
  {
   "cell_type": "markdown",
   "metadata": {},
   "source": [
    "## That's it for today!\n",
    "We have covered have learnt:\n",
    "* Essential `pandas`; how to create, address and modify `pandas` `DataFrame`s.\n",
    "* How to perform a data science campaign using PCA.\n",
    "* Initial loading and ploting of time-series data.\n",
    "\n",
    "Next week we'll continue our analysis of the coronavirus data, with a special focus on visualisation."
   ]
  },
  {
   "cell_type": "markdown",
   "metadata": {},
   "source": [
    "# Submission Instructions\n",
    "\n",
    "Before submitting this via canvas please go to kernel -> 'Restart&Run All'. Please check afterwards if this introduced any issues, then you should fix them. Your notebook should, in the end always represent working code written in a linear way, one cell after the other."
   ]
  },
  {
   "cell_type": "markdown",
   "metadata": {},
   "source": [
    "**Do not touch the cells below!**\n",
    "\n",
    "None of these test are guaranteed to prove correctness, they are just a very general indicators!"
   ]
  },
  {
   "cell_type": "code",
   "execution_count": null,
   "metadata": {},
   "outputs": [],
   "source": [
    "from IPython import display\n",
    "green = \"https://www.iconsdb.com/icons/preview/green/checkmark-xxl.png\"\n",
    "orange = \"https://www.iconsdb.com/icons/preview/orange/checkmark-xxl.png\" \n",
    "red = \"https://www.iconsdb.com/icons/preview/red/checkmark-xxl.png\""
   ]
  },
  {
   "cell_type": "code",
   "execution_count": null,
   "metadata": {},
   "outputs": [],
   "source": [
    "#Task1 Test \n",
    "path=\"\"\n",
    "if(True):\n",
    "    path = red\n",
    "if(str(mySeries[4]) == '18'):\n",
    "    path = orange\n",
    "if(str(mySeries[[4]])[0]):\n",
    "    path = green\n",
    "display.Image(path)"
   ]
  }
 ],
 "metadata": {
  "kernelspec": {
   "display_name": "Python 3",
   "language": "python",
   "name": "python3"
  },
  "language_info": {
   "codemirror_mode": {
    "name": "ipython",
    "version": 3
   },
   "file_extension": ".py",
   "mimetype": "text/x-python",
   "name": "python",
   "nbconvert_exporter": "python",
   "pygments_lexer": "ipython3",
   "version": "3.8.5"
  }
 },
 "nbformat": 4,
 "nbformat_minor": 2
}
