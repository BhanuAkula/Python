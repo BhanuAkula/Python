{
 "cells": [
  {
   "cell_type": "markdown",
   "metadata": {},
   "source": [
    "# Practical 1 - Introduction\n",
    "\n",
    "This notebook introduces you to the essential tools we will be using in this module. Most of you will be familiar with those from last semester's \"Foundations of Data Science\" module. Consider this as a refresher. \n",
    "\n",
    "You work through this notebook at your own pace. Make sure you understand and solve all tasks. Bring any questions, comments, suggestions to next week's practical session."
   ]
  },
  {
   "cell_type": "markdown",
   "metadata": {},
   "source": [
    "## 1 - Jupyter notebooks\n",
    "\n",
    "Jupyter notebooks can contain code, text, and images. You can edit the text and change the code. The first part of this notebook recaps the basics of notebooks and the possibilities they offer to structure text. This is useful e.g. for generating reports. \n",
    "\n",
    "### 1.1 Run and edit some code\n",
    "Below is a code cell. You recognise it by the `In [ ]:` next to it. \n",
    "\n",
    "**Task:** Run the code by selecting the cell with the mouse or with the arrow keys, and press Shift+Enter.\n",
    "\n",
    "**Task:** Make it print \"Data Science rocks!\""
   ]
  },
  {
   "cell_type": "code",
   "execution_count": 1,
   "metadata": {},
   "outputs": [
    {
     "name": "stdout",
     "output_type": "stream",
     "text": [
      "Hello world\n"
     ]
    }
   ],
   "source": [
    "print(\"Hello world\")"
   ]
  },
  {
   "cell_type": "markdown",
   "metadata": {},
   "source": [
    "In case your code contains an error, jupyter will show you the Error or Exception it created that helps you locate the error. \n",
    "\n",
    "**Task:** Fix the code below so that it doesn't create an error. Use the information provied by the Error traceback. (Yes, this will change the semantics of the last line, no worries we are not interested in the result.)"
   ]
  },
  {
   "cell_type": "code",
   "execution_count": 2,
   "metadata": {},
   "outputs": [
    {
     "data": {
      "text/plain": [
       "-3.0"
      ]
     },
     "execution_count": 2,
     "metadata": {},
     "output_type": "execute_result"
    }
   ],
   "source": [
    "a = 1 \n",
    "b = 2\n",
    "#c = 2\n",
    "c = 3\n",
    "d = (a+b)/(b-c)\n",
    "d"
   ]
  },
  {
   "cell_type": "markdown",
   "metadata": {},
   "source": [
    "### 1.3 edit some text\n",
    "Below is a text(markdown) cell. There are four types of cells. You can change the type of a cell by selecting the type in the top line. It supports formatting using Markdown. Select it and observe how the raw text appears, and what is used for formatting. \n",
    "\n",
    "**Task:** Change the cell below from a code to a markdown cell."
   ]
  },
  {
   "cell_type": "markdown",
   "metadata": {},
   "source": [
    "This is code, but it wants to be text!"
   ]
  },
  {
   "cell_type": "markdown",
   "metadata": {},
   "source": [
    "# I'm a text cell. I support headings of different levels:\n",
    "# heading 1\n",
    "## heading 2\n",
    "### heading 3\n",
    "#### heading 4\n",
    "\n",
    "**Task**: is there a level 4 heading? Find out yourself!"
   ]
  },
  {
   "cell_type": "markdown",
   "metadata": {},
   "source": [
    "Please write your attempt for a level 4 heading below in this cell"
   ]
  },
  {
   "cell_type": "markdown",
   "metadata": {},
   "source": [
    "In this cell, observe how *slanted* and **bold** font is created. \n",
    "\n",
    "**Task:** Make the sentence \"I'm slanted.\" appear in *slanted* (italic) font, and the sentence \"I'm bold!\" appear in **bold** font."
   ]
  },
  {
   "cell_type": "markdown",
   "metadata": {},
   "source": [
    "I'm slanted.\n",
    "I'm bold!"
   ]
  },
  {
   "cell_type": "code",
   "execution_count": 3,
   "metadata": {},
   "outputs": [
    {
     "name": "stdout",
     "output_type": "stream",
     "text": [
      "\u001b[1mI'm bold!\n"
     ]
    }
   ],
   "source": [
    "print ('\\033[1m' + \"I'm bold!\")"
   ]
  },
  {
   "cell_type": "code",
   "execution_count": 4,
   "metadata": {},
   "outputs": [
    {
     "name": "stdout",
     "output_type": "stream",
     "text": [
      "\u001b[3m I'm slanted. \u001b[0m\n"
     ]
    }
   ],
   "source": [
    "print(\"\\x1B[3m I'm slanted. \\x1B[0m\") "
   ]
  },
  {
   "cell_type": "markdown",
   "metadata": {},
   "source": [
    "### 1.4 Getting help\n",
    "\n",
    "Jupyter notebooks support two ways of help: \n",
    "1. help for Jupyter notebooks via the \"Help menu\".\n",
    "2. in-line help for Python commands and objects via the `?` command.\n",
    "\n",
    "**Task:** Explore the Help menu. Take the User interface tour.\n",
    "\n",
    "**Task:** Execute the below cell to obtain the python documentation for the `print` function. Exit the help viewer by pressing `q`.\n",
    "\n",
    "**Task:** Modify the cell to look up the python documentation for the `help` function."
   ]
  },
  {
   "cell_type": "code",
   "execution_count": 5,
   "metadata": {},
   "outputs": [],
   "source": [
    "print?"
   ]
  },
  {
   "cell_type": "markdown",
   "metadata": {},
   "source": [
    "### 1.5 Saving and loading Jupyter notebooks\n",
    "\n",
    "Save this notebook either by pressing the icon in the top left, or by hitting Ctrl+S.\n",
    "\n",
    "Notebooks are plain-text files in a format called JSON. \n",
    "\n",
    "**Task:** Use the file manager to navigate to the location of this notebook. Open the notebook with a text editor and verify that it's plain text. "
   ]
  },
  {
   "cell_type": "markdown",
   "metadata": {},
   "source": [
    "## 2 - The NumPy module\n",
    "\n",
    "Modules are imported using the `import` statement. To save us some typing, we usually use the `import ... as ...` idiom that lets us assing a shorthand for external modules. \n",
    "\n",
    "**Task:** Run the cell below to import `numpy`, under the name `np`."
   ]
  },
  {
   "cell_type": "code",
   "execution_count": 6,
   "metadata": {},
   "outputs": [],
   "source": [
    "import numpy as np"
   ]
  },
  {
   "cell_type": "markdown",
   "metadata": {},
   "source": [
    "### 2.1 Arrays\n",
    "\n",
    "The essential functionality of the `numpy` module is to provide an `array` class. The cell below creates an array from a python list.\n",
    "**Task:** execute the cell. Notice the last line has only the `a` in it. This causes the value of `a` to be printed."
   ]
  },
  {
   "cell_type": "code",
   "execution_count": 7,
   "metadata": {},
   "outputs": [
    {
     "data": {
      "text/plain": [
       "array([4, 5, 4, 3, 2, 7])"
      ]
     },
     "execution_count": 7,
     "metadata": {},
     "output_type": "execute_result"
    }
   ],
   "source": [
    "l = [4,5,4,3,2,7]\n",
    "a = np.array(l)\n",
    "a"
   ]
  },
  {
   "cell_type": "markdown",
   "metadata": {},
   "source": [
    "Numpy arrays can be two-dimensional, three-dimensional, essentially any-dimensional. These are created from nested lists.\n",
    "\n",
    "**Task:** execute the below cell. Notice that a square matrix is created."
   ]
  },
  {
   "cell_type": "code",
   "execution_count": 8,
   "metadata": {},
   "outputs": [
    {
     "data": {
      "text/plain": [
       "array([[1, 2, 3],\n",
       "       [4, 5, 6],\n",
       "       [7, 8, 9]])"
      ]
     },
     "execution_count": 8,
     "metadata": {},
     "output_type": "execute_result"
    }
   ],
   "source": [
    "l = [[1,2,3],\n",
    "     [4,5,6],\n",
    "     [7,8,9]]\n",
    "a = np.array(l)\n",
    "a"
   ]
  },
  {
   "cell_type": "markdown",
   "metadata": {},
   "source": [
    "Numpy arrays can be two-dimensional, three-dimensional, essentially any-dimensional. These are created from nested lists.\n",
    "\n",
    "**Task:** Extend the array a to be a 3x4 array with the numbers from 1-12 instead of 1-9.\n",
    "\n",
    "Remeber you can use *variable*.shape to get the shape of an array/matrix."
   ]
  },
  {
   "cell_type": "code",
   "execution_count": 9,
   "metadata": {},
   "outputs": [
    {
     "data": {
      "text/plain": [
       "(3, 3)"
      ]
     },
     "execution_count": 9,
     "metadata": {},
     "output_type": "execute_result"
    }
   ],
   "source": [
    "a.shape"
   ]
  },
  {
   "cell_type": "markdown",
   "metadata": {},
   "source": [
    "### 2.2 Random numbers\n",
    "\n",
    "Numpy can do much more and we'll cover it in detail next week. For now, please take a moment to explore the generation of random numbers using the `numpy.random` module. \n",
    "\n",
    "The 'rand' function provides a single random numbers between 0 and 1. \n",
    "\n",
    "**Task:** execute the below cell a couple of times and observe that each number is random. \n",
    "\n",
    "**Task (for advanced students)**: Use the `?` method to find out what arguments the `rand()` function takes and explore the result. "
   ]
  },
  {
   "cell_type": "code",
   "execution_count": 10,
   "metadata": {},
   "outputs": [
    {
     "data": {
      "text/plain": [
       "0.6944272689110021"
      ]
     },
     "execution_count": 10,
     "metadata": {},
     "output_type": "execute_result"
    }
   ],
   "source": [
    "np.random.rand()"
   ]
  },
  {
   "cell_type": "markdown",
   "metadata": {},
   "source": [
    "We will later use normally distributed numbers (\"gaussian noise\"). As you recall from your statistics courses, a normal distribution is characterised by its **mean** and **variance**.\n",
    "\n",
    "The cell below creates an array of size 10 with mean 0.0 and variance 1.0.\n",
    "\n",
    "**Task:** Run the cell below a couple of times and observe that the numbers generated are centered around 0.0, and that values close to 0.0 are more frequent than values larger than 1.0 or smaller than -1.0 ."
   ]
  },
  {
   "cell_type": "code",
   "execution_count": 11,
   "metadata": {
    "scrolled": true
   },
   "outputs": [
    {
     "data": {
      "text/plain": [
       "array([-1.43307381,  2.77842848, -0.38443489, -0.47746576, -0.52433044,\n",
       "       -0.70498089,  1.79725458,  0.13921393, -0.39750605, -1.17552661])"
      ]
     },
     "execution_count": 11,
     "metadata": {},
     "output_type": "execute_result"
    }
   ],
   "source": [
    "b = np.random.normal(0., 1., 10)\n",
    "b"
   ]
  },
  {
   "cell_type": "markdown",
   "metadata": {},
   "source": [
    "What happens if we change the function call to \n",
    "\n",
    "np.random.normal(5., 1., 10), \n",
    "\n",
    "what if we call np.random.normal(0., 12., 10) \n",
    "\n",
    "or np.random.normal(0., 1., 50) instead? \n",
    "\n",
    "**Task:** First use the ? help functionality to investigate and then see if your answer is correct."
   ]
  },
  {
   "cell_type": "code",
   "execution_count": 12,
   "metadata": {},
   "outputs": [],
   "source": [
    "\n",
    "#Do your investigations here"
   ]
  },
  {
   "cell_type": "code",
   "execution_count": 13,
   "metadata": {},
   "outputs": [
    {
     "data": {
      "text/plain": [
       "array([5.02063113, 4.74355048, 6.82646131, 6.45587794, 7.33843091,\n",
       "       3.86876451, 4.52780627, 5.26126799, 6.82184784, 4.21430184])"
      ]
     },
     "execution_count": 13,
     "metadata": {},
     "output_type": "execute_result"
    }
   ],
   "source": [
    "np.random.normal(5., 1., 10)"
   ]
  },
  {
   "cell_type": "code",
   "execution_count": 14,
   "metadata": {},
   "outputs": [
    {
     "data": {
      "text/plain": [
       "array([ -9.57952826, -23.22378083,  24.43941508,  -6.56051596,\n",
       "        -1.80568752,   8.86544755,  -1.65623013, -10.68221695,\n",
       "         6.38932044,  15.34618273])"
      ]
     },
     "execution_count": 14,
     "metadata": {},
     "output_type": "execute_result"
    }
   ],
   "source": [
    "np.random.normal(0., 12., 10)"
   ]
  },
  {
   "cell_type": "code",
   "execution_count": 15,
   "metadata": {},
   "outputs": [
    {
     "data": {
      "text/plain": [
       "array([-0.04455476, -0.50726717, -1.53324453, -1.64399845, -0.82249525,\n",
       "        0.62570036, -0.92357611,  0.71532632,  0.85902367, -0.03468374,\n",
       "       -0.21733604, -0.94605895, -0.55683366, -0.05295266,  0.85102861,\n",
       "        0.39028373,  1.49316035, -0.40114125, -0.86838865, -0.09053986,\n",
       "        0.77933123, -0.37872502, -0.35725351,  0.75648491, -0.48407684,\n",
       "       -0.3947948 , -0.20125281,  0.19544809,  1.09447687,  0.17279189,\n",
       "        0.30286466, -0.77963347,  0.81646982, -1.08627196,  0.62306381,\n",
       "        1.10192736, -0.13675358,  0.4834169 , -0.03154155,  0.97705718,\n",
       "        1.42646882,  0.32080516, -1.4682711 ,  1.15900979,  2.37210629,\n",
       "       -0.49229409, -0.15996999,  0.21133805, -0.59346182,  0.061471  ])"
      ]
     },
     "execution_count": 15,
     "metadata": {},
     "output_type": "execute_result"
    }
   ],
   "source": [
    "np.random.normal(0., 1., 50)"
   ]
  },
  {
   "cell_type": "markdown",
   "metadata": {},
   "source": [
    "## 3 - Plotting with matplotlib\n",
    "\n",
    "`matplotlib` is the de-facto standard tool for plotting in python. The essential functionality is contained in the `pyplot` submodule. Let's import it:"
   ]
  },
  {
   "cell_type": "code",
   "execution_count": 16,
   "metadata": {},
   "outputs": [],
   "source": [
    "import matplotlib.pyplot as plt"
   ]
  },
  {
   "cell_type": "markdown",
   "metadata": {},
   "source": [
    "By default, `matplotlib` opens a new window for each plot. Jupyter notebooks have special support for `matplotlib` so that it can display its plots inside the notebook, without creating a new window. This is activated by the following cell: "
   ]
  },
  {
   "cell_type": "code",
   "execution_count": 17,
   "metadata": {},
   "outputs": [],
   "source": [
    "%matplotlib inline"
   ]
  },
  {
   "cell_type": "markdown",
   "metadata": {},
   "source": [
    "### 3.1 Plotting lines\n",
    "`matplotlib` can handle lists or arrays. Let's make a figure from a list:"
   ]
  },
  {
   "cell_type": "code",
   "execution_count": 18,
   "metadata": {},
   "outputs": [
    {
     "data": {
      "text/plain": [
       "[<matplotlib.lines.Line2D at 0xfedcdbdf70>]"
      ]
     },
     "execution_count": 18,
     "metadata": {},
     "output_type": "execute_result"
    },
    {
     "data": {
      "image/png": "[encoded data removed]",
      "text/plain": [
       "<Figure size 432x288 with 1 Axes>"
      ]
     },
     "metadata": {
      "needs_background": "light"
     },
     "output_type": "display_data"
    }
   ],
   "source": [
    "l = [4,3,6,5,4,7,3,5,3,4]\n",
    "plt.plot(l)"
   ]
  },
  {
   "cell_type": "markdown",
   "metadata": {},
   "source": [
    "**Task**: Change the above cell to use an array for plotting. Create an array from the list as above, and passi this to the `plot` function. "
   ]
  },
  {
   "cell_type": "code",
   "execution_count": 19,
   "metadata": {},
   "outputs": [
    {
     "data": {
      "text/plain": [
       "[<matplotlib.lines.Line2D at 0xfedcea7b50>]"
      ]
     },
     "execution_count": 19,
     "metadata": {},
     "output_type": "execute_result"
    },
    {
     "data": {
      "image/png": "[encoded data removed]",
      "text/plain": [
       "<Figure size 432x288 with 1 Axes>"
      ]
     },
     "metadata": {
      "needs_background": "light"
     },
     "output_type": "display_data"
    }
   ],
   "source": [
    "l = [4,23,46,25,44,27,33,25,13,24]\n",
    "plt.plot(l)"
   ]
  },
  {
   "cell_type": "markdown",
   "metadata": {},
   "source": [
    "### 3.2 Scatterplots - plotting point clouds\n",
    "\n",
    "We will often plot \"point clouds\" with `matplotlib`, so-called scatterplots. Here, we will plot the distribution of a bivariate (i.e. 2-dimensional) point cloud distributed around 0.0 with variance 1.0 . \n",
    "\n",
    "The cell below creates a point cloud with 100 points using `numpy` random numbers. Note how we create two arrays using `numpy.random.normal`, one for `x` coordinates, and one for `y` coordinates. The point cloud is then plotted using the `scatter` function. \n",
    "\n",
    "**Task:** execute the cell multiple times and observe that the random points are different each time - because they're random. \n",
    "\n",
    "**Task (advanced):** Change the location shape of the point cloud by changing the mean and variance of `x` and `y` points.\n",
    "\n",
    "**Task (advanced):** look up what `plt.gca()` is doing."
   ]
  },
  {
   "cell_type": "code",
   "execution_count": 20,
   "metadata": {},
   "outputs": [
    {
     "data": {
      "text/plain": [
       "(-1.0090103705047915,\n",
       " 1.2274619793165513,\n",
       " -5.271824343751021,\n",
       " 5.070351480366549)"
      ]
     },
     "execution_count": 20,
     "metadata": {},
     "output_type": "execute_result"
    },
    {
     "data": {
      "image/png": "[encoded data removed]",
      "text/plain": [
       "<Figure size 432x288 with 1 Axes>"
      ]
     },
     "metadata": {
      "needs_background": "light"
     },
     "output_type": "display_data"
    }
   ],
   "source": [
    "cloud1_x = np.random.normal(0.0, .5, 100)\n",
    "cloud1_y = np.random.normal(0.0, 2.0, 100)\n",
    "ax = plt.scatter(cloud1_x, cloud1_y)\n",
    "plt.gca().axis('equal')"
   ]
  },
  {
   "cell_type": "markdown",
   "metadata": {},
   "source": [
    "The `scatter` function lets you control the appearance of the points. For example, it can also plot red crosses instead of blue circles:"
   ]
  },
  {
   "cell_type": "code",
   "execution_count": 21,
   "metadata": {},
   "outputs": [
    {
     "data": {
      "text/plain": [
       "<matplotlib.collections.PathCollection at 0xfedcf6a550>"
      ]
     },
     "execution_count": 21,
     "metadata": {},
     "output_type": "execute_result"
    },
    {
     "data": {
      "image/png": "[encoded data removed]",
      "text/plain": [
       "<Figure size 432x288 with 1 Axes>"
      ]
     },
     "metadata": {
      "needs_background": "light"
     },
     "output_type": "display_data"
    }
   ],
   "source": [
    "plt.scatter(cloud1_x, cloud1_y, marker='x', c=\"red\")"
   ]
  },
  {
   "cell_type": "markdown",
   "metadata": {},
   "source": [
    "## 4 - Pandas and Data Frames \n",
    "\n",
    "The pandas module is dedicated to managing data. It is built around the `DataFrame` concept. A `DataFrame` is essentially a multidimensional array that supports textual identifiers for rows and columns. It can also mix different data types like numbers and strings, e.g. to add labels to data. \n",
    "\n",
    "The cell below imports pandas and create a `DataFrame` from our point cloud. Take a minute to observe that we first create a 2-dimensional array from `cloud1_x` and `cloud1_y`.\n",
    "\n",
    "**Task:** run the cell below and observe that the `DataFrame` is nicely shown in tabular format. "
   ]
  },
  {
   "cell_type": "code",
   "execution_count": 22,
   "metadata": {},
   "outputs": [
    {
     "data": {
      "text/html": [
       "<div>\n",
       "<style scoped>\n",
       "    .dataframe tbody tr th:only-of-type {\n",
       "        vertical-align: middle;\n",
       "    }\n",
       "\n",
       "    .dataframe tbody tr th {\n",
       "        vertical-align: top;\n",
       "    }\n",
       "\n",
       "    .dataframe thead th {\n",
       "        text-align: right;\n",
       "    }\n",
       "</style>\n",
       "<table border=\"1\" class=\"dataframe\">\n",
       "  <thead>\n",
       "    <tr style=\"text-align: right;\">\n",
       "      <th></th>\n",
       "      <th>0</th>\n",
       "      <th>1</th>\n",
       "      <th>2</th>\n",
       "      <th>3</th>\n",
       "      <th>4</th>\n",
       "      <th>5</th>\n",
       "      <th>6</th>\n",
       "      <th>7</th>\n",
       "      <th>8</th>\n",
       "      <th>9</th>\n",
       "      <th>...</th>\n",
       "      <th>90</th>\n",
       "      <th>91</th>\n",
       "      <th>92</th>\n",
       "      <th>93</th>\n",
       "      <th>94</th>\n",
       "      <th>95</th>\n",
       "      <th>96</th>\n",
       "      <th>97</th>\n",
       "      <th>98</th>\n",
       "      <th>99</th>\n",
       "    </tr>\n",
       "  </thead>\n",
       "  <tbody>\n",
       "    <tr>\n",
       "      <th>0</th>\n",
       "      <td>-0.606109</td>\n",
       "      <td>0.592226</td>\n",
       "      <td>-0.796027</td>\n",
       "      <td>0.188795</td>\n",
       "      <td>-0.286486</td>\n",
       "      <td>-0.280070</td>\n",
       "      <td>0.071911</td>\n",
       "      <td>0.663899</td>\n",
       "      <td>0.283728</td>\n",
       "      <td>-0.128637</td>\n",
       "      <td>...</td>\n",
       "      <td>0.363691</td>\n",
       "      <td>0.058061</td>\n",
       "      <td>0.035927</td>\n",
       "      <td>-0.606359</td>\n",
       "      <td>0.755322</td>\n",
       "      <td>-0.445386</td>\n",
       "      <td>0.563158</td>\n",
       "      <td>0.564411</td>\n",
       "      <td>-0.079407</td>\n",
       "      <td>0.617613</td>\n",
       "    </tr>\n",
       "    <tr>\n",
       "      <th>1</th>\n",
       "      <td>1.972553</td>\n",
       "      <td>3.740020</td>\n",
       "      <td>-0.005445</td>\n",
       "      <td>0.642001</td>\n",
       "      <td>1.126452</td>\n",
       "      <td>0.608196</td>\n",
       "      <td>0.411783</td>\n",
       "      <td>1.775178</td>\n",
       "      <td>-0.595206</td>\n",
       "      <td>0.440507</td>\n",
       "      <td>...</td>\n",
       "      <td>-0.154574</td>\n",
       "      <td>0.542373</td>\n",
       "      <td>1.333087</td>\n",
       "      <td>2.843988</td>\n",
       "      <td>-0.993253</td>\n",
       "      <td>-1.903365</td>\n",
       "      <td>-1.114131</td>\n",
       "      <td>0.937752</td>\n",
       "      <td>-1.404417</td>\n",
       "      <td>0.013125</td>\n",
       "    </tr>\n",
       "  </tbody>\n",
       "</table>\n",
       "<p>2 rows × 100 columns</p>\n",
       "</div>"
      ],
      "text/plain": [
       "         0         1         2         3         4         5         6   \\\n",
       "0 -0.606109  0.592226 -0.796027  0.188795 -0.286486 -0.280070  0.071911   \n",
       "1  1.972553  3.740020 -0.005445  0.642001  1.126452  0.608196  0.411783   \n",
       "\n",
       "         7         8         9   ...        90        91        92        93  \\\n",
       "0  0.663899  0.283728 -0.128637  ...  0.363691  0.058061  0.035927 -0.606359   \n",
       "1  1.775178 -0.595206  0.440507  ... -0.154574  0.542373  1.333087  2.843988   \n",
       "\n",
       "         94        95        96        97        98        99  \n",
       "0  0.755322 -0.445386  0.563158  0.564411 -0.079407  0.617613  \n",
       "1 -0.993253 -1.903365 -1.114131  0.937752 -1.404417  0.013125  \n",
       "\n",
       "[2 rows x 100 columns]"
      ]
     },
     "execution_count": 22,
     "metadata": {},
     "output_type": "execute_result"
    }
   ],
   "source": [
    "import pandas as pd\n",
    "cloud1_2dim = np.array([cloud1_x, cloud1_y])\n",
    "df = pd.DataFrame(cloud1_2dim)\n",
    "df"
   ]
  },
  {
   "cell_type": "markdown",
   "metadata": {},
   "source": [
    "Let's beautify this data Frame a little. First, we want to transpose it so that each point is a row, and columns correspond to coordinates. By convention, this is how multivariate data is stored. \n",
    "\n",
    "**Task:** run the cell below and observe that DataFrame is transposed, with two columns corresponding to two dimensions of the point cloud. \n",
    "\n",
    "**Note:** If you run the cell multiple times the `DataFrame` will transpose back and forth. Make sure the `DataFrame` is printed with 100 rows x 2 columns before continuing."
   ]
  },
  {
   "cell_type": "code",
   "execution_count": 23,
   "metadata": {},
   "outputs": [
    {
     "data": {
      "text/html": [
       "<div>\n",
       "<style scoped>\n",
       "    .dataframe tbody tr th:only-of-type {\n",
       "        vertical-align: middle;\n",
       "    }\n",
       "\n",
       "    .dataframe tbody tr th {\n",
       "        vertical-align: top;\n",
       "    }\n",
       "\n",
       "    .dataframe thead th {\n",
       "        text-align: right;\n",
       "    }\n",
       "</style>\n",
       "<table border=\"1\" class=\"dataframe\">\n",
       "  <thead>\n",
       "    <tr style=\"text-align: right;\">\n",
       "      <th></th>\n",
       "      <th>0</th>\n",
       "      <th>1</th>\n",
       "    </tr>\n",
       "  </thead>\n",
       "  <tbody>\n",
       "    <tr>\n",
       "      <th>0</th>\n",
       "      <td>-0.606109</td>\n",
       "      <td>1.972553</td>\n",
       "    </tr>\n",
       "    <tr>\n",
       "      <th>1</th>\n",
       "      <td>0.592226</td>\n",
       "      <td>3.740020</td>\n",
       "    </tr>\n",
       "    <tr>\n",
       "      <th>2</th>\n",
       "      <td>-0.796027</td>\n",
       "      <td>-0.005445</td>\n",
       "    </tr>\n",
       "    <tr>\n",
       "      <th>3</th>\n",
       "      <td>0.188795</td>\n",
       "      <td>0.642001</td>\n",
       "    </tr>\n",
       "    <tr>\n",
       "      <th>4</th>\n",
       "      <td>-0.286486</td>\n",
       "      <td>1.126452</td>\n",
       "    </tr>\n",
       "    <tr>\n",
       "      <th>...</th>\n",
       "      <td>...</td>\n",
       "      <td>...</td>\n",
       "    </tr>\n",
       "    <tr>\n",
       "      <th>95</th>\n",
       "      <td>-0.445386</td>\n",
       "      <td>-1.903365</td>\n",
       "    </tr>\n",
       "    <tr>\n",
       "      <th>96</th>\n",
       "      <td>0.563158</td>\n",
       "      <td>-1.114131</td>\n",
       "    </tr>\n",
       "    <tr>\n",
       "      <th>97</th>\n",
       "      <td>0.564411</td>\n",
       "      <td>0.937752</td>\n",
       "    </tr>\n",
       "    <tr>\n",
       "      <th>98</th>\n",
       "      <td>-0.079407</td>\n",
       "      <td>-1.404417</td>\n",
       "    </tr>\n",
       "    <tr>\n",
       "      <th>99</th>\n",
       "      <td>0.617613</td>\n",
       "      <td>0.013125</td>\n",
       "    </tr>\n",
       "  </tbody>\n",
       "</table>\n",
       "<p>100 rows × 2 columns</p>\n",
       "</div>"
      ],
      "text/plain": [
       "           0         1\n",
       "0  -0.606109  1.972553\n",
       "1   0.592226  3.740020\n",
       "2  -0.796027 -0.005445\n",
       "3   0.188795  0.642001\n",
       "4  -0.286486  1.126452\n",
       "..       ...       ...\n",
       "95 -0.445386 -1.903365\n",
       "96  0.563158 -1.114131\n",
       "97  0.564411  0.937752\n",
       "98 -0.079407 -1.404417\n",
       "99  0.617613  0.013125\n",
       "\n",
       "[100 rows x 2 columns]"
      ]
     },
     "execution_count": 23,
     "metadata": {},
     "output_type": "execute_result"
    }
   ],
   "source": [
    "df = df.transpose()\n",
    "df"
   ]
  },
  {
   "cell_type": "markdown",
   "metadata": {},
   "source": [
    "A `DataFrames` supports naming columns and rows. It also allows adding new columns with per-point attributes. We will learn the nitty-gritty of this functionality later in this module. For now, the below code is provided that does the following:\n",
    "1. name column zero \"x\" and column 1 \"y\"\n",
    "2. name each point \"cloud1_&lt;x>\" where &lt;x> is a running index\n",
    "3. add a common label \"cloud1\" to all points"
   ]
  },
  {
   "cell_type": "code",
   "execution_count": 24,
   "metadata": {},
   "outputs": [
    {
     "data": {
      "text/html": [
       "<div>\n",
       "<style scoped>\n",
       "    .dataframe tbody tr th:only-of-type {\n",
       "        vertical-align: middle;\n",
       "    }\n",
       "\n",
       "    .dataframe tbody tr th {\n",
       "        vertical-align: top;\n",
       "    }\n",
       "\n",
       "    .dataframe thead th {\n",
       "        text-align: right;\n",
       "    }\n",
       "</style>\n",
       "<table border=\"1\" class=\"dataframe\">\n",
       "  <thead>\n",
       "    <tr style=\"text-align: right;\">\n",
       "      <th></th>\n",
       "      <th>x</th>\n",
       "      <th>y</th>\n",
       "      <th>label</th>\n",
       "    </tr>\n",
       "  </thead>\n",
       "  <tbody>\n",
       "    <tr>\n",
       "      <th>cloud10</th>\n",
       "      <td>-0.606109</td>\n",
       "      <td>1.972553</td>\n",
       "      <td>cloud1</td>\n",
       "    </tr>\n",
       "    <tr>\n",
       "      <th>cloud11</th>\n",
       "      <td>0.592226</td>\n",
       "      <td>3.740020</td>\n",
       "      <td>cloud1</td>\n",
       "    </tr>\n",
       "    <tr>\n",
       "      <th>cloud12</th>\n",
       "      <td>-0.796027</td>\n",
       "      <td>-0.005445</td>\n",
       "      <td>cloud1</td>\n",
       "    </tr>\n",
       "    <tr>\n",
       "      <th>cloud13</th>\n",
       "      <td>0.188795</td>\n",
       "      <td>0.642001</td>\n",
       "      <td>cloud1</td>\n",
       "    </tr>\n",
       "    <tr>\n",
       "      <th>cloud14</th>\n",
       "      <td>-0.286486</td>\n",
       "      <td>1.126452</td>\n",
       "      <td>cloud1</td>\n",
       "    </tr>\n",
       "    <tr>\n",
       "      <th>...</th>\n",
       "      <td>...</td>\n",
       "      <td>...</td>\n",
       "      <td>...</td>\n",
       "    </tr>\n",
       "    <tr>\n",
       "      <th>cloud195</th>\n",
       "      <td>-0.445386</td>\n",
       "      <td>-1.903365</td>\n",
       "      <td>cloud1</td>\n",
       "    </tr>\n",
       "    <tr>\n",
       "      <th>cloud196</th>\n",
       "      <td>0.563158</td>\n",
       "      <td>-1.114131</td>\n",
       "      <td>cloud1</td>\n",
       "    </tr>\n",
       "    <tr>\n",
       "      <th>cloud197</th>\n",
       "      <td>0.564411</td>\n",
       "      <td>0.937752</td>\n",
       "      <td>cloud1</td>\n",
       "    </tr>\n",
       "    <tr>\n",
       "      <th>cloud198</th>\n",
       "      <td>-0.079407</td>\n",
       "      <td>-1.404417</td>\n",
       "      <td>cloud1</td>\n",
       "    </tr>\n",
       "    <tr>\n",
       "      <th>cloud199</th>\n",
       "      <td>0.617613</td>\n",
       "      <td>0.013125</td>\n",
       "      <td>cloud1</td>\n",
       "    </tr>\n",
       "  </tbody>\n",
       "</table>\n",
       "<p>100 rows × 3 columns</p>\n",
       "</div>"
      ],
      "text/plain": [
       "                 x         y   label\n",
       "cloud10  -0.606109  1.972553  cloud1\n",
       "cloud11   0.592226  3.740020  cloud1\n",
       "cloud12  -0.796027 -0.005445  cloud1\n",
       "cloud13   0.188795  0.642001  cloud1\n",
       "cloud14  -0.286486  1.126452  cloud1\n",
       "...            ...       ...     ...\n",
       "cloud195 -0.445386 -1.903365  cloud1\n",
       "cloud196  0.563158 -1.114131  cloud1\n",
       "cloud197  0.564411  0.937752  cloud1\n",
       "cloud198 -0.079407 -1.404417  cloud1\n",
       "cloud199  0.617613  0.013125  cloud1\n",
       "\n",
       "[100 rows x 3 columns]"
      ]
     },
     "execution_count": 24,
     "metadata": {},
     "output_type": "execute_result"
    }
   ],
   "source": [
    "df.columns = [\"x\", \"y\"]\n",
    "point_names = [\"cloud1{}\".format(i) for i in range(len(cloud1_x))]\n",
    "df.index = point_names\n",
    "df['label'] = 'cloud1'\n",
    "df"
   ]
  },
  {
   "cell_type": "markdown",
   "metadata": {},
   "source": [
    "Why, you may ask? What is this good for? \n",
    "\n",
    "Well, it is actually a very powerful feature for data analysis! The labels, point names, column names etc. allow to specify a way to select parts of the data frame, like all `x` coordinates:"
   ]
  },
  {
   "cell_type": "code",
   "execution_count": 25,
   "metadata": {},
   "outputs": [
    {
     "data": {
      "text/plain": [
       "cloud10    -0.606109\n",
       "cloud11     0.592226\n",
       "cloud12    -0.796027\n",
       "cloud13     0.188795\n",
       "cloud14    -0.286486\n",
       "              ...   \n",
       "cloud195   -0.445386\n",
       "cloud196    0.563158\n",
       "cloud197    0.564411\n",
       "cloud198   -0.079407\n",
       "cloud199    0.617613\n",
       "Name: x, Length: 100, dtype: float64"
      ]
     },
     "execution_count": 25,
     "metadata": {},
     "output_type": "execute_result"
    }
   ],
   "source": [
    "df['x']"
   ]
  },
  {
   "cell_type": "markdown",
   "metadata": {},
   "source": [
    "... or the `y` coordinate of the point named `cloud1_3`:"
   ]
  },
  {
   "cell_type": "code",
   "execution_count": 26,
   "metadata": {},
   "outputs": [
    {
     "data": {
      "text/plain": [
       "y    0.642001\n",
       "Name: cloud13, dtype: object"
      ]
     },
     "execution_count": 26,
     "metadata": {},
     "output_type": "execute_result"
    }
   ],
   "source": [
    "df.loc['cloud13',['y']]"
   ]
  },
  {
   "cell_type": "markdown",
   "metadata": {},
   "source": [
    "**Task (advanced)**: write code that selects all `x` values less than zero, in the points labeled `cloud1_34` to `cloud1_43`."
   ]
  },
  {
   "cell_type": "markdown",
   "metadata": {},
   "source": [
    "## 5 - scikit-learn\n",
    "\n",
    "The final part of today's practical is a look at the Scikit-learn module, a module for predictive data analysis. Scikit-learn contains tools for supervised and unsupervised learning for classification, regression, clustering, among other use cases. See the [scikit-learn home page](https://scikit-learn.org/stable/index.html) for more details!\n",
    "\n",
    "For now we are interested in a simple classifier, the Naive Bayes classifier. It can be trained to separate classes of data points. For training, it takes examples of each class and estimates mean and variance of the associated coordinates (or *features*). The resulting parameters form the *model* of the Naive Bayes Classifier. \n",
    "\n",
    "Let's start by importing the Naive Bayes sub module from the scikit-learn module. In Python terms Scikit-learn is called `sklearn` and the naive bayes module `GaussianNB`. "
   ]
  },
  {
   "cell_type": "code",
   "execution_count": 27,
   "metadata": {},
   "outputs": [],
   "source": [
    "from sklearn.naive_bayes import GaussianNB as nb"
   ]
  },
  {
   "cell_type": "markdown",
   "metadata": {},
   "source": [
    "Let's make some data for the classifier to classify. We use two point clouds, one with centered on [0.0,0.0] with variance 1.0 (as above), and a second onewith center [3.0, 3.0] and variance 1. \n",
    "\n",
    "**Task:** run the cell below. It creates two point clouds, stores each in a `DataFrame`, complete with labels and indices. \n",
    "\n",
    "**Note:** \n",
    "The cell below creates a two-dimensional point cloud directly by using a two-dimensional center `[3.,3.]`. The `size` argument specifies that the resulting array should have 100 rows and 2 columns (`[100,1]`). We will cover these `numpy` features in the next unit. For now, it's ok to take the code as given."
   ]
  },
  {
   "cell_type": "code",
   "execution_count": 28,
   "metadata": {},
   "outputs": [
    {
     "data": {
      "text/html": [
       "<div>\n",
       "<style scoped>\n",
       "    .dataframe tbody tr th:only-of-type {\n",
       "        vertical-align: middle;\n",
       "    }\n",
       "\n",
       "    .dataframe tbody tr th {\n",
       "        vertical-align: top;\n",
       "    }\n",
       "\n",
       "    .dataframe thead th {\n",
       "        text-align: right;\n",
       "    }\n",
       "</style>\n",
       "<table border=\"1\" class=\"dataframe\">\n",
       "  <thead>\n",
       "    <tr style=\"text-align: right;\">\n",
       "      <th></th>\n",
       "      <th>x</th>\n",
       "      <th>y</th>\n",
       "      <th>label</th>\n",
       "    </tr>\n",
       "  </thead>\n",
       "  <tbody>\n",
       "    <tr>\n",
       "      <th>cloud1_0</th>\n",
       "      <td>0.148813</td>\n",
       "      <td>-0.907068</td>\n",
       "      <td>cloud1</td>\n",
       "    </tr>\n",
       "    <tr>\n",
       "      <th>cloud1_1</th>\n",
       "      <td>0.587191</td>\n",
       "      <td>2.124482</td>\n",
       "      <td>cloud1</td>\n",
       "    </tr>\n",
       "    <tr>\n",
       "      <th>cloud1_2</th>\n",
       "      <td>1.236159</td>\n",
       "      <td>1.029369</td>\n",
       "      <td>cloud1</td>\n",
       "    </tr>\n",
       "    <tr>\n",
       "      <th>cloud1_3</th>\n",
       "      <td>0.109072</td>\n",
       "      <td>-0.073511</td>\n",
       "      <td>cloud1</td>\n",
       "    </tr>\n",
       "    <tr>\n",
       "      <th>cloud1_4</th>\n",
       "      <td>-1.743235</td>\n",
       "      <td>0.409352</td>\n",
       "      <td>cloud1</td>\n",
       "    </tr>\n",
       "    <tr>\n",
       "      <th>...</th>\n",
       "      <td>...</td>\n",
       "      <td>...</td>\n",
       "      <td>...</td>\n",
       "    </tr>\n",
       "    <tr>\n",
       "      <th>cloud1_95</th>\n",
       "      <td>-0.400753</td>\n",
       "      <td>1.919161</td>\n",
       "      <td>cloud1</td>\n",
       "    </tr>\n",
       "    <tr>\n",
       "      <th>cloud1_96</th>\n",
       "      <td>0.062369</td>\n",
       "      <td>-0.251339</td>\n",
       "      <td>cloud1</td>\n",
       "    </tr>\n",
       "    <tr>\n",
       "      <th>cloud1_97</th>\n",
       "      <td>1.097396</td>\n",
       "      <td>0.957119</td>\n",
       "      <td>cloud1</td>\n",
       "    </tr>\n",
       "    <tr>\n",
       "      <th>cloud1_98</th>\n",
       "      <td>-0.209515</td>\n",
       "      <td>-0.436015</td>\n",
       "      <td>cloud1</td>\n",
       "    </tr>\n",
       "    <tr>\n",
       "      <th>cloud1_99</th>\n",
       "      <td>-0.624352</td>\n",
       "      <td>-1.609638</td>\n",
       "      <td>cloud1</td>\n",
       "    </tr>\n",
       "  </tbody>\n",
       "</table>\n",
       "<p>100 rows × 3 columns</p>\n",
       "</div>"
      ],
      "text/plain": [
       "                  x         y   label\n",
       "cloud1_0   0.148813 -0.907068  cloud1\n",
       "cloud1_1   0.587191  2.124482  cloud1\n",
       "cloud1_2   1.236159  1.029369  cloud1\n",
       "cloud1_3   0.109072 -0.073511  cloud1\n",
       "cloud1_4  -1.743235  0.409352  cloud1\n",
       "...             ...       ...     ...\n",
       "cloud1_95 -0.400753  1.919161  cloud1\n",
       "cloud1_96  0.062369 -0.251339  cloud1\n",
       "cloud1_97  1.097396  0.957119  cloud1\n",
       "cloud1_98 -0.209515 -0.436015  cloud1\n",
       "cloud1_99 -0.624352 -1.609638  cloud1\n",
       "\n",
       "[100 rows x 3 columns]"
      ]
     },
     "execution_count": 28,
     "metadata": {},
     "output_type": "execute_result"
    }
   ],
   "source": [
    "#create point clouds\n",
    "cloud1 = np.random.normal([0.,0.], 1., size=[100,2])\n",
    "cloud2 = np.random.normal([3.,3.], 1., size=[100,2])\n",
    "\n",
    "#create DataFrame for first cloud\n",
    "df1 = pd.DataFrame(cloud1, columns=['x', 'y'], index=[\"cloud1_{}\".format(i) for i in range(len(cloud1))])\n",
    "df1['label'] = 'cloud1'\n",
    "                   \n",
    "#create DataFrame for second cloud\n",
    "df2 = pd.DataFrame(cloud2, columns=['x', 'y'], index=[\"cloud2_{}\".format(i) for i in range(len(cloud2))]) \n",
    "df2['label'] = 'cloud2'\n",
    "                   \n",
    "df1"
   ]
  },
  {
   "cell_type": "code",
   "execution_count": 29,
   "metadata": {},
   "outputs": [
    {
     "data": {
      "text/html": [
       "<div>\n",
       "<style scoped>\n",
       "    .dataframe tbody tr th:only-of-type {\n",
       "        vertical-align: middle;\n",
       "    }\n",
       "\n",
       "    .dataframe tbody tr th {\n",
       "        vertical-align: top;\n",
       "    }\n",
       "\n",
       "    .dataframe thead th {\n",
       "        text-align: right;\n",
       "    }\n",
       "</style>\n",
       "<table border=\"1\" class=\"dataframe\">\n",
       "  <thead>\n",
       "    <tr style=\"text-align: right;\">\n",
       "      <th></th>\n",
       "      <th>x</th>\n",
       "      <th>y</th>\n",
       "      <th>label</th>\n",
       "    </tr>\n",
       "  </thead>\n",
       "  <tbody>\n",
       "    <tr>\n",
       "      <th>cloud2_0</th>\n",
       "      <td>2.425634</td>\n",
       "      <td>2.413704</td>\n",
       "      <td>cloud2</td>\n",
       "    </tr>\n",
       "    <tr>\n",
       "      <th>cloud2_1</th>\n",
       "      <td>3.559787</td>\n",
       "      <td>1.741361</td>\n",
       "      <td>cloud2</td>\n",
       "    </tr>\n",
       "    <tr>\n",
       "      <th>cloud2_2</th>\n",
       "      <td>2.206030</td>\n",
       "      <td>4.510624</td>\n",
       "      <td>cloud2</td>\n",
       "    </tr>\n",
       "    <tr>\n",
       "      <th>cloud2_3</th>\n",
       "      <td>4.582040</td>\n",
       "      <td>2.877764</td>\n",
       "      <td>cloud2</td>\n",
       "    </tr>\n",
       "    <tr>\n",
       "      <th>cloud2_4</th>\n",
       "      <td>3.460738</td>\n",
       "      <td>2.062190</td>\n",
       "      <td>cloud2</td>\n",
       "    </tr>\n",
       "    <tr>\n",
       "      <th>...</th>\n",
       "      <td>...</td>\n",
       "      <td>...</td>\n",
       "      <td>...</td>\n",
       "    </tr>\n",
       "    <tr>\n",
       "      <th>cloud2_95</th>\n",
       "      <td>4.016342</td>\n",
       "      <td>2.160419</td>\n",
       "      <td>cloud2</td>\n",
       "    </tr>\n",
       "    <tr>\n",
       "      <th>cloud2_96</th>\n",
       "      <td>1.949297</td>\n",
       "      <td>1.425622</td>\n",
       "      <td>cloud2</td>\n",
       "    </tr>\n",
       "    <tr>\n",
       "      <th>cloud2_97</th>\n",
       "      <td>2.611647</td>\n",
       "      <td>2.473665</td>\n",
       "      <td>cloud2</td>\n",
       "    </tr>\n",
       "    <tr>\n",
       "      <th>cloud2_98</th>\n",
       "      <td>3.775277</td>\n",
       "      <td>5.800794</td>\n",
       "      <td>cloud2</td>\n",
       "    </tr>\n",
       "    <tr>\n",
       "      <th>cloud2_99</th>\n",
       "      <td>5.546550</td>\n",
       "      <td>3.886492</td>\n",
       "      <td>cloud2</td>\n",
       "    </tr>\n",
       "  </tbody>\n",
       "</table>\n",
       "<p>100 rows × 3 columns</p>\n",
       "</div>"
      ],
      "text/plain": [
       "                  x         y   label\n",
       "cloud2_0   2.425634  2.413704  cloud2\n",
       "cloud2_1   3.559787  1.741361  cloud2\n",
       "cloud2_2   2.206030  4.510624  cloud2\n",
       "cloud2_3   4.582040  2.877764  cloud2\n",
       "cloud2_4   3.460738  2.062190  cloud2\n",
       "...             ...       ...     ...\n",
       "cloud2_95  4.016342  2.160419  cloud2\n",
       "cloud2_96  1.949297  1.425622  cloud2\n",
       "cloud2_97  2.611647  2.473665  cloud2\n",
       "cloud2_98  3.775277  5.800794  cloud2\n",
       "cloud2_99  5.546550  3.886492  cloud2\n",
       "\n",
       "[100 rows x 3 columns]"
      ]
     },
     "execution_count": 29,
     "metadata": {},
     "output_type": "execute_result"
    }
   ],
   "source": [
    "df2"
   ]
  },
  {
   "cell_type": "markdown",
   "metadata": {},
   "source": [
    "Let's plot the two clouds. Conveniently, `pandas` has integrated matplotlib so that we can use the sophisticated data selection tools of a DataFrame for plotting. Again, this is mainly intended as a demonstration, we'll cover the details of what's going on below in a later unit.\n",
    "\n",
    "**Task**: Run the cell below and observe how two point clouds are plotted. Can you identify the one with mean [0,0] and the one with mean [3,3]?\n",
    "\n",
    "**Task (advanced students):** look up the documentation of `DataFrame.plot.scatter` and try to understand what's going on in the cell below. "
   ]
  },
  {
   "cell_type": "code",
   "execution_count": 30,
   "metadata": {},
   "outputs": [
    {
     "data": {
      "text/plain": [
       "<matplotlib.collections.PathCollection at 0xfedffae1c0>"
      ]
     },
     "execution_count": 30,
     "metadata": {},
     "output_type": "execute_result"
    },
    {
     "data": {
      "image/png": "[encoded data removed]",
      "text/plain": [
       "<Figure size 432x288 with 1 Axes>"
      ]
     },
     "metadata": {
      "needs_background": "light"
     },
     "output_type": "display_data"
    }
   ],
   "source": [
    "plt.scatter(df1['x'], df1['y'], marker='o', c='blue')\n",
    "plt.scatter(df2['x'], df2['y'], marker='x', c='red')"
   ]
  },
  {
   "cell_type": "markdown",
   "metadata": {},
   "source": [
    "**Task:** Create your own two clouds, one centered around 4,4 and one around 8,8. \n",
    "\n",
    "All the code but the actual creation of the clouds is given below, fill it out."
   ]
  },
  {
   "cell_type": "code",
   "execution_count": 31,
   "metadata": {},
   "outputs": [
    {
     "data": {
      "text/html": [
       "<div>\n",
       "<style scoped>\n",
       "    .dataframe tbody tr th:only-of-type {\n",
       "        vertical-align: middle;\n",
       "    }\n",
       "\n",
       "    .dataframe tbody tr th {\n",
       "        vertical-align: top;\n",
       "    }\n",
       "\n",
       "    .dataframe thead th {\n",
       "        text-align: right;\n",
       "    }\n",
       "</style>\n",
       "<table border=\"1\" class=\"dataframe\">\n",
       "  <thead>\n",
       "    <tr style=\"text-align: right;\">\n",
       "      <th></th>\n",
       "      <th>x</th>\n",
       "      <th>y</th>\n",
       "      <th>label</th>\n",
       "    </tr>\n",
       "  </thead>\n",
       "  <tbody>\n",
       "    <tr>\n",
       "      <th>my_cloud10</th>\n",
       "      <td>NaN</td>\n",
       "      <td>NaN</td>\n",
       "      <td>my_cloud1</td>\n",
       "    </tr>\n",
       "    <tr>\n",
       "      <th>my_cloud11</th>\n",
       "      <td>NaN</td>\n",
       "      <td>NaN</td>\n",
       "      <td>my_cloud1</td>\n",
       "    </tr>\n",
       "    <tr>\n",
       "      <th>my_cloud12</th>\n",
       "      <td>NaN</td>\n",
       "      <td>NaN</td>\n",
       "      <td>my_cloud1</td>\n",
       "    </tr>\n",
       "    <tr>\n",
       "      <th>my_cloud13</th>\n",
       "      <td>NaN</td>\n",
       "      <td>NaN</td>\n",
       "      <td>my_cloud1</td>\n",
       "    </tr>\n",
       "    <tr>\n",
       "      <th>my_cloud14</th>\n",
       "      <td>NaN</td>\n",
       "      <td>NaN</td>\n",
       "      <td>my_cloud1</td>\n",
       "    </tr>\n",
       "    <tr>\n",
       "      <th>...</th>\n",
       "      <td>...</td>\n",
       "      <td>...</td>\n",
       "      <td>...</td>\n",
       "    </tr>\n",
       "    <tr>\n",
       "      <th>my_cloud195</th>\n",
       "      <td>NaN</td>\n",
       "      <td>NaN</td>\n",
       "      <td>my_cloud1</td>\n",
       "    </tr>\n",
       "    <tr>\n",
       "      <th>my_cloud196</th>\n",
       "      <td>NaN</td>\n",
       "      <td>NaN</td>\n",
       "      <td>my_cloud1</td>\n",
       "    </tr>\n",
       "    <tr>\n",
       "      <th>my_cloud197</th>\n",
       "      <td>NaN</td>\n",
       "      <td>NaN</td>\n",
       "      <td>my_cloud1</td>\n",
       "    </tr>\n",
       "    <tr>\n",
       "      <th>my_cloud198</th>\n",
       "      <td>NaN</td>\n",
       "      <td>NaN</td>\n",
       "      <td>my_cloud1</td>\n",
       "    </tr>\n",
       "    <tr>\n",
       "      <th>my_cloud199</th>\n",
       "      <td>NaN</td>\n",
       "      <td>NaN</td>\n",
       "      <td>my_cloud1</td>\n",
       "    </tr>\n",
       "  </tbody>\n",
       "</table>\n",
       "<p>100 rows × 3 columns</p>\n",
       "</div>"
      ],
      "text/plain": [
       "              x   y      label\n",
       "my_cloud10  NaN NaN  my_cloud1\n",
       "my_cloud11  NaN NaN  my_cloud1\n",
       "my_cloud12  NaN NaN  my_cloud1\n",
       "my_cloud13  NaN NaN  my_cloud1\n",
       "my_cloud14  NaN NaN  my_cloud1\n",
       "...          ..  ..        ...\n",
       "my_cloud195 NaN NaN  my_cloud1\n",
       "my_cloud196 NaN NaN  my_cloud1\n",
       "my_cloud197 NaN NaN  my_cloud1\n",
       "my_cloud198 NaN NaN  my_cloud1\n",
       "my_cloud199 NaN NaN  my_cloud1\n",
       "\n",
       "[100 rows x 3 columns]"
      ]
     },
     "execution_count": 31,
     "metadata": {},
     "output_type": "execute_result"
    }
   ],
   "source": [
    "#create point clouds\n",
    "my_cloud1 = df1\n",
    "my_cloud2 = df2\n",
    "\n",
    "#create DataFrame for first cloud\n",
    "df3 = pd.DataFrame(my_cloud1, columns=['x', 'y'], index=[\"my_cloud1{}\".format(i) for i in range(len(my_cloud1))])\n",
    "df3['label'] = 'my_cloud1'\n",
    "                   \n",
    "#create DataFrame for second cloud\n",
    "df4 = pd.DataFrame(my_cloud2, columns=['x', 'y'], index=[\"my_cloud2{}\".format(i) for i in range(len(my_cloud2))]) \n",
    "df4['label'] = 'my_cloud2'\n",
    "                   \n",
    "df3"
   ]
  },
  {
   "cell_type": "markdown",
   "metadata": {},
   "source": [
    "Now we have two point clouds, we can train the classifier to learn to separate them. \n",
    "\n",
    "Scikit-learn has a standardised way of training classifiers, using the `fit()` method. All we have to do is to give it data and labels. To make our life easier, we combine the two data frames:"
   ]
  },
  {
   "cell_type": "code",
   "execution_count": 32,
   "metadata": {},
   "outputs": [
    {
     "data": {
      "text/html": [
       "<div>\n",
       "<style scoped>\n",
       "    .dataframe tbody tr th:only-of-type {\n",
       "        vertical-align: middle;\n",
       "    }\n",
       "\n",
       "    .dataframe tbody tr th {\n",
       "        vertical-align: top;\n",
       "    }\n",
       "\n",
       "    .dataframe thead th {\n",
       "        text-align: right;\n",
       "    }\n",
       "</style>\n",
       "<table border=\"1\" class=\"dataframe\">\n",
       "  <thead>\n",
       "    <tr style=\"text-align: right;\">\n",
       "      <th></th>\n",
       "      <th>x</th>\n",
       "      <th>y</th>\n",
       "      <th>label</th>\n",
       "    </tr>\n",
       "  </thead>\n",
       "  <tbody>\n",
       "    <tr>\n",
       "      <th>cloud1_0</th>\n",
       "      <td>0.148813</td>\n",
       "      <td>-0.907068</td>\n",
       "      <td>cloud1</td>\n",
       "    </tr>\n",
       "    <tr>\n",
       "      <th>cloud1_1</th>\n",
       "      <td>0.587191</td>\n",
       "      <td>2.124482</td>\n",
       "      <td>cloud1</td>\n",
       "    </tr>\n",
       "    <tr>\n",
       "      <th>cloud1_2</th>\n",
       "      <td>1.236159</td>\n",
       "      <td>1.029369</td>\n",
       "      <td>cloud1</td>\n",
       "    </tr>\n",
       "    <tr>\n",
       "      <th>cloud1_3</th>\n",
       "      <td>0.109072</td>\n",
       "      <td>-0.073511</td>\n",
       "      <td>cloud1</td>\n",
       "    </tr>\n",
       "    <tr>\n",
       "      <th>cloud1_4</th>\n",
       "      <td>-1.743235</td>\n",
       "      <td>0.409352</td>\n",
       "      <td>cloud1</td>\n",
       "    </tr>\n",
       "    <tr>\n",
       "      <th>...</th>\n",
       "      <td>...</td>\n",
       "      <td>...</td>\n",
       "      <td>...</td>\n",
       "    </tr>\n",
       "    <tr>\n",
       "      <th>cloud2_95</th>\n",
       "      <td>4.016342</td>\n",
       "      <td>2.160419</td>\n",
       "      <td>cloud2</td>\n",
       "    </tr>\n",
       "    <tr>\n",
       "      <th>cloud2_96</th>\n",
       "      <td>1.949297</td>\n",
       "      <td>1.425622</td>\n",
       "      <td>cloud2</td>\n",
       "    </tr>\n",
       "    <tr>\n",
       "      <th>cloud2_97</th>\n",
       "      <td>2.611647</td>\n",
       "      <td>2.473665</td>\n",
       "      <td>cloud2</td>\n",
       "    </tr>\n",
       "    <tr>\n",
       "      <th>cloud2_98</th>\n",
       "      <td>3.775277</td>\n",
       "      <td>5.800794</td>\n",
       "      <td>cloud2</td>\n",
       "    </tr>\n",
       "    <tr>\n",
       "      <th>cloud2_99</th>\n",
       "      <td>5.546550</td>\n",
       "      <td>3.886492</td>\n",
       "      <td>cloud2</td>\n",
       "    </tr>\n",
       "  </tbody>\n",
       "</table>\n",
       "<p>200 rows × 3 columns</p>\n",
       "</div>"
      ],
      "text/plain": [
       "                  x         y   label\n",
       "cloud1_0   0.148813 -0.907068  cloud1\n",
       "cloud1_1   0.587191  2.124482  cloud1\n",
       "cloud1_2   1.236159  1.029369  cloud1\n",
       "cloud1_3   0.109072 -0.073511  cloud1\n",
       "cloud1_4  -1.743235  0.409352  cloud1\n",
       "...             ...       ...     ...\n",
       "cloud2_95  4.016342  2.160419  cloud2\n",
       "cloud2_96  1.949297  1.425622  cloud2\n",
       "cloud2_97  2.611647  2.473665  cloud2\n",
       "cloud2_98  3.775277  5.800794  cloud2\n",
       "cloud2_99  5.546550  3.886492  cloud2\n",
       "\n",
       "[200 rows x 3 columns]"
      ]
     },
     "execution_count": 32,
     "metadata": {},
     "output_type": "execute_result"
    }
   ],
   "source": [
    "df_all = df1.append(df2)\n",
    "df_all"
   ]
  },
  {
   "cell_type": "markdown",
   "metadata": {},
   "source": [
    "`df_all` now contains data from both point clouds, with the `label` column indicating which cloud each datapoint belongs to. \n",
    "\n",
    "The `label` column is now the label for training.\n",
    "\n",
    "We can finally train the Scikit-learn classifier!"
   ]
  },
  {
   "cell_type": "code",
   "execution_count": 33,
   "metadata": {},
   "outputs": [
    {
     "data": {
      "text/plain": [
       "GaussianNB()"
      ]
     },
     "execution_count": 33,
     "metadata": {},
     "output_type": "execute_result"
    }
   ],
   "source": [
    "from sklearn.naive_bayes import GaussianNB\n",
    "gnb = GaussianNB()\n",
    "gnb.fit(X=df_all[['x','y']], y=df_all['label'])\n"
   ]
  },
  {
   "cell_type": "markdown",
   "metadata": {},
   "source": [
    "Finally, we need to check what the Naive Bayes classifier has learnt. To this end, we create a third point cloud with mean [1.5,1.5] and variance 1.5.  "
   ]
  },
  {
   "cell_type": "code",
   "execution_count": 34,
   "metadata": {},
   "outputs": [],
   "source": [
    "cloud3 = np.random.normal([1.5,1.5], 1.5, size=[100,2])\n",
    "df3 = pd.DataFrame(cloud3, columns=['x', 'y'])"
   ]
  },
  {
   "cell_type": "markdown",
   "metadata": {},
   "source": [
    "This cloud sits right on top of the two existing clouds! Let's see how it looks like on top of the two existing clouds:"
   ]
  },
  {
   "cell_type": "code",
   "execution_count": 35,
   "metadata": {},
   "outputs": [
    {
     "data": {
      "text/plain": [
       "<matplotlib.collections.PathCollection at 0xfedfffcdf0>"
      ]
     },
     "execution_count": 35,
     "metadata": {},
     "output_type": "execute_result"
    },
    {
     "data": {
      "image/png": "[encoded data removed]",
      "text/plain": [
       "<Figure size 432x288 with 1 Axes>"
      ]
     },
     "metadata": {
      "needs_background": "light"
     },
     "output_type": "display_data"
    }
   ],
   "source": [
    "plt.scatter(df1['x'], df1['y'], marker='o', c='blue')\n",
    "plt.scatter(df2['x'], df2['y'], marker='x', c='red')\n",
    "plt.scatter(df3['x'], df3['y'], marker='+', c='green')"
   ]
  },
  {
   "cell_type": "markdown",
   "metadata": {},
   "source": [
    "We're almost there! Now, let's use the trained Naive Bayes classifier to predict, for all points in cloud 3, which of the two original classes it is most likely to adhere to:"
   ]
  },
  {
   "cell_type": "code",
   "execution_count": 36,
   "metadata": {},
   "outputs": [
    {
     "data": {
      "text/plain": [
       "array(['cloud1', 'cloud2', 'cloud2', 'cloud2', 'cloud2', 'cloud2',\n",
       "       'cloud2', 'cloud1', 'cloud1', 'cloud1', 'cloud1', 'cloud2',\n",
       "       'cloud2', 'cloud1', 'cloud2', 'cloud2', 'cloud1', 'cloud1',\n",
       "       'cloud2', 'cloud2', 'cloud1', 'cloud2', 'cloud1', 'cloud1',\n",
       "       'cloud2', 'cloud2', 'cloud2', 'cloud1', 'cloud1', 'cloud1',\n",
       "       'cloud1', 'cloud1', 'cloud2', 'cloud2', 'cloud1', 'cloud2',\n",
       "       'cloud2', 'cloud2', 'cloud2', 'cloud2', 'cloud1', 'cloud1',\n",
       "       'cloud2', 'cloud2', 'cloud2', 'cloud2', 'cloud2', 'cloud2',\n",
       "       'cloud1', 'cloud2', 'cloud1', 'cloud1', 'cloud1', 'cloud1',\n",
       "       'cloud2', 'cloud2', 'cloud1', 'cloud2', 'cloud2', 'cloud1',\n",
       "       'cloud2', 'cloud1', 'cloud1', 'cloud2', 'cloud2', 'cloud1',\n",
       "       'cloud2', 'cloud2', 'cloud2', 'cloud1', 'cloud2', 'cloud1',\n",
       "       'cloud2', 'cloud2', 'cloud2', 'cloud2', 'cloud1', 'cloud1',\n",
       "       'cloud1', 'cloud1', 'cloud2', 'cloud1', 'cloud2', 'cloud1',\n",
       "       'cloud1', 'cloud2', 'cloud1', 'cloud2', 'cloud1', 'cloud1',\n",
       "       'cloud1', 'cloud2', 'cloud2', 'cloud2', 'cloud1', 'cloud1',\n",
       "       'cloud1', 'cloud2', 'cloud2', 'cloud1'], dtype='<U6')"
      ]
     },
     "execution_count": 36,
     "metadata": {},
     "output_type": "execute_result"
    }
   ],
   "source": [
    "label_pred = gnb.predict(df3[['x','y']])\n",
    "label_pred"
   ]
  },
  {
   "cell_type": "markdown",
   "metadata": {},
   "source": [
    "Finally, we plot all points that belong to cloud one with light blue crosses, and those that belong to cloud2 with light red crosses."
   ]
  },
  {
   "cell_type": "code",
   "execution_count": 37,
   "metadata": {},
   "outputs": [
    {
     "data": {
      "text/plain": [
       "<matplotlib.collections.PathCollection at 0xfee0043940>"
      ]
     },
     "execution_count": 37,
     "metadata": {},
     "output_type": "execute_result"
    },
    {
     "data": {
      "image/png": "[encoded data removed]",
      "text/plain": [
       "<Figure size 432x288 with 1 Axes>"
      ]
     },
     "metadata": {
      "needs_background": "light"
     },
     "output_type": "display_data"
    }
   ],
   "source": [
    "pred_cloud1 = df3.values[label_pred=='cloud1',:] #advanced array slicing, will be covered next week\n",
    "pred_cloud2 = df3.values[label_pred=='cloud2',:] \n",
    "\n",
    "plt.scatter(df1['x'], df1['y'], marker='o', c='blue')\n",
    "plt.scatter(df2['x'], df2['y'], marker='x', c='red')\n",
    "\n",
    "plt.scatter(pred_cloud1[:,0], pred_cloud1[:,1], marker='+', c='lightblue')\n",
    "plt.scatter(pred_cloud2[:,0], pred_cloud2[:,1], marker='+', c='pink')\n"
   ]
  },
  {
   "cell_type": "markdown",
   "metadata": {},
   "source": [
    "**Task (advanced):** change the distance, shape, and overlap of the point clouds by modifying the mean and the variance of the underlying normal distributions. How are the new points classified? What do you observe?"
   ]
  },
  {
   "cell_type": "markdown",
   "metadata": {},
   "source": [
    "## 6 - Conclusion\n",
    "\n",
    "That's it! In this notebook you have taken a tour around the most important data science tools in Python. \n",
    "\n",
    "### 6.1 Check your learning!\n",
    "After having completed this session, you should:\n",
    "1. Be familiar with running and operating Jupyter notebooks. \n",
    "2. have an understanding what numpy, matplotlib, pandas, and scikit-learn are doing. \n",
    "\n",
    "Next week we'll dive deep into Principal component analysis.\n",
    "\n",
    "\n"
   ]
  },
  {
   "cell_type": "markdown",
   "metadata": {},
   "source": [
    "# Submission Instructions\n",
    "\n",
    "Before submitting this via canvas please go to kernel -> 'Restart&Run All'. Please check afterwards if this introduced any issues, then you should fix them. Your notebook should, in the end always represent working code written in a linear way, one cell after the other."
   ]
  },
  {
   "cell_type": "markdown",
   "metadata": {},
   "source": [
    "**Do not touch the cells below!**"
   ]
  },
  {
   "cell_type": "code",
   "execution_count": 38,
   "metadata": {},
   "outputs": [
    {
     "ename": "FileNotFoundError",
     "evalue": "No such file or directory: ''",
     "output_type": "error",
     "traceback": [
      "\u001b[1;31m---------------------------------------------------------------------------\u001b[0m",
      "\u001b[1;31mTypeError\u001b[0m                                 Traceback (most recent call last)",
      "\u001b[1;32m~\\anaconda3\\lib\\site-packages\\IPython\\core\\display.py\u001b[0m in \u001b[0;36m_data_and_metadata\u001b[1;34m(self, always_both)\u001b[0m\n\u001b[0;32m   1292\u001b[0m         \u001b[1;32mtry\u001b[0m\u001b[1;33m:\u001b[0m\u001b[1;33m\u001b[0m\u001b[1;33m\u001b[0m\u001b[0m\n\u001b[1;32m-> 1293\u001b[1;33m             \u001b[0mb64_data\u001b[0m \u001b[1;33m=\u001b[0m \u001b[0mb2a_base64\u001b[0m\u001b[1;33m(\u001b[0m\u001b[0mself\u001b[0m\u001b[1;33m.\u001b[0m\u001b[0mdata\u001b[0m\u001b[1;33m)\u001b[0m\u001b[1;33m.\u001b[0m\u001b[0mdecode\u001b[0m\u001b[1;33m(\u001b[0m\u001b[1;34m'ascii'\u001b[0m\u001b[1;33m)\u001b[0m\u001b[1;33m\u001b[0m\u001b[1;33m\u001b[0m\u001b[0m\n\u001b[0m\u001b[0;32m   1294\u001b[0m         \u001b[1;32mexcept\u001b[0m \u001b[0mTypeError\u001b[0m\u001b[1;33m:\u001b[0m\u001b[1;33m\u001b[0m\u001b[1;33m\u001b[0m\u001b[0m\n",
      "\u001b[1;31mTypeError\u001b[0m: a bytes-like object is required, not 'str'",
      "\nDuring handling of the above exception, another exception occurred:\n",
      "\u001b[1;31mFileNotFoundError\u001b[0m                         Traceback (most recent call last)",
      "\u001b[1;32m~\\anaconda3\\lib\\site-packages\\IPython\\core\\formatters.py\u001b[0m in \u001b[0;36m__call__\u001b[1;34m(self, obj, include, exclude)\u001b[0m\n\u001b[0;32m    968\u001b[0m \u001b[1;33m\u001b[0m\u001b[0m\n\u001b[0;32m    969\u001b[0m             \u001b[1;32mif\u001b[0m \u001b[0mmethod\u001b[0m \u001b[1;32mis\u001b[0m \u001b[1;32mnot\u001b[0m \u001b[1;32mNone\u001b[0m\u001b[1;33m:\u001b[0m\u001b[1;33m\u001b[0m\u001b[1;33m\u001b[0m\u001b[0m\n\u001b[1;32m--> 970\u001b[1;33m                 \u001b[1;32mreturn\u001b[0m \u001b[0mmethod\u001b[0m\u001b[1;33m(\u001b[0m\u001b[0minclude\u001b[0m\u001b[1;33m=\u001b[0m\u001b[0minclude\u001b[0m\u001b[1;33m,\u001b[0m \u001b[0mexclude\u001b[0m\u001b[1;33m=\u001b[0m\u001b[0mexclude\u001b[0m\u001b[1;33m)\u001b[0m\u001b[1;33m\u001b[0m\u001b[1;33m\u001b[0m\u001b[0m\n\u001b[0m\u001b[0;32m    971\u001b[0m             \u001b[1;32mreturn\u001b[0m \u001b[1;32mNone\u001b[0m\u001b[1;33m\u001b[0m\u001b[1;33m\u001b[0m\u001b[0m\n\u001b[0;32m    972\u001b[0m         \u001b[1;32melse\u001b[0m\u001b[1;33m:\u001b[0m\u001b[1;33m\u001b[0m\u001b[1;33m\u001b[0m\u001b[0m\n",
      "\u001b[1;32m~\\anaconda3\\lib\\site-packages\\IPython\\core\\display.py\u001b[0m in \u001b[0;36m_repr_mimebundle_\u001b[1;34m(self, include, exclude)\u001b[0m\n\u001b[0;32m   1281\u001b[0m         \u001b[1;32mif\u001b[0m \u001b[0mself\u001b[0m\u001b[1;33m.\u001b[0m\u001b[0membed\u001b[0m\u001b[1;33m:\u001b[0m\u001b[1;33m\u001b[0m\u001b[1;33m\u001b[0m\u001b[0m\n\u001b[0;32m   1282\u001b[0m             \u001b[0mmimetype\u001b[0m \u001b[1;33m=\u001b[0m \u001b[0mself\u001b[0m\u001b[1;33m.\u001b[0m\u001b[0m_mimetype\u001b[0m\u001b[1;33m\u001b[0m\u001b[1;33m\u001b[0m\u001b[0m\n\u001b[1;32m-> 1283\u001b[1;33m             \u001b[0mdata\u001b[0m\u001b[1;33m,\u001b[0m \u001b[0mmetadata\u001b[0m \u001b[1;33m=\u001b[0m \u001b[0mself\u001b[0m\u001b[1;33m.\u001b[0m\u001b[0m_data_and_metadata\u001b[0m\u001b[1;33m(\u001b[0m\u001b[0malways_both\u001b[0m\u001b[1;33m=\u001b[0m\u001b[1;32mTrue\u001b[0m\u001b[1;33m)\u001b[0m\u001b[1;33m\u001b[0m\u001b[1;33m\u001b[0m\u001b[0m\n\u001b[0m\u001b[0;32m   1284\u001b[0m             \u001b[1;32mif\u001b[0m \u001b[0mmetadata\u001b[0m\u001b[1;33m:\u001b[0m\u001b[1;33m\u001b[0m\u001b[1;33m\u001b[0m\u001b[0m\n\u001b[0;32m   1285\u001b[0m                 \u001b[0mmetadata\u001b[0m \u001b[1;33m=\u001b[0m \u001b[1;33m{\u001b[0m\u001b[0mmimetype\u001b[0m\u001b[1;33m:\u001b[0m \u001b[0mmetadata\u001b[0m\u001b[1;33m}\u001b[0m\u001b[1;33m\u001b[0m\u001b[1;33m\u001b[0m\u001b[0m\n",
      "\u001b[1;32m~\\anaconda3\\lib\\site-packages\\IPython\\core\\display.py\u001b[0m in \u001b[0;36m_data_and_metadata\u001b[1;34m(self, always_both)\u001b[0m\n\u001b[0;32m   1293\u001b[0m             \u001b[0mb64_data\u001b[0m \u001b[1;33m=\u001b[0m \u001b[0mb2a_base64\u001b[0m\u001b[1;33m(\u001b[0m\u001b[0mself\u001b[0m\u001b[1;33m.\u001b[0m\u001b[0mdata\u001b[0m\u001b[1;33m)\u001b[0m\u001b[1;33m.\u001b[0m\u001b[0mdecode\u001b[0m\u001b[1;33m(\u001b[0m\u001b[1;34m'ascii'\u001b[0m\u001b[1;33m)\u001b[0m\u001b[1;33m\u001b[0m\u001b[1;33m\u001b[0m\u001b[0m\n\u001b[0;32m   1294\u001b[0m         \u001b[1;32mexcept\u001b[0m \u001b[0mTypeError\u001b[0m\u001b[1;33m:\u001b[0m\u001b[1;33m\u001b[0m\u001b[1;33m\u001b[0m\u001b[0m\n\u001b[1;32m-> 1295\u001b[1;33m             raise FileNotFoundError(\n\u001b[0m\u001b[0;32m   1296\u001b[0m                 \"No such file or directory: '%s'\" % (self.data))\n\u001b[0;32m   1297\u001b[0m         \u001b[0mmd\u001b[0m \u001b[1;33m=\u001b[0m \u001b[1;33m{\u001b[0m\u001b[1;33m}\u001b[0m\u001b[1;33m\u001b[0m\u001b[1;33m\u001b[0m\u001b[0m\n",
      "\u001b[1;31mFileNotFoundError\u001b[0m: No such file or directory: ''"
     ]
    },
    {
     "ename": "FileNotFoundError",
     "evalue": "No such file or directory: ''",
     "output_type": "error",
     "traceback": [
      "\u001b[1;31m---------------------------------------------------------------------------\u001b[0m",
      "\u001b[1;31mTypeError\u001b[0m                                 Traceback (most recent call last)",
      "\u001b[1;32m~\\anaconda3\\lib\\site-packages\\IPython\\core\\display.py\u001b[0m in \u001b[0;36m_data_and_metadata\u001b[1;34m(self, always_both)\u001b[0m\n\u001b[0;32m   1292\u001b[0m         \u001b[1;32mtry\u001b[0m\u001b[1;33m:\u001b[0m\u001b[1;33m\u001b[0m\u001b[1;33m\u001b[0m\u001b[0m\n\u001b[1;32m-> 1293\u001b[1;33m             \u001b[0mb64_data\u001b[0m \u001b[1;33m=\u001b[0m \u001b[0mb2a_base64\u001b[0m\u001b[1;33m(\u001b[0m\u001b[0mself\u001b[0m\u001b[1;33m.\u001b[0m\u001b[0mdata\u001b[0m\u001b[1;33m)\u001b[0m\u001b[1;33m.\u001b[0m\u001b[0mdecode\u001b[0m\u001b[1;33m(\u001b[0m\u001b[1;34m'ascii'\u001b[0m\u001b[1;33m)\u001b[0m\u001b[1;33m\u001b[0m\u001b[1;33m\u001b[0m\u001b[0m\n\u001b[0m\u001b[0;32m   1294\u001b[0m         \u001b[1;32mexcept\u001b[0m \u001b[0mTypeError\u001b[0m\u001b[1;33m:\u001b[0m\u001b[1;33m\u001b[0m\u001b[1;33m\u001b[0m\u001b[0m\n",
      "\u001b[1;31mTypeError\u001b[0m: a bytes-like object is required, not 'str'",
      "\nDuring handling of the above exception, another exception occurred:\n",
      "\u001b[1;31mFileNotFoundError\u001b[0m                         Traceback (most recent call last)",
      "\u001b[1;32m~\\anaconda3\\lib\\site-packages\\IPython\\core\\formatters.py\u001b[0m in \u001b[0;36m__call__\u001b[1;34m(self, obj)\u001b[0m\n\u001b[0;32m    343\u001b[0m             \u001b[0mmethod\u001b[0m \u001b[1;33m=\u001b[0m \u001b[0mget_real_method\u001b[0m\u001b[1;33m(\u001b[0m\u001b[0mobj\u001b[0m\u001b[1;33m,\u001b[0m \u001b[0mself\u001b[0m\u001b[1;33m.\u001b[0m\u001b[0mprint_method\u001b[0m\u001b[1;33m)\u001b[0m\u001b[1;33m\u001b[0m\u001b[1;33m\u001b[0m\u001b[0m\n\u001b[0;32m    344\u001b[0m             \u001b[1;32mif\u001b[0m \u001b[0mmethod\u001b[0m \u001b[1;32mis\u001b[0m \u001b[1;32mnot\u001b[0m \u001b[1;32mNone\u001b[0m\u001b[1;33m:\u001b[0m\u001b[1;33m\u001b[0m\u001b[1;33m\u001b[0m\u001b[0m\n\u001b[1;32m--> 345\u001b[1;33m                 \u001b[1;32mreturn\u001b[0m \u001b[0mmethod\u001b[0m\u001b[1;33m(\u001b[0m\u001b[1;33m)\u001b[0m\u001b[1;33m\u001b[0m\u001b[1;33m\u001b[0m\u001b[0m\n\u001b[0m\u001b[0;32m    346\u001b[0m             \u001b[1;32mreturn\u001b[0m \u001b[1;32mNone\u001b[0m\u001b[1;33m\u001b[0m\u001b[1;33m\u001b[0m\u001b[0m\n\u001b[0;32m    347\u001b[0m         \u001b[1;32melse\u001b[0m\u001b[1;33m:\u001b[0m\u001b[1;33m\u001b[0m\u001b[1;33m\u001b[0m\u001b[0m\n",
      "\u001b[1;32m~\\anaconda3\\lib\\site-packages\\IPython\\core\\display.py\u001b[0m in \u001b[0;36m_repr_png_\u001b[1;34m(self)\u001b[0m\n\u001b[0;32m   1311\u001b[0m     \u001b[1;32mdef\u001b[0m \u001b[0m_repr_png_\u001b[0m\u001b[1;33m(\u001b[0m\u001b[0mself\u001b[0m\u001b[1;33m)\u001b[0m\u001b[1;33m:\u001b[0m\u001b[1;33m\u001b[0m\u001b[1;33m\u001b[0m\u001b[0m\n\u001b[0;32m   1312\u001b[0m         \u001b[1;32mif\u001b[0m \u001b[0mself\u001b[0m\u001b[1;33m.\u001b[0m\u001b[0membed\u001b[0m \u001b[1;32mand\u001b[0m \u001b[0mself\u001b[0m\u001b[1;33m.\u001b[0m\u001b[0mformat\u001b[0m \u001b[1;33m==\u001b[0m \u001b[0mself\u001b[0m\u001b[1;33m.\u001b[0m\u001b[0m_FMT_PNG\u001b[0m\u001b[1;33m:\u001b[0m\u001b[1;33m\u001b[0m\u001b[1;33m\u001b[0m\u001b[0m\n\u001b[1;32m-> 1313\u001b[1;33m             \u001b[1;32mreturn\u001b[0m \u001b[0mself\u001b[0m\u001b[1;33m.\u001b[0m\u001b[0m_data_and_metadata\u001b[0m\u001b[1;33m(\u001b[0m\u001b[1;33m)\u001b[0m\u001b[1;33m\u001b[0m\u001b[1;33m\u001b[0m\u001b[0m\n\u001b[0m\u001b[0;32m   1314\u001b[0m \u001b[1;33m\u001b[0m\u001b[0m\n\u001b[0;32m   1315\u001b[0m     \u001b[1;32mdef\u001b[0m \u001b[0m_repr_jpeg_\u001b[0m\u001b[1;33m(\u001b[0m\u001b[0mself\u001b[0m\u001b[1;33m)\u001b[0m\u001b[1;33m:\u001b[0m\u001b[1;33m\u001b[0m\u001b[1;33m\u001b[0m\u001b[0m\n",
      "\u001b[1;32m~\\anaconda3\\lib\\site-packages\\IPython\\core\\display.py\u001b[0m in \u001b[0;36m_data_and_metadata\u001b[1;34m(self, always_both)\u001b[0m\n\u001b[0;32m   1293\u001b[0m             \u001b[0mb64_data\u001b[0m \u001b[1;33m=\u001b[0m \u001b[0mb2a_base64\u001b[0m\u001b[1;33m(\u001b[0m\u001b[0mself\u001b[0m\u001b[1;33m.\u001b[0m\u001b[0mdata\u001b[0m\u001b[1;33m)\u001b[0m\u001b[1;33m.\u001b[0m\u001b[0mdecode\u001b[0m\u001b[1;33m(\u001b[0m\u001b[1;34m'ascii'\u001b[0m\u001b[1;33m)\u001b[0m\u001b[1;33m\u001b[0m\u001b[1;33m\u001b[0m\u001b[0m\n\u001b[0;32m   1294\u001b[0m         \u001b[1;32mexcept\u001b[0m \u001b[0mTypeError\u001b[0m\u001b[1;33m:\u001b[0m\u001b[1;33m\u001b[0m\u001b[1;33m\u001b[0m\u001b[0m\n\u001b[1;32m-> 1295\u001b[1;33m             raise FileNotFoundError(\n\u001b[0m\u001b[0;32m   1296\u001b[0m                 \"No such file or directory: '%s'\" % (self.data))\n\u001b[0;32m   1297\u001b[0m         \u001b[0mmd\u001b[0m \u001b[1;33m=\u001b[0m \u001b[1;33m{\u001b[0m\u001b[1;33m}\u001b[0m\u001b[1;33m\u001b[0m\u001b[1;33m\u001b[0m\u001b[0m\n",
      "\u001b[1;31mFileNotFoundError\u001b[0m: No such file or directory: ''"
     ]
    },
    {
     "data": {
      "text/plain": [
       "<IPython.core.display.Image object>"
      ]
     },
     "execution_count": 38,
     "metadata": {},
     "output_type": "execute_result"
    }
   ],
   "source": [
    "from IPython import display\n",
    "path = \"\"\n",
    "if a.shape != (3,3):\n",
    "    path= \"https://www.iconsdb.com/icons/preview/orange/checkmark-xxl.png\"\n",
    "if a.shape == (3,4):\n",
    "    path= \"https://www.iconsdb.com/icons/preview/green/checkmark-xxl.png\"\n",
    "    \n",
    "display.Image(path)"
   ]
  },
  {
   "cell_type": "code",
   "execution_count": 39,
   "metadata": {},
   "outputs": [
    {
     "ename": "NameError",
     "evalue": "name 'my_cloud3' is not defined",
     "output_type": "error",
     "traceback": [
      "\u001b[1;31m---------------------------------------------------------------------------\u001b[0m",
      "\u001b[1;31mNameError\u001b[0m                                 Traceback (most recent call last)",
      "\u001b[1;32m<ipython-input-39-be6d32895bd8>\u001b[0m in \u001b[0;36m<module>\u001b[1;34m\u001b[0m\n\u001b[1;32m----> 1\u001b[1;33m \u001b[0mmy_cloud3\u001b[0m\u001b[1;33m\u001b[0m\u001b[1;33m\u001b[0m\u001b[0m\n\u001b[0m\u001b[0;32m      2\u001b[0m \u001b[0mmy_cloud4\u001b[0m\u001b[1;33m\u001b[0m\u001b[1;33m\u001b[0m\u001b[0m\n\u001b[0;32m      3\u001b[0m \u001b[0mdisplay\u001b[0m\u001b[1;33m.\u001b[0m\u001b[0mImage\u001b[0m\u001b[1;33m(\u001b[0m\u001b[0mpath\u001b[0m\u001b[1;33m)\u001b[0m\u001b[1;33m\u001b[0m\u001b[1;33m\u001b[0m\u001b[0m\n",
      "\u001b[1;31mNameError\u001b[0m: name 'my_cloud3' is not defined"
     ]
    }
   ],
   "source": [
    "my_cloud3\n",
    "my_cloud4    \n",
    "display.Image(path)"
   ]
  },
  {
   "cell_type": "code",
   "execution_count": null,
   "metadata": {},
   "outputs": [],
   "source": []
  }
 ],
 "metadata": {
  "kernelspec": {
   "display_name": "Python 3",
   "language": "python",
   "name": "python3"
  },
  "language_info": {
   "codemirror_mode": {
    "name": "ipython",
    "version": 3
   },
   "file_extension": ".py",
   "mimetype": "text/x-python",
   "name": "python",
   "nbconvert_exporter": "python",
   "pygments_lexer": "ipython3",
   "version": "3.8.5"
  }
 },
 "nbformat": 4,
 "nbformat_minor": 2
}
