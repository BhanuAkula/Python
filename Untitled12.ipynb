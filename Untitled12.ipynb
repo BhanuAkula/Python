{
 "cells": [
  {
   "cell_type": "code",
   "execution_count": null,
   "metadata": {},
   "outputs": [],
   "source": [
    "from sklearn.linear_model import LinearRegression\n",
    "\n",
    "from sklearn.metrics import mean_squared_error, r2_score\n",
    "\n",
    "#x = training_set_ii.iloc[:,:-1]\n",
    "#y = training_set_ii['L']\n",
    "\n",
    "#x_val = validation_set.iloc[:,:-1]\n",
    "#y_val = validation_set['L']\n",
    "\n",
    "st_sc = StandardScaler()\n",
    "\n",
    "param = st_sc.fit(x)\n",
    "scaled_x = st_sc.transform(x)\n",
    "scaled_x_val = st_sc.transform(x_val)"
   ]
  },
  {
   "cell_type": "code",
   "execution_count": null,
   "metadata": {},
   "outputs": [],
   "source": [
    "training_r2 = []\n",
    "validation_r2 = []\n",
    "\n",
    "lin_reg = LinearRegression()\n",
    "\n",
    "xlabel = y\n",
    "ylabel = y_val\n",
    "for i in range(1,13):\n",
    "    x_data = scaled_x[:,:i]\n",
    "    x_validation_data = scaled_x_val[:,:i]\n",
    "\n",
    "    y_pred = lin_reg.fit(x_data, xlabel).predict(x_data)\n",
    "    y_val_pred = lin_reg.predict(x_validation_data)\n",
    "    \n",
    "    training_r2.append(r2_score(xlabel,np.round(y_pred)))\n",
    "    validation_r2.append(r2_score(ylabel,np.round(y_val_pred)))"
   ]
  }
 ],
 "metadata": {
  "kernelspec": {
   "display_name": "Python 3",
   "language": "python",
   "name": "python3"
  },
  "language_info": {
   "codemirror_mode": {
    "name": "ipython",
    "version": 3
   },
   "file_extension": ".py",
   "mimetype": "text/x-python",
   "name": "python",
   "nbconvert_exporter": "python",
   "pygments_lexer": "ipython3",
   "version": "3.8.5"
  }
 },
 "nbformat": 4,
 "nbformat_minor": 4
}
