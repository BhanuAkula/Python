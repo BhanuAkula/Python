{
 "cells": [
  {
   "cell_type": "code",
   "execution_count": 2,
   "metadata": {},
   "outputs": [],
   "source": [
    "def probability(space, event):\n",
    "    '''define the probability for a uniform distribution'''\n",
    "    '''P(E) = n(E)/n(S), n(E) and n(S) are the cardinality of the sets E, the event, and S, the sample space'''\n",
    "    prob = ????\n",
    "    return prob"
   ]
  },
  {
   "cell_type": "code",
   "execution_count": 3,
   "metadata": {},
   "outputs": [],
   "source": [
    "'''The aim of this function is to check if a number if an even number'''\n",
    "def check_even(number):\n",
    "    for i in range(2, number):\n",
    "        if number % 2 !=0:\n",
    "            return ????\n",
    "    return True"
   ]
  },
  {
   "cell_type": "code",
   "execution_count": null,
   "metadata": {},
   "outputs": [],
   "source": [
    "from sympy import Finiteset\n",
    "S = Finiteset{1, 2, 3, 4, 5, 6}\n",
    "a = Finiteset{2, 3, 5}"
   ]
  },
  {
   "cell_type": "code",
   "execution_count": null,
   "metadata": {},
   "outputs": [],
   "source": [
    "if __name__=='__main__':\n",
    "    space = range(2,50)\n",
    "    evens = []\n",
    "    for j in space:\n",
    "        if check_even(j):\n",
    "            evens.append(j)\n",
    "    p = probability(space, evens) \n",
    "    \n",
    "    print('Sample space: {0}'.format(space))\n",
    "    print('Event: {0}'.format(evens))\n",
    "    print('Probability of even numbers: {0:.5f}'.format(p))"
   ]
  },
  {
   "cell_type": "code",
   "execution_count": 1,
   "metadata": {},
   "outputs": [
    {
     "name": "stdout",
     "output_type": "stream",
     "text": [
      "Object `norm.rvs` not found.\n"
     ]
    }
   ],
   "source": [
    "norm.rvs?"
   ]
  },
  {
   "cell_type": "code",
   "execution_count": 3,
   "metadata": {},
   "outputs": [
    {
     "data": {
      "text/plain": [
       "(array([0.00132259, 0.01110978, 0.06903933, 0.21637613, 0.36291937,\n",
       "        0.357629  , 0.21399546, 0.07644584, 0.01269689, 0.00105807]),\n",
       " array([-3.78352881e+00, -3.02743801e+00, -2.27134721e+00, -1.51525641e+00,\n",
       "        -7.59165607e-01, -3.07480742e-03,  7.53015992e-01,  1.50910679e+00,\n",
       "         2.26519759e+00,  3.02128839e+00,  3.77737919e+00]),\n",
       " [<matplotlib.patches.Polygon at 0xccfd6b37c0>])"
      ]
     },
     "execution_count": 3,
     "metadata": {},
     "output_type": "execute_result"
    },
    {
     "data": {
      "image/png": "[encoded data removed]",
      "text/plain": [
       "<Figure size 432x288 with 1 Axes>"
      ]
     },
     "metadata": {
      "needs_background": "light"
     },
     "output_type": "display_data"
    }
   ],
   "source": [
    "from scipy.stats import norm\n",
    "import matplotlib.pyplot as plt\n",
    "\n",
    "r = norm.rvs(size=5000)\n",
    "fig, ax = plt.subplots(1,1)\n",
    "ax.hist(r, density=True, histtype='stepfilled')"
   ]
  },
  {
   "cell_type": "code",
   "execution_count": 5,
   "metadata": {},
   "outputs": [],
   "source": [
    "import numpy as np\n",
    "mu, sigma = 30, 10 # mean and standard deviation\n",
    "s = np.random.normal(mu, sigma, 5000)"
   ]
  },
  {
   "cell_type": "code",
   "execution_count": 6,
   "metadata": {},
   "outputs": [
    {
     "data": {
      "text/plain": [
       "0.15996344641576243"
      ]
     },
     "execution_count": 6,
     "metadata": {},
     "output_type": "execute_result"
    }
   ],
   "source": [
    "abs(mu - np.mean(s))"
   ]
  },
  {
   "cell_type": "code",
   "execution_count": 7,
   "metadata": {},
   "outputs": [
    {
     "data": {
      "text/plain": [
       "0.22822569761108724"
      ]
     },
     "execution_count": 7,
     "metadata": {},
     "output_type": "execute_result"
    }
   ],
   "source": [
    "abs(sigma - np.std(s, ddof=1))"
   ]
  },
  {
   "cell_type": "code",
   "execution_count": 8,
   "metadata": {},
   "outputs": [
    {
     "data": {
      "image/png": "[encoded data removed]",
      "text/plain": [
       "<Figure size 432x288 with 1 Axes>"
      ]
     },
     "metadata": {
      "needs_background": "light"
     },
     "output_type": "display_data"
    }
   ],
   "source": [
    "import matplotlib.pyplot as plt\n",
    "count, bins, ignored = plt.hist(s, 30, density=True)\n",
    "plt.plot(bins, 1/(sigma * np.sqrt(2 * np.pi)) *\n",
    "               np.exp( - (bins - mu)**2 / (2 * sigma**2) ),\n",
    "         linewidth=2, color='r')\n",
    "plt.show()"
   ]
  },
  {
   "cell_type": "code",
   "execution_count": 9,
   "metadata": {},
   "outputs": [],
   "source": [
    "norm.rvs?"
   ]
  },
  {
   "cell_type": "code",
   "execution_count": null,
   "metadata": {},
   "outputs": [],
   "source": []
  }
 ],
 "metadata": {
  "kernelspec": {
   "display_name": "Python 3",
   "language": "python",
   "name": "python3"
  },
  "language_info": {
   "codemirror_mode": {
    "name": "ipython",
    "version": 3
   },
   "file_extension": ".py",
   "mimetype": "text/x-python",
   "name": "python",
   "nbconvert_exporter": "python",
   "pygments_lexer": "ipython3",
   "version": "3.8.5"
  }
 },
 "nbformat": 4,
 "nbformat_minor": 2
}
